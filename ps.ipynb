{
 "cells": [
  {
   "cell_type": "code",
   "execution_count": 1,
   "metadata": {},
   "outputs": [],
   "source": [
    "%matplotlib inline\n",
    "import matplotlib\n",
    "import seaborn as sns\n",
    "sns.set()\n",
    "matplotlib.rcParams['figure.dpi'] = 144"
   ]
  },
  {
   "cell_type": "code",
   "execution_count": 2,
   "metadata": {},
   "outputs": [],
   "source": [
    "from static_grader import grader"
   ]
  },
  {
   "cell_type": "code",
   "execution_count": 3,
   "metadata": {},
   "outputs": [],
   "source": [
    "import gzip\n",
    "import ujson as json\n",
    "import pprint\n",
    "\n",
    "import pandas as pd\n",
    "import numpy as np"
   ]
  },
  {
   "cell_type": "markdown",
   "metadata": {},
   "source": [
    "# PS Miniproject\n"
   ]
  },
  {
   "cell_type": "markdown",
   "metadata": {},
   "source": [
    "## Introduction\n"
   ]
  },
  {
   "cell_type": "markdown",
   "metadata": {},
   "source": [
    "The objective of this miniproject is to apply probability and statistics to yelp data for businesses primarily in AZ and NV. We will study the data to find meaningful patterns in the ratings and data for these businesses.\n"
   ]
  },
  {
   "cell_type": "markdown",
   "metadata": {},
   "source": [
    "## Metric\n"
   ]
  },
  {
   "cell_type": "markdown",
   "metadata": {},
   "source": [
    "Your answers will be assessed based on how well you apply these standard statistical techniques.\n"
   ]
  },
  {
   "cell_type": "markdown",
   "metadata": {},
   "source": [
    "## Download and parse the incoming data\n"
   ]
  },
  {
   "cell_type": "markdown",
   "metadata": {},
   "source": [
    "The data are [here](s3://dataincubator-course/mldata/yelp_train_academic_dataset_business.json.gz).\n",
    "Notice that each row of the file is a json blurb.  You can read it with Python."
   ]
  },
  {
   "cell_type": "code",
   "execution_count": 4,
   "metadata": {},
   "outputs": [
    {
     "name": "stdout",
     "output_type": "stream",
     "text": [
      "download: s3://dataincubator-course/mldata/yelp_train_academic_dataset_business.json.gz to data/yelp_train_academic_dataset_business.json.gz\r\n"
     ]
    }
   ],
   "source": [
    "!mkdir -p data/\n",
    "!aws s3 cp s3://dataincubator-course/mldata/yelp_train_academic_dataset_business.json.gz data"
   ]
  },
  {
   "cell_type": "code",
   "execution_count": 5,
   "metadata": {},
   "outputs": [
    {
     "data": {
      "text/html": [
       "<div>\n",
       "<style>\n",
       "    .dataframe thead tr:only-child th {\n",
       "        text-align: right;\n",
       "    }\n",
       "\n",
       "    .dataframe thead th {\n",
       "        text-align: left;\n",
       "    }\n",
       "\n",
       "    .dataframe tbody tr th {\n",
       "        vertical-align: top;\n",
       "    }\n",
       "</style>\n",
       "<table border=\"1\" class=\"dataframe\">\n",
       "  <thead>\n",
       "    <tr style=\"text-align: right;\">\n",
       "      <th></th>\n",
       "      <th>attributes</th>\n",
       "      <th>business_id</th>\n",
       "      <th>categories</th>\n",
       "      <th>city</th>\n",
       "      <th>full_address</th>\n",
       "      <th>hours</th>\n",
       "      <th>latitude</th>\n",
       "      <th>longitude</th>\n",
       "      <th>name</th>\n",
       "      <th>neighborhoods</th>\n",
       "      <th>open</th>\n",
       "      <th>review_count</th>\n",
       "      <th>stars</th>\n",
       "      <th>state</th>\n",
       "      <th>type</th>\n",
       "    </tr>\n",
       "  </thead>\n",
       "  <tbody>\n",
       "    <tr>\n",
       "      <th>0</th>\n",
       "      <td>{u'By Appointment Only': True}</td>\n",
       "      <td>vcNAWiLM4dR7D2nwwJ7nCA</td>\n",
       "      <td>[Doctors, Health &amp; Medical]</td>\n",
       "      <td>Phoenix</td>\n",
       "      <td>4840 E Indian School Rd\\nSte 101\\nPhoenix, AZ ...</td>\n",
       "      <td>{u'Thursday': {u'close': u'17:00', u'open': u'...</td>\n",
       "      <td>33.499313</td>\n",
       "      <td>-111.983758</td>\n",
       "      <td>Eric Goldberg, MD</td>\n",
       "      <td>[]</td>\n",
       "      <td>True</td>\n",
       "      <td>7</td>\n",
       "      <td>3.5</td>\n",
       "      <td>AZ</td>\n",
       "      <td>business</td>\n",
       "    </tr>\n",
       "    <tr>\n",
       "      <th>1</th>\n",
       "      <td>{u'Take-out': True, u'Price Range': 1, u'Outdo...</td>\n",
       "      <td>JwUE5GmEO-sH1FuwJgKBlQ</td>\n",
       "      <td>[Restaurants]</td>\n",
       "      <td>De Forest</td>\n",
       "      <td>6162 US Highway 51\\nDe Forest, WI 53532</td>\n",
       "      <td>{}</td>\n",
       "      <td>43.238893</td>\n",
       "      <td>-89.335844</td>\n",
       "      <td>Pine Cone Restaurant</td>\n",
       "      <td>[]</td>\n",
       "      <td>True</td>\n",
       "      <td>26</td>\n",
       "      <td>4.0</td>\n",
       "      <td>WI</td>\n",
       "      <td>business</td>\n",
       "    </tr>\n",
       "    <tr>\n",
       "      <th>2</th>\n",
       "      <td>{u'Take-out': True, u'Outdoor Seating': False,...</td>\n",
       "      <td>uGykseHzyS5xAMWoN6YUqA</td>\n",
       "      <td>[American (Traditional), Restaurants]</td>\n",
       "      <td>De Forest</td>\n",
       "      <td>505 W North St\\nDe Forest, WI 53532</td>\n",
       "      <td>{u'Monday': {u'close': u'22:00', u'open': u'06...</td>\n",
       "      <td>43.252267</td>\n",
       "      <td>-89.353437</td>\n",
       "      <td>Deforest Family Restaurant</td>\n",
       "      <td>[]</td>\n",
       "      <td>True</td>\n",
       "      <td>16</td>\n",
       "      <td>4.0</td>\n",
       "      <td>WI</td>\n",
       "      <td>business</td>\n",
       "    </tr>\n",
       "    <tr>\n",
       "      <th>3</th>\n",
       "      <td>{u'Take-out': True, u'Accepts Credit Cards': T...</td>\n",
       "      <td>LRKJF43s9-3jG9Lgx4zODg</td>\n",
       "      <td>[Food, Ice Cream &amp; Frozen Yogurt, Fast Food, R...</td>\n",
       "      <td>De Forest</td>\n",
       "      <td>4910 County Rd V\\nDe Forest, WI 53532</td>\n",
       "      <td>{u'Monday': {u'close': u'22:00', u'open': u'10...</td>\n",
       "      <td>43.251045</td>\n",
       "      <td>-89.374983</td>\n",
       "      <td>Culver's</td>\n",
       "      <td>[]</td>\n",
       "      <td>True</td>\n",
       "      <td>7</td>\n",
       "      <td>4.5</td>\n",
       "      <td>WI</td>\n",
       "      <td>business</td>\n",
       "    </tr>\n",
       "    <tr>\n",
       "      <th>4</th>\n",
       "      <td>{u'Take-out': True, u'Has TV': False, u'Outdoo...</td>\n",
       "      <td>RgDg-k9S5YD_BaxMckifkg</td>\n",
       "      <td>[Chinese, Restaurants]</td>\n",
       "      <td>De Forest</td>\n",
       "      <td>631 S Main St\\nDe Forest, WI 53532</td>\n",
       "      <td>{u'Monday': {u'close': u'22:00', u'open': u'11...</td>\n",
       "      <td>43.240875</td>\n",
       "      <td>-89.343722</td>\n",
       "      <td>Chang Jiang Chinese Kitchen</td>\n",
       "      <td>[]</td>\n",
       "      <td>True</td>\n",
       "      <td>3</td>\n",
       "      <td>4.0</td>\n",
       "      <td>WI</td>\n",
       "      <td>business</td>\n",
       "    </tr>\n",
       "  </tbody>\n",
       "</table>\n",
       "</div>"
      ],
      "text/plain": [
       "                                          attributes             business_id  \\\n",
       "0                     {u'By Appointment Only': True}  vcNAWiLM4dR7D2nwwJ7nCA   \n",
       "1  {u'Take-out': True, u'Price Range': 1, u'Outdo...  JwUE5GmEO-sH1FuwJgKBlQ   \n",
       "2  {u'Take-out': True, u'Outdoor Seating': False,...  uGykseHzyS5xAMWoN6YUqA   \n",
       "3  {u'Take-out': True, u'Accepts Credit Cards': T...  LRKJF43s9-3jG9Lgx4zODg   \n",
       "4  {u'Take-out': True, u'Has TV': False, u'Outdoo...  RgDg-k9S5YD_BaxMckifkg   \n",
       "\n",
       "                                          categories       city  \\\n",
       "0                        [Doctors, Health & Medical]    Phoenix   \n",
       "1                                      [Restaurants]  De Forest   \n",
       "2              [American (Traditional), Restaurants]  De Forest   \n",
       "3  [Food, Ice Cream & Frozen Yogurt, Fast Food, R...  De Forest   \n",
       "4                             [Chinese, Restaurants]  De Forest   \n",
       "\n",
       "                                        full_address  \\\n",
       "0  4840 E Indian School Rd\\nSte 101\\nPhoenix, AZ ...   \n",
       "1            6162 US Highway 51\\nDe Forest, WI 53532   \n",
       "2                505 W North St\\nDe Forest, WI 53532   \n",
       "3              4910 County Rd V\\nDe Forest, WI 53532   \n",
       "4                 631 S Main St\\nDe Forest, WI 53532   \n",
       "\n",
       "                                               hours   latitude   longitude  \\\n",
       "0  {u'Thursday': {u'close': u'17:00', u'open': u'...  33.499313 -111.983758   \n",
       "1                                                 {}  43.238893  -89.335844   \n",
       "2  {u'Monday': {u'close': u'22:00', u'open': u'06...  43.252267  -89.353437   \n",
       "3  {u'Monday': {u'close': u'22:00', u'open': u'10...  43.251045  -89.374983   \n",
       "4  {u'Monday': {u'close': u'22:00', u'open': u'11...  43.240875  -89.343722   \n",
       "\n",
       "                          name neighborhoods  open  review_count  stars state  \\\n",
       "0            Eric Goldberg, MD            []  True             7    3.5    AZ   \n",
       "1         Pine Cone Restaurant            []  True            26    4.0    WI   \n",
       "2   Deforest Family Restaurant            []  True            16    4.0    WI   \n",
       "3                     Culver's            []  True             7    4.5    WI   \n",
       "4  Chang Jiang Chinese Kitchen            []  True             3    4.0    WI   \n",
       "\n",
       "       type  \n",
       "0  business  \n",
       "1  business  \n",
       "2  business  \n",
       "3  business  \n",
       "4  business  "
      ]
     },
     "execution_count": 5,
     "metadata": {},
     "output_type": "execute_result"
    }
   ],
   "source": [
    "with gzip.open(\"data/yelp_train_academic_dataset_business.json.gz\") as fin:\n",
    "    data = [json.loads(line) for line in fin]\n",
    "df = pd.DataFrame(data)\n",
    "df.head()"
   ]
  },
  {
   "cell_type": "markdown",
   "metadata": {},
   "source": [
    "## City z-score"
   ]
  },
  {
   "cell_type": "code",
   "execution_count": 6,
   "metadata": {},
   "outputs": [],
   "source": [
    "#def more_than5(df):\n",
    "#    if df['business_id'].sum()>4:\n",
    "#        return df\n",
    "#more_than5(ah)"
   ]
  },
  {
   "cell_type": "code",
   "execution_count": 7,
   "metadata": {},
   "outputs": [
    {
     "data": {
      "text/plain": [
       "167"
      ]
     },
     "execution_count": 7,
     "metadata": {},
     "output_type": "execute_result"
    }
   ],
   "source": [
    "city_group = df.groupby('city')\n",
    "len(city_group)"
   ]
  },
  {
   "cell_type": "code",
   "execution_count": 8,
   "metadata": {},
   "outputs": [
    {
     "data": {
      "text/plain": [
       "city\n",
       "Ahwatukee           8\n",
       "Anthem             55\n",
       "Apache Junction    80\n",
       "Arcadia             1\n",
       "Atlanta             1\n",
       "Name: stars, dtype: int64"
      ]
     },
     "execution_count": 8,
     "metadata": {},
     "output_type": "execute_result"
    }
   ],
   "source": [
    "city_group.stars.count().head()"
   ]
  },
  {
   "cell_type": "code",
   "execution_count": 9,
   "metadata": {},
   "outputs": [
    {
     "data": {
      "text/plain": [
       "city\n",
       "Ahwatukee           8\n",
       "Anthem             55\n",
       "Apache Junction    80\n",
       "Arcadia             1\n",
       "Atlanta             1\n",
       "Name: business_id, dtype: int64"
      ]
     },
     "execution_count": 9,
     "metadata": {},
     "output_type": "execute_result"
    }
   ],
   "source": [
    "city_groups = city_group.business_id.nunique()\n",
    "city_groups.head()"
   ]
  },
  {
   "cell_type": "code",
   "execution_count": 10,
   "metadata": {},
   "outputs": [
    {
     "data": {
      "text/plain": [
       "city\n",
       "Ahwatukee           True\n",
       "Anthem              True\n",
       "Apache Junction     True\n",
       "Arcadia            False\n",
       "Atlanta            False\n",
       "Name: business_id, dtype: bool"
      ]
     },
     "execution_count": 10,
     "metadata": {},
     "output_type": "execute_result"
    }
   ],
   "source": [
    "busi_boolean = city_group.business_id.nunique() > 4\n",
    "busi_boolean.head()"
   ]
  },
  {
   "cell_type": "code",
   "execution_count": 11,
   "metadata": {},
   "outputs": [
    {
     "data": {
      "text/html": [
       "<div>\n",
       "<style>\n",
       "    .dataframe thead tr:only-child th {\n",
       "        text-align: right;\n",
       "    }\n",
       "\n",
       "    .dataframe thead th {\n",
       "        text-align: left;\n",
       "    }\n",
       "\n",
       "    .dataframe tbody tr th {\n",
       "        vertical-align: top;\n",
       "    }\n",
       "</style>\n",
       "<table border=\"1\" class=\"dataframe\">\n",
       "  <thead>\n",
       "    <tr style=\"text-align: right;\">\n",
       "      <th></th>\n",
       "      <th>business_id</th>\n",
       "    </tr>\n",
       "    <tr>\n",
       "      <th>city</th>\n",
       "      <th></th>\n",
       "    </tr>\n",
       "  </thead>\n",
       "  <tbody>\n",
       "    <tr>\n",
       "      <th>Ahwatukee</th>\n",
       "      <td>True</td>\n",
       "    </tr>\n",
       "    <tr>\n",
       "      <th>Anthem</th>\n",
       "      <td>True</td>\n",
       "    </tr>\n",
       "    <tr>\n",
       "      <th>Apache Junction</th>\n",
       "      <td>True</td>\n",
       "    </tr>\n",
       "    <tr>\n",
       "      <th>Arcadia</th>\n",
       "      <td>False</td>\n",
       "    </tr>\n",
       "    <tr>\n",
       "      <th>Atlanta</th>\n",
       "      <td>False</td>\n",
       "    </tr>\n",
       "  </tbody>\n",
       "</table>\n",
       "</div>"
      ],
      "text/plain": [
       "                 business_id\n",
       "city                        \n",
       "Ahwatukee               True\n",
       "Anthem                  True\n",
       "Apache Junction         True\n",
       "Arcadia                False\n",
       "Atlanta                False"
      ]
     },
     "execution_count": 11,
     "metadata": {},
     "output_type": "execute_result"
    }
   ],
   "source": [
    "df_boolean = busi_boolean.to_frame()\n",
    "df_boolean.head()"
   ]
  },
  {
   "cell_type": "code",
   "execution_count": 12,
   "metadata": {},
   "outputs": [
    {
     "data": {
      "text/plain": [
       "37797"
      ]
     },
     "execution_count": 12,
     "metadata": {},
     "output_type": "execute_result"
    }
   ],
   "source": [
    "df_popular_cities = df.set_index('city').loc[busi_boolean]\n",
    "len(df_popular_cities)"
   ]
  },
  {
   "cell_type": "code",
   "execution_count": 13,
   "metadata": {},
   "outputs": [
    {
     "data": {
      "text/plain": [
       "37797"
      ]
     },
     "execution_count": 13,
     "metadata": {},
     "output_type": "execute_result"
    }
   ],
   "source": [
    "df_popular_cities = df.set_index('city').loc[busi_boolean]\n",
    "len(df_popular_cities)"
   ]
  },
  {
   "cell_type": "code",
   "execution_count": 14,
   "metadata": {},
   "outputs": [
    {
     "data": {
      "text/plain": [
       "pandas.core.frame.DataFrame"
      ]
     },
     "execution_count": 14,
     "metadata": {},
     "output_type": "execute_result"
    }
   ],
   "source": [
    "type(df_popular_cities)"
   ]
  },
  {
   "cell_type": "code",
   "execution_count": 15,
   "metadata": {},
   "outputs": [],
   "source": [
    "#def get_5busi_city(GroupByObject):\n",
    "#    if GroupByObject.business_id.unique() > 4:\n",
    "#        return GroupByObject\n",
    "#    else:\n",
    "#        pass"
   ]
  },
  {
   "cell_type": "code",
   "execution_count": 16,
   "metadata": {},
   "outputs": [],
   "source": [
    "#city_group = df_popular_cities.groupby('city')"
   ]
  },
  {
   "cell_type": "code",
   "execution_count": 17,
   "metadata": {},
   "outputs": [],
   "source": [
    "#city_5 = city_group.apply(get_5busi_city)"
   ]
  },
  {
   "cell_type": "code",
   "execution_count": 18,
   "metadata": {},
   "outputs": [],
   "source": [
    "#city_5[city_5['business_id']<=5]"
   ]
  },
  {
   "cell_type": "markdown",
   "metadata": {},
   "source": [
    "Do certain cities have better amenities than others?  We can test this by comparing the average score or rating of businesses in one city vs. the average across all businesses in the data set.  We will also want to use statistics to help determine if this difference is statistically significant.\n",
    "\n",
    "Compute the z-score for average ratings for every city.\n",
    "\n",
    "**Note**:\n",
    "1. Only look at cities with at least five businesses, both for the city averages and when computing the average across all cities.\n",
    "2. Estimate the population's standard deviation and mean.\n",
    "3. Estimate each city's mean and use the population statistics to compute the z score.\n",
    "4. Do not do any cleaning of the city names.  (You will get Las Vegas twice.  That's okay.)"
   ]
  },
  {
   "cell_type": "code",
   "execution_count": 19,
   "metadata": {},
   "outputs": [
    {
     "data": {
      "text/plain": [
       "0.88905436664907611"
      ]
     },
     "execution_count": 19,
     "metadata": {},
     "output_type": "execute_result"
    }
   ],
   "source": [
    "total_std = df_popular_cities.stars.std(ddof=0)\n",
    "total_std"
   ]
  },
  {
   "cell_type": "code",
   "execution_count": 20,
   "metadata": {},
   "outputs": [
    {
     "data": {
      "text/plain": [
       "city\n",
       "Ahwatukee          0.314328\n",
       "Anthem             0.119880\n",
       "Apache Junction    0.099399\n",
       "Arcadia            0.889054\n",
       "Atlanta            0.889054\n",
       "Name: stars, dtype: float64"
      ]
     },
     "execution_count": 20,
     "metadata": {},
     "output_type": "execute_result"
    }
   ],
   "source": [
    "city_std_err = total_std / np.sqrt(city_group.stars.count())\n",
    "city_std_err.head()"
   ]
  },
  {
   "cell_type": "code",
   "execution_count": 21,
   "metadata": {},
   "outputs": [
    {
     "data": {
      "text/plain": [
       "3.6726062915046169"
      ]
     },
     "execution_count": 21,
     "metadata": {},
     "output_type": "execute_result"
    }
   ],
   "source": [
    "total_mean = df_popular_cities.stars.mean()\n",
    "total_mean"
   ]
  },
  {
   "cell_type": "code",
   "execution_count": 22,
   "metadata": {},
   "outputs": [
    {
     "data": {
      "text/plain": [
       "city\n",
       "Ahwatukee          3.687500\n",
       "Anthem             3.781818\n",
       "Apache Junction    3.637500\n",
       "Avondale           3.538627\n",
       "Boulder City       4.136364\n",
       "Name: stars, dtype: float64"
      ]
     },
     "execution_count": 22,
     "metadata": {},
     "output_type": "execute_result"
    }
   ],
   "source": [
    "city_gro = df_popular_cities.groupby('city')\n",
    "city_mean = city_gro['stars'].mean()\n",
    "city_mean.head()"
   ]
  },
  {
   "cell_type": "code",
   "execution_count": 23,
   "metadata": {},
   "outputs": [
    {
     "data": {
      "text/plain": [
       "city\n",
       "Ahwatukee          0.047383\n",
       "Anthem             0.911010\n",
       "Apache Junction   -0.353184\n",
       "Arcadia                 NaN\n",
       "Atlanta                 NaN\n",
       "Name: stars, dtype: float64"
      ]
     },
     "execution_count": 23,
     "metadata": {},
     "output_type": "execute_result"
    }
   ],
   "source": [
    "city_z = (city_mean - total_mean) / city_std_err\n",
    "city_z.head()"
   ]
  },
  {
   "cell_type": "code",
   "execution_count": 24,
   "metadata": {},
   "outputs": [
    {
     "data": {
      "text/html": [
       "<div>\n",
       "<style>\n",
       "    .dataframe thead tr:only-child th {\n",
       "        text-align: right;\n",
       "    }\n",
       "\n",
       "    .dataframe thead th {\n",
       "        text-align: left;\n",
       "    }\n",
       "\n",
       "    .dataframe tbody tr th {\n",
       "        vertical-align: top;\n",
       "    }\n",
       "</style>\n",
       "<table border=\"1\" class=\"dataframe\">\n",
       "  <thead>\n",
       "    <tr style=\"text-align: right;\">\n",
       "      <th></th>\n",
       "      <th>city</th>\n",
       "      <th>stars</th>\n",
       "    </tr>\n",
       "  </thead>\n",
       "  <tbody>\n",
       "    <tr>\n",
       "      <th>0</th>\n",
       "      <td>Ahwatukee</td>\n",
       "      <td>0.047383</td>\n",
       "    </tr>\n",
       "    <tr>\n",
       "      <th>1</th>\n",
       "      <td>Anthem</td>\n",
       "      <td>0.911010</td>\n",
       "    </tr>\n",
       "    <tr>\n",
       "      <th>2</th>\n",
       "      <td>Apache Junction</td>\n",
       "      <td>-0.353184</td>\n",
       "    </tr>\n",
       "    <tr>\n",
       "      <th>3</th>\n",
       "      <td>Arcadia</td>\n",
       "      <td>NaN</td>\n",
       "    </tr>\n",
       "    <tr>\n",
       "      <th>4</th>\n",
       "      <td>Atlanta</td>\n",
       "      <td>NaN</td>\n",
       "    </tr>\n",
       "  </tbody>\n",
       "</table>\n",
       "</div>"
      ],
      "text/plain": [
       "              city     stars\n",
       "0        Ahwatukee  0.047383\n",
       "1           Anthem  0.911010\n",
       "2  Apache Junction -0.353184\n",
       "3          Arcadia       NaN\n",
       "4          Atlanta       NaN"
      ]
     },
     "execution_count": 24,
     "metadata": {},
     "output_type": "execute_result"
    }
   ],
   "source": [
    "df_city_z = pd.DataFrame(city_z).reset_index()\n",
    "df_city_z.head()"
   ]
  },
  {
   "cell_type": "code",
   "execution_count": 25,
   "metadata": {},
   "outputs": [
    {
     "name": "stdout",
     "output_type": "stream",
     "text": [
      "[(u'Ahwatukee', 0.047382669358208063), (u'Anthem', 0.91100959187573716), (u'Apache Junction', -0.35318449438866156), (u'Arcadia', nan), (u'Atlanta', nan), (u'Avondale', -2.3003217405756531), (u'Black Canyon City', nan), (u'Bonnyrigg', nan), (u'Boulder City', 2.4466611274394734), (u'Buckeye', -2.5035752877810342), (u'C Las Vegas', nan), (u'Cambridge', 1.3264522703445301), (u'Carefree', 1.4596358029225591), (u'Casa Grande', -1.6299874135344514), (u'Cave Creek', 3.0846624289022677), (u'Centennial Hills', nan), (u'Central City Village', nan), (u'Central Henderson', nan), (u'Chandler', -0.21683034896274497), (u'Chandler-Gilbert', nan), (u'City of Edinburgh', nan), (u'Clark County', nan), (u'Coolidge', -0.74796439569439954), (u'Cottage Grove', -1.5197633109207875), (u'Cramond', nan), (u'Dalkeith', nan), (u'Dane', nan), (u'De Forest', 0.21323228615356482), (u'DeForest', 1.0749414447548939), (u'Deforest', nan), (u'Eagan', nan), (u'Edinburgh', 7.08965791495209), (u'El Mirage', 0.16876529309668964), (u'Enterprise', -1.5197633109207875), (u'Fitchburg', -2.130703246196616), (u'Florence', -0.25488061242093363), (u'Fort Kinnaird', nan), (u'Fort McDowell', -0.93879275145049601), (u'Fort Mcdowell', nan), (u'Fountain Hills', 1.3585300256751172), (u'Fountain Hls', nan), (u'Gila Bend', -1.3389790441109743), (u'Gilbert', 2.7501238944427042), (u'Glendale', -2.4257333247748818), (u'Glendale Az', nan), (u'Gold Canyon', -1.0273237254715457), (u'Goldfield', nan), (u'Goodyear', -2.6152730694493793), (u'Green Valley', nan), (u'Guadalupe', 0.90202304931451738), (u'Heidelberg', nan), (u'Henderson', 0.71901757196870053), (u'Henderson ', nan), (u'Henderson (Green  Valley)', nan), (u'Henderson (Stephanie)', nan), (u'Henderson and Las vegas', nan), (u'Higley', -0.61394335386579191), (u'Inverkeithing', nan), (u'Juniper Green', nan), (u'Kitchener', 0.31097056198802331), (u'Lake Las Vegas', nan), (u'Las Vegas', -2.4883711025822794), (u'Las Vegas ', -0.18261268319327864), (u'Las Vegas East', nan), (u'Las Vegas, NV 89147', nan), (u'Lasswade', nan), (u'Laveen', -2.8056133498687124), (u'Leith', nan), (u'Litchfield Park', 0.23867016635520896), (u'Litchfield Park ', nan), (u'Loanhead', 0.32040896798599017), (u'London', nan), (u'Madison', -1.1569074420629899), (u'Maricopa', -1.486533671933447), (u'Mc Farland', -2.0367034363958538), (u'McFarland', 1.8294739215238001), (u'Mcfarland', nan), (u'Mesa', -3.986107714970176), (u'Mesa ', nan), (u'Middleton', -0.8036734933334333), (u'Midlothian', nan), (u'Monona', -1.6673248929036644), (u'Morristown', nan), (u'Musselburgh', -0.43609834354953481), (u'N E Las Vegas', nan), (u'N Las Vegas', -0.35029086316809577), (u'N W Las Vegas', nan), (u'N. Las Vegas', nan), (u'NELLIS AFB', nan), (u'Nellis AFB', 1.8546085076523138), (u'Nellis Afb', nan), (u'Nellis Air Force Base', nan), (u'New River', -0.24596155595373648), (u'New Town', nan), (u'New York', nan), (u'Newberry Springs', nan), (u'Newbridge', nan), (u'Newington', nan), (u'North Las Vegas', -5.4843588151481084), (u'North Las Vegas ', nan), (u'North Queensferry', nan), (u'North Scottsdale', nan), (u'Old Town', nan), (u'Paradise', -0.91718256678933674), (u'Paradise Valley', -0.034045695418941646), (u'Penicuik', nan), (u'Peoria', -0.87692036055225098), (u'Pheonix', nan), (u'Phoenix', -0.21345872159566445), (u'Phoenix ', nan), (u'Phoenix Sky Harbor Center', nan), (u'Portobello', nan), (u'Queen Creek', -0.40973365067941159), (u'Queensferry', nan), (u'Ratho', nan), (u'Rio Verde', nan), (u'Rochester', nan), (u'Roslin', nan), (u'Saguaro Lake', nan), (u'San Tan Valley', 1.2422522807361582), (u'Scotland', nan), (u'Scottsdale', 9.4595260609428635), (u'Scottsdale, Phoenix, Chandler, Gilbert', nan), (u'Sedona', nan), (u'South Gyle', nan), (u'South Las Vegas', nan), (u'South Queensferry', 0.80881672866427012), (u'Spring Valley', -0.51366186273577286), (u'St Clements', nan), (u'St Jacobs', nan), (u'St. Jacobs', nan), (u'Stanfield', nan), (u'Stockbridge', nan), (u'Stoughton', nan), (u'Straiton', nan), (u'Summerlin', nan), (u'Summerlin South', nan), (u'Sun City', -1.1538077641992779), (u'Sun City Anthem', nan), (u'Sun City West', -0.21418843791994055), (u'Sun Lakes', -1.5197633109207875), (u'Sun Prairie', -2.0013980994046383), (u'Sunrise', nan), (u'Sunrise Manor', nan), (u'Surprise', -2.0535660417825641), (u'Surprise Crossing', nan), (u'Tempe', -1.3436034787369306), (u'Tolleson', -3.4556265133863402), (u'Tonopah', nan), (u'Tonto Basin', nan), (u'Tortilla Flat', nan), (u'Trempealeau', nan), (u'Verona', 1.1412431024652483), (u'Victoria Park', nan), (u'W Henderson', nan), (u'W Spring Valley', nan), (u'W Summerlin', nan), (u'Waddell', nan), (u'Water of Leith', nan), (u'Waterloo', -0.91594130065176449), (u'Waunakee', -1.7487614598097745), (u'Whitney', nan), (u'Wickenburg', -0.1286533402637795), (u'Windsor', -0.47555847700738774), (u'Woolwich', nan), (u'Youngtown', 0.77663709875546516), (u'chandler', nan)] is too long\n",
      "\n",
      "Failed validating 'maxItems' in schema:\n",
      "    {'items': {'items': [{'type': 'string'}, {'type': 'number'}],\n",
      "               'maxItems': 2,\n",
      "               'minItems': 2,\n",
      "               'type': 'array'},\n",
      "     'maxItems': 70,\n",
      "     'minItems': 70,\n",
      "     'type': 'array'}\n",
      "\n",
      "On instance:\n",
      "    [(u'Ahwatukee', 0.047382669358208063),\n",
      "     (u'Anthem', 0.91100959187573716),\n",
      "     (u'Apache Junction', -0.35318449438866156),\n",
      "     (u'Arcadia', nan),\n",
      "     (u'Atlanta', nan),\n",
      "     (u'Avondale', -2.3003217405756531),\n",
      "     (u'Black Canyon City', nan),\n",
      "     (u'Bonnyrigg', nan),\n",
      "     (u'Boulder City', 2.4466611274394734),\n",
      "     (u'Buckeye', -2.5035752877810342),\n",
      "     (u'C Las Vegas', nan),\n",
      "     (u'Cambridge', 1.3264522703445301),\n",
      "     (u'Carefree', 1.4596358029225591),\n",
      "     (u'Casa Grande', -1.6299874135344514),\n",
      "     (u'Cave Creek', 3.0846624289022677),\n",
      "     (u'Centennial Hills', nan),\n",
      "     (u'Central City Village', nan),\n",
      "     (u'Central Henderson', nan),\n",
      "     (u'Chandler', -0.21683034896274497),\n",
      "     (u'Chandler-Gilbert', nan),\n",
      "     (u'City of Edinburgh', nan),\n",
      "     (u'Clark County', nan),\n",
      "     (u'Coolidge', -0.74796439569439954),\n",
      "     (u'Cottage Grove', -1.5197633109207875),\n",
      "     (u'Cramond', nan),\n",
      "     (u'Dalkeith', nan),\n",
      "     (u'Dane', nan),\n",
      "     (u'De Forest', 0.21323228615356482),\n",
      "     (u'DeForest', 1.0749414447548939),\n",
      "     (u'Deforest', nan),\n",
      "     (u'Eagan', nan),\n",
      "     (u'Edinburgh', 7.08965791495209),\n",
      "     (u'El Mirage', 0.16876529309668964),\n",
      "     (u'Enterprise', -1.5197633109207875),\n",
      "     (u'Fitchburg', -2.130703246196616),\n",
      "     (u'Florence', -0.25488061242093363),\n",
      "     (u'Fort Kinnaird', nan),\n",
      "     (u'Fort McDowell', -0.93879275145049601),\n",
      "     (u'Fort Mcdowell', nan),\n",
      "     (u'Fountain Hills', 1.3585300256751172),\n",
      "     (u'Fountain Hls', nan),\n",
      "     (u'Gila Bend', -1.3389790441109743),\n",
      "     (u'Gilbert', 2.7501238944427042),\n",
      "     (u'Glendale', -2.4257333247748818),\n",
      "     (u'Glendale Az', nan),\n",
      "     (u'Gold Canyon', -1.0273237254715457),\n",
      "     (u'Goldfield', nan),\n",
      "     (u'Goodyear', -2.6152730694493793),\n",
      "     (u'Green Valley', nan),\n",
      "     (u'Guadalupe', 0.90202304931451738),\n",
      "     (u'Heidelberg', nan),\n",
      "     (u'Henderson', 0.71901757196870053),\n",
      "     (u'Henderson ', nan),\n",
      "     (u'Henderson (Green  Valley)', nan),\n",
      "     (u'Henderson (Stephanie)', nan),\n",
      "     (u'Henderson and Las vegas', nan),\n",
      "     (u'Higley', -0.61394335386579191),\n",
      "     (u'Inverkeithing', nan),\n",
      "     (u'Juniper Green', nan),\n",
      "     (u'Kitchener', 0.31097056198802331),\n",
      "     (u'Lake Las Vegas', nan),\n",
      "     (u'Las Vegas', -2.4883711025822794),\n",
      "     (u'Las Vegas ', -0.18261268319327864),\n",
      "     (u'Las Vegas East', nan),\n",
      "     (u'Las Vegas, NV 89147', nan),\n",
      "     (u'Lasswade', nan),\n",
      "     (u'Laveen', -2.8056133498687124),\n",
      "     (u'Leith', nan),\n",
      "     (u'Litchfield Park', 0.23867016635520896),\n",
      "     (u'Litchfield Park ', nan),\n",
      "     (u'Loanhead', 0.32040896798599017),\n",
      "     (u'London', nan),\n",
      "     (u'Madison', -1.1569074420629899),\n",
      "     (u'Maricopa', -1.486533671933447),\n",
      "     (u'Mc Farland', -2.0367034363958538),\n",
      "     (u'McFarland', 1.8294739215238001),\n",
      "     (u'Mcfarland', nan),\n",
      "     (u'Mesa', -3.986107714970176),\n",
      "     (u'Mesa ', nan),\n",
      "     (u'Middleton', -0.8036734933334333),\n",
      "     (u'Midlothian', nan),\n",
      "     (u'Monona', -1.6673248929036644),\n",
      "     (u'Morristown', nan),\n",
      "     (u'Musselburgh', -0.43609834354953481),\n",
      "     (u'N E Las Vegas', nan),\n",
      "     (u'N Las Vegas', -0.35029086316809577),\n",
      "     (u'N W Las Vegas', nan),\n",
      "     (u'N. Las Vegas', nan),\n",
      "     (u'NELLIS AFB', nan),\n",
      "     (u'Nellis AFB', 1.8546085076523138),\n",
      "     (u'Nellis Afb', nan),\n",
      "     (u'Nellis Air Force Base', nan),\n",
      "     (u'New River', -0.24596155595373648),\n",
      "     (u'New Town', nan),\n",
      "     (u'New York', nan),\n",
      "     (u'Newberry Springs', nan),\n",
      "     (u'Newbridge', nan),\n",
      "     (u'Newington', nan),\n",
      "     (u'North Las Vegas', -5.4843588151481084),\n",
      "     (u'North Las Vegas ', nan),\n",
      "     (u'North Queensferry', nan),\n",
      "     (u'North Scottsdale', nan),\n",
      "     (u'Old Town', nan),\n",
      "     (u'Paradise', -0.91718256678933674),\n",
      "     (u'Paradise Valley', -0.034045695418941646),\n",
      "     (u'Penicuik', nan),\n",
      "     (u'Peoria', -0.87692036055225098),\n",
      "     (u'Pheonix', nan),\n",
      "     (u'Phoenix', -0.21345872159566445),\n",
      "     (u'Phoenix ', nan),\n",
      "     (u'Phoenix Sky Harbor Center', nan),\n",
      "     (u'Portobello', nan),\n",
      "     (u'Queen Creek', -0.40973365067941159),\n",
      "     (u'Queensferry', nan),\n",
      "     (u'Ratho', nan),\n",
      "     (u'Rio Verde', nan),\n",
      "     (u'Rochester', nan),\n",
      "     (u'Roslin', nan),\n",
      "     (u'Saguaro Lake', nan),\n",
      "     (u'San Tan Valley', 1.2422522807361582),\n",
      "     (u'Scotland', nan),\n",
      "     (u'Scottsdale', 9.4595260609428635),\n",
      "     (u'Scottsdale, Phoenix, Chandler, Gilbert', nan),\n",
      "     (u'Sedona', nan),\n",
      "     (u'South Gyle', nan),\n",
      "     (u'South Las Vegas', nan),\n",
      "     (u'South Queensferry', 0.80881672866427012),\n",
      "     (u'Spring Valley', -0.51366186273577286),\n",
      "     (u'St Clements', nan),\n",
      "     (u'St Jacobs', nan),\n",
      "     (u'St. Jacobs', nan),\n",
      "     (u'Stanfield', nan),\n",
      "     (u'Stockbridge', nan),\n",
      "     (u'Stoughton', nan),\n",
      "     (u'Straiton', nan),\n",
      "     (u'Summerlin', nan),\n",
      "     (u'Summerlin South', nan),\n",
      "     (u'Sun City', -1.1538077641992779),\n",
      "     (u'Sun City Anthem', nan),\n",
      "     (u'Sun City West', -0.21418843791994055),\n",
      "     (u'Sun Lakes', -1.5197633109207875),\n",
      "     (u'Sun Prairie', -2.0013980994046383),\n",
      "     (u'Sunrise', nan),\n",
      "     (u'Sunrise Manor', nan),\n",
      "     (u'Surprise', -2.0535660417825641),\n",
      "     (u'Surprise Crossing', nan),\n",
      "     (u'Tempe', -1.3436034787369306),\n",
      "     (u'Tolleson', -3.4556265133863402),\n",
      "     (u'Tonopah', nan),\n",
      "     (u'Tonto Basin', nan),\n",
      "     (u'Tortilla Flat', nan),\n",
      "     (u'Trempealeau', nan),\n",
      "     (u'Verona', 1.1412431024652483),\n",
      "     (u'Victoria Park', nan),\n",
      "     (u'W Henderson', nan),\n",
      "     (u'W Spring Valley', nan),\n",
      "     (u'W Summerlin', nan),\n",
      "     (u'Waddell', nan),\n",
      "     (u'Water of Leith', nan),\n",
      "     (u'Waterloo', -0.91594130065176449),\n",
      "     (u'Waunakee', -1.7487614598097745),\n",
      "     (u'Whitney', nan),\n",
      "     (u'Wickenburg', -0.1286533402637795),\n",
      "     (u'Windsor', -0.47555847700738774),\n",
      "     (u'Woolwich', nan),\n",
      "     (u'Youngtown', 0.77663709875546516),\n",
      "     (u'chandler', nan)]\n"
     ]
    }
   ],
   "source": [
    "def city_z_score():\n",
    "    #return [('Ahwatukee', 0.047382042549430063)] * 70\n",
    "    alist = []\n",
    "    alist = [ (i[0],i[1])\n",
    "          for i in df_city_z.itertuples(index=False)]\n",
    "    return alist\n",
    "grader.score('ps__city_z_score', city_z_score)"
   ]
  },
  {
   "cell_type": "markdown",
   "metadata": {},
   "source": [
    "**Question**: Which cities have the most statistically high ratings?  Do you notice a pattern?"
   ]
  },
  {
   "cell_type": "markdown",
   "metadata": {},
   "source": [
    "## \"Good for Kids\" confidence interval"
   ]
  },
  {
   "cell_type": "markdown",
   "metadata": {},
   "source": [
    "Which cities are the most child friendly?  Let's estimate the 2-sigma confidence interval for fraction of venues which are 'Good for Kids' in each city.\n",
    "\n",
    "**Note**:\n",
    "1. Ignore any businesses that don't have the 'Good for Kids' attribute specified. **IMPORTANT**: These are the businesses for which you have no information and they should be filtered out. All businesses that have the 'Good for Kids' attribute, whether that be True or False, should be included.\n",
    "2. Only look at cities with at least five businesses (satisfying the above condition).\n",
    "3. In this simplified schema, a venue is either 'Good for Kids' or not.  What kind of random variable does this correspond with?\n",
    "4. Notice that some cities have an unrealistic confidence interval.  Can you apply the \"Rule of Three\" to generate more realistic confidence intervals in this case?"
   ]
  },
  {
   "cell_type": "code",
   "execution_count": 26,
   "metadata": {},
   "outputs": [
    {
     "data": {
      "text/html": [
       "<div>\n",
       "<style>\n",
       "    .dataframe thead tr:only-child th {\n",
       "        text-align: right;\n",
       "    }\n",
       "\n",
       "    .dataframe thead th {\n",
       "        text-align: left;\n",
       "    }\n",
       "\n",
       "    .dataframe tbody tr th {\n",
       "        vertical-align: top;\n",
       "    }\n",
       "</style>\n",
       "<table border=\"1\" class=\"dataframe\">\n",
       "  <thead>\n",
       "    <tr style=\"text-align: right;\">\n",
       "      <th></th>\n",
       "      <th>attributes</th>\n",
       "      <th>business_id</th>\n",
       "      <th>categories</th>\n",
       "      <th>city</th>\n",
       "      <th>full_address</th>\n",
       "      <th>hours</th>\n",
       "      <th>latitude</th>\n",
       "      <th>longitude</th>\n",
       "      <th>name</th>\n",
       "      <th>neighborhoods</th>\n",
       "      <th>open</th>\n",
       "      <th>review_count</th>\n",
       "      <th>stars</th>\n",
       "      <th>state</th>\n",
       "      <th>type</th>\n",
       "    </tr>\n",
       "  </thead>\n",
       "  <tbody>\n",
       "    <tr>\n",
       "      <th>0</th>\n",
       "      <td>{u'By Appointment Only': True}</td>\n",
       "      <td>vcNAWiLM4dR7D2nwwJ7nCA</td>\n",
       "      <td>[Doctors, Health &amp; Medical]</td>\n",
       "      <td>Phoenix</td>\n",
       "      <td>4840 E Indian School Rd\\nSte 101\\nPhoenix, AZ ...</td>\n",
       "      <td>{u'Thursday': {u'close': u'17:00', u'open': u'...</td>\n",
       "      <td>33.499313</td>\n",
       "      <td>-111.983758</td>\n",
       "      <td>Eric Goldberg, MD</td>\n",
       "      <td>[]</td>\n",
       "      <td>True</td>\n",
       "      <td>7</td>\n",
       "      <td>3.5</td>\n",
       "      <td>AZ</td>\n",
       "      <td>business</td>\n",
       "    </tr>\n",
       "    <tr>\n",
       "      <th>1</th>\n",
       "      <td>{u'Take-out': True, u'Price Range': 1, u'Outdo...</td>\n",
       "      <td>JwUE5GmEO-sH1FuwJgKBlQ</td>\n",
       "      <td>[Restaurants]</td>\n",
       "      <td>De Forest</td>\n",
       "      <td>6162 US Highway 51\\nDe Forest, WI 53532</td>\n",
       "      <td>{}</td>\n",
       "      <td>43.238893</td>\n",
       "      <td>-89.335844</td>\n",
       "      <td>Pine Cone Restaurant</td>\n",
       "      <td>[]</td>\n",
       "      <td>True</td>\n",
       "      <td>26</td>\n",
       "      <td>4.0</td>\n",
       "      <td>WI</td>\n",
       "      <td>business</td>\n",
       "    </tr>\n",
       "    <tr>\n",
       "      <th>2</th>\n",
       "      <td>{u'Take-out': True, u'Outdoor Seating': False,...</td>\n",
       "      <td>uGykseHzyS5xAMWoN6YUqA</td>\n",
       "      <td>[American (Traditional), Restaurants]</td>\n",
       "      <td>De Forest</td>\n",
       "      <td>505 W North St\\nDe Forest, WI 53532</td>\n",
       "      <td>{u'Monday': {u'close': u'22:00', u'open': u'06...</td>\n",
       "      <td>43.252267</td>\n",
       "      <td>-89.353437</td>\n",
       "      <td>Deforest Family Restaurant</td>\n",
       "      <td>[]</td>\n",
       "      <td>True</td>\n",
       "      <td>16</td>\n",
       "      <td>4.0</td>\n",
       "      <td>WI</td>\n",
       "      <td>business</td>\n",
       "    </tr>\n",
       "    <tr>\n",
       "      <th>3</th>\n",
       "      <td>{u'Take-out': True, u'Accepts Credit Cards': T...</td>\n",
       "      <td>LRKJF43s9-3jG9Lgx4zODg</td>\n",
       "      <td>[Food, Ice Cream &amp; Frozen Yogurt, Fast Food, R...</td>\n",
       "      <td>De Forest</td>\n",
       "      <td>4910 County Rd V\\nDe Forest, WI 53532</td>\n",
       "      <td>{u'Monday': {u'close': u'22:00', u'open': u'10...</td>\n",
       "      <td>43.251045</td>\n",
       "      <td>-89.374983</td>\n",
       "      <td>Culver's</td>\n",
       "      <td>[]</td>\n",
       "      <td>True</td>\n",
       "      <td>7</td>\n",
       "      <td>4.5</td>\n",
       "      <td>WI</td>\n",
       "      <td>business</td>\n",
       "    </tr>\n",
       "    <tr>\n",
       "      <th>4</th>\n",
       "      <td>{u'Take-out': True, u'Has TV': False, u'Outdoo...</td>\n",
       "      <td>RgDg-k9S5YD_BaxMckifkg</td>\n",
       "      <td>[Chinese, Restaurants]</td>\n",
       "      <td>De Forest</td>\n",
       "      <td>631 S Main St\\nDe Forest, WI 53532</td>\n",
       "      <td>{u'Monday': {u'close': u'22:00', u'open': u'11...</td>\n",
       "      <td>43.240875</td>\n",
       "      <td>-89.343722</td>\n",
       "      <td>Chang Jiang Chinese Kitchen</td>\n",
       "      <td>[]</td>\n",
       "      <td>True</td>\n",
       "      <td>3</td>\n",
       "      <td>4.0</td>\n",
       "      <td>WI</td>\n",
       "      <td>business</td>\n",
       "    </tr>\n",
       "  </tbody>\n",
       "</table>\n",
       "</div>"
      ],
      "text/plain": [
       "                                          attributes             business_id  \\\n",
       "0                     {u'By Appointment Only': True}  vcNAWiLM4dR7D2nwwJ7nCA   \n",
       "1  {u'Take-out': True, u'Price Range': 1, u'Outdo...  JwUE5GmEO-sH1FuwJgKBlQ   \n",
       "2  {u'Take-out': True, u'Outdoor Seating': False,...  uGykseHzyS5xAMWoN6YUqA   \n",
       "3  {u'Take-out': True, u'Accepts Credit Cards': T...  LRKJF43s9-3jG9Lgx4zODg   \n",
       "4  {u'Take-out': True, u'Has TV': False, u'Outdoo...  RgDg-k9S5YD_BaxMckifkg   \n",
       "\n",
       "                                          categories       city  \\\n",
       "0                        [Doctors, Health & Medical]    Phoenix   \n",
       "1                                      [Restaurants]  De Forest   \n",
       "2              [American (Traditional), Restaurants]  De Forest   \n",
       "3  [Food, Ice Cream & Frozen Yogurt, Fast Food, R...  De Forest   \n",
       "4                             [Chinese, Restaurants]  De Forest   \n",
       "\n",
       "                                        full_address  \\\n",
       "0  4840 E Indian School Rd\\nSte 101\\nPhoenix, AZ ...   \n",
       "1            6162 US Highway 51\\nDe Forest, WI 53532   \n",
       "2                505 W North St\\nDe Forest, WI 53532   \n",
       "3              4910 County Rd V\\nDe Forest, WI 53532   \n",
       "4                 631 S Main St\\nDe Forest, WI 53532   \n",
       "\n",
       "                                               hours   latitude   longitude  \\\n",
       "0  {u'Thursday': {u'close': u'17:00', u'open': u'...  33.499313 -111.983758   \n",
       "1                                                 {}  43.238893  -89.335844   \n",
       "2  {u'Monday': {u'close': u'22:00', u'open': u'06...  43.252267  -89.353437   \n",
       "3  {u'Monday': {u'close': u'22:00', u'open': u'10...  43.251045  -89.374983   \n",
       "4  {u'Monday': {u'close': u'22:00', u'open': u'11...  43.240875  -89.343722   \n",
       "\n",
       "                          name neighborhoods  open  review_count  stars state  \\\n",
       "0            Eric Goldberg, MD            []  True             7    3.5    AZ   \n",
       "1         Pine Cone Restaurant            []  True            26    4.0    WI   \n",
       "2   Deforest Family Restaurant            []  True            16    4.0    WI   \n",
       "3                     Culver's            []  True             7    4.5    WI   \n",
       "4  Chang Jiang Chinese Kitchen            []  True             3    4.0    WI   \n",
       "\n",
       "       type  \n",
       "0  business  \n",
       "1  business  \n",
       "2  business  \n",
       "3  business  \n",
       "4  business  "
      ]
     },
     "execution_count": 26,
     "metadata": {},
     "output_type": "execute_result"
    }
   ],
   "source": [
    "df.head()"
   ]
  },
  {
   "cell_type": "code",
   "execution_count": 27,
   "metadata": {},
   "outputs": [
    {
     "data": {
      "text/plain": [
       "0                       {u'By Appointment Only': True}\n",
       "1    {u'Take-out': True, u'Price Range': 1, u'Outdo...\n",
       "2    {u'Take-out': True, u'Outdoor Seating': False,...\n",
       "3    {u'Take-out': True, u'Accepts Credit Cards': T...\n",
       "4    {u'Take-out': True, u'Has TV': False, u'Outdoo...\n",
       "Name: attributes, dtype: object"
      ]
     },
     "execution_count": 27,
     "metadata": {},
     "output_type": "execute_result"
    }
   ],
   "source": [
    "df['attributes'].head()"
   ]
  },
  {
   "cell_type": "code",
   "execution_count": 28,
   "metadata": {},
   "outputs": [],
   "source": [
    "def check_key(key_lis):\n",
    "    if 'Good for Kids' in key_lis:\n",
    "        return True\n",
    "    else:\n",
    "        return False"
   ]
  },
  {
   "cell_type": "code",
   "execution_count": 29,
   "metadata": {},
   "outputs": [],
   "source": [
    "#df['attributes'][1]#{'Good For Kids'}\n",
    "#val = [d.get('Good For Kids') for d in df['attributes']]\n",
    "#val_fil = [x for x in val if x is not None]"
   ]
  },
  {
   "cell_type": "code",
   "execution_count": 30,
   "metadata": {},
   "outputs": [],
   "source": [
    "key_ls = []\n",
    "for i in range(len(df)):\n",
    "    key_lis = []\n",
    "    key_lis = list(df['attributes'][i].viewkeys())\n",
    "    key_ls.append(check_key(key_lis))"
   ]
  },
  {
   "cell_type": "code",
   "execution_count": 31,
   "metadata": {},
   "outputs": [
    {
     "data": {
      "text/plain": [
       "True"
      ]
     },
     "execution_count": 31,
     "metadata": {},
     "output_type": "execute_result"
    }
   ],
   "source": [
    "df['attributes'].iloc[2][\"Good for Kids\"]#.items()#.get('Good For Kids')"
   ]
  },
  {
   "cell_type": "code",
   "execution_count": 32,
   "metadata": {},
   "outputs": [
    {
     "data": {
      "text/plain": [
       "[False, True, True, False, False, False, False, False, False, True]"
      ]
     },
     "execution_count": 32,
     "metadata": {},
     "output_type": "execute_result"
    }
   ],
   "source": [
    "key_ls[:10]"
   ]
  },
  {
   "cell_type": "code",
   "execution_count": 33,
   "metadata": {},
   "outputs": [
    {
     "data": {
      "text/plain": [
       "15124"
      ]
     },
     "execution_count": 33,
     "metadata": {},
     "output_type": "execute_result"
    }
   ],
   "source": [
    "df['GFK'] = key_ls\n",
    "df_gfk = df[df['GFK'] == True]\n",
    "len(df_gfk)"
   ]
  },
  {
   "cell_type": "code",
   "execution_count": 34,
   "metadata": {},
   "outputs": [
    {
     "data": {
      "text/html": [
       "<div>\n",
       "<style>\n",
       "    .dataframe thead tr:only-child th {\n",
       "        text-align: right;\n",
       "    }\n",
       "\n",
       "    .dataframe thead th {\n",
       "        text-align: left;\n",
       "    }\n",
       "\n",
       "    .dataframe tbody tr th {\n",
       "        vertical-align: top;\n",
       "    }\n",
       "</style>\n",
       "<table border=\"1\" class=\"dataframe\">\n",
       "  <thead>\n",
       "    <tr style=\"text-align: right;\">\n",
       "      <th></th>\n",
       "      <th>attributes</th>\n",
       "      <th>business_id</th>\n",
       "      <th>categories</th>\n",
       "      <th>city</th>\n",
       "      <th>full_address</th>\n",
       "      <th>hours</th>\n",
       "      <th>latitude</th>\n",
       "      <th>longitude</th>\n",
       "      <th>name</th>\n",
       "      <th>neighborhoods</th>\n",
       "      <th>open</th>\n",
       "      <th>review_count</th>\n",
       "      <th>stars</th>\n",
       "      <th>state</th>\n",
       "      <th>type</th>\n",
       "      <th>GFK</th>\n",
       "    </tr>\n",
       "  </thead>\n",
       "  <tbody>\n",
       "    <tr>\n",
       "      <th>1</th>\n",
       "      <td>{u'Take-out': True, u'Price Range': 1, u'Outdo...</td>\n",
       "      <td>JwUE5GmEO-sH1FuwJgKBlQ</td>\n",
       "      <td>[Restaurants]</td>\n",
       "      <td>De Forest</td>\n",
       "      <td>6162 US Highway 51\\nDe Forest, WI 53532</td>\n",
       "      <td>{}</td>\n",
       "      <td>43.238893</td>\n",
       "      <td>-89.335844</td>\n",
       "      <td>Pine Cone Restaurant</td>\n",
       "      <td>[]</td>\n",
       "      <td>True</td>\n",
       "      <td>26</td>\n",
       "      <td>4.0</td>\n",
       "      <td>WI</td>\n",
       "      <td>business</td>\n",
       "      <td>True</td>\n",
       "    </tr>\n",
       "    <tr>\n",
       "      <th>2</th>\n",
       "      <td>{u'Take-out': True, u'Outdoor Seating': False,...</td>\n",
       "      <td>uGykseHzyS5xAMWoN6YUqA</td>\n",
       "      <td>[American (Traditional), Restaurants]</td>\n",
       "      <td>De Forest</td>\n",
       "      <td>505 W North St\\nDe Forest, WI 53532</td>\n",
       "      <td>{u'Monday': {u'close': u'22:00', u'open': u'06...</td>\n",
       "      <td>43.252267</td>\n",
       "      <td>-89.353437</td>\n",
       "      <td>Deforest Family Restaurant</td>\n",
       "      <td>[]</td>\n",
       "      <td>True</td>\n",
       "      <td>16</td>\n",
       "      <td>4.0</td>\n",
       "      <td>WI</td>\n",
       "      <td>business</td>\n",
       "      <td>True</td>\n",
       "    </tr>\n",
       "    <tr>\n",
       "      <th>9</th>\n",
       "      <td>{u'Alcohol': u'full_bar', u'Noise Level': u'lo...</td>\n",
       "      <td>_wZTYYL7cutanzAnJUTGMA</td>\n",
       "      <td>[Bars, American (Traditional), Nightlife, Loun...</td>\n",
       "      <td>Mc Farland</td>\n",
       "      <td>4506 Larson Beach Rd\\nMc Farland, WI 53558</td>\n",
       "      <td>{}</td>\n",
       "      <td>43.017701</td>\n",
       "      <td>-89.303789</td>\n",
       "      <td>Beach House Restaurant &amp; Lounge</td>\n",
       "      <td>[]</td>\n",
       "      <td>True</td>\n",
       "      <td>31</td>\n",
       "      <td>3.5</td>\n",
       "      <td>WI</td>\n",
       "      <td>business</td>\n",
       "      <td>True</td>\n",
       "    </tr>\n",
       "    <tr>\n",
       "      <th>11</th>\n",
       "      <td>{u'Good for Kids': True}</td>\n",
       "      <td>1tkeiIa-daD8LbM6mHm_9A</td>\n",
       "      <td>[Active Life, Bowling]</td>\n",
       "      <td>Mc Farland</td>\n",
       "      <td>4711 Farwell St\\nMc Farland, WI 53558</td>\n",
       "      <td>{u'Monday': {u'close': u'02:00', u'open': u'11...</td>\n",
       "      <td>43.013156</td>\n",
       "      <td>-89.302164</td>\n",
       "      <td>Spartan Bowl</td>\n",
       "      <td>[]</td>\n",
       "      <td>True</td>\n",
       "      <td>3</td>\n",
       "      <td>1.5</td>\n",
       "      <td>WI</td>\n",
       "      <td>business</td>\n",
       "      <td>True</td>\n",
       "    </tr>\n",
       "    <tr>\n",
       "      <th>12</th>\n",
       "      <td>{u'Take-out': True, u'Price Range': 1, u'Outdo...</td>\n",
       "      <td>zOc8lbjViUZajbY7M0aUCQ</td>\n",
       "      <td>[Pizza, Restaurants]</td>\n",
       "      <td>Mc Farland</td>\n",
       "      <td>5813 Main St\\nMc Farland, WI 53558</td>\n",
       "      <td>{u'Tuesday': {u'close': u'22:00', u'open': u'1...</td>\n",
       "      <td>43.014164</td>\n",
       "      <td>-89.288567</td>\n",
       "      <td>Spartan Pizza</td>\n",
       "      <td>[]</td>\n",
       "      <td>True</td>\n",
       "      <td>4</td>\n",
       "      <td>3.5</td>\n",
       "      <td>WI</td>\n",
       "      <td>business</td>\n",
       "      <td>True</td>\n",
       "    </tr>\n",
       "  </tbody>\n",
       "</table>\n",
       "</div>"
      ],
      "text/plain": [
       "                                           attributes             business_id  \\\n",
       "1   {u'Take-out': True, u'Price Range': 1, u'Outdo...  JwUE5GmEO-sH1FuwJgKBlQ   \n",
       "2   {u'Take-out': True, u'Outdoor Seating': False,...  uGykseHzyS5xAMWoN6YUqA   \n",
       "9   {u'Alcohol': u'full_bar', u'Noise Level': u'lo...  _wZTYYL7cutanzAnJUTGMA   \n",
       "11                           {u'Good for Kids': True}  1tkeiIa-daD8LbM6mHm_9A   \n",
       "12  {u'Take-out': True, u'Price Range': 1, u'Outdo...  zOc8lbjViUZajbY7M0aUCQ   \n",
       "\n",
       "                                           categories        city  \\\n",
       "1                                       [Restaurants]   De Forest   \n",
       "2               [American (Traditional), Restaurants]   De Forest   \n",
       "9   [Bars, American (Traditional), Nightlife, Loun...  Mc Farland   \n",
       "11                             [Active Life, Bowling]  Mc Farland   \n",
       "12                               [Pizza, Restaurants]  Mc Farland   \n",
       "\n",
       "                                  full_address  \\\n",
       "1      6162 US Highway 51\\nDe Forest, WI 53532   \n",
       "2          505 W North St\\nDe Forest, WI 53532   \n",
       "9   4506 Larson Beach Rd\\nMc Farland, WI 53558   \n",
       "11       4711 Farwell St\\nMc Farland, WI 53558   \n",
       "12          5813 Main St\\nMc Farland, WI 53558   \n",
       "\n",
       "                                                hours   latitude  longitude  \\\n",
       "1                                                  {}  43.238893 -89.335844   \n",
       "2   {u'Monday': {u'close': u'22:00', u'open': u'06...  43.252267 -89.353437   \n",
       "9                                                  {}  43.017701 -89.303789   \n",
       "11  {u'Monday': {u'close': u'02:00', u'open': u'11...  43.013156 -89.302164   \n",
       "12  {u'Tuesday': {u'close': u'22:00', u'open': u'1...  43.014164 -89.288567   \n",
       "\n",
       "                               name neighborhoods  open  review_count  stars  \\\n",
       "1              Pine Cone Restaurant            []  True            26    4.0   \n",
       "2        Deforest Family Restaurant            []  True            16    4.0   \n",
       "9   Beach House Restaurant & Lounge            []  True            31    3.5   \n",
       "11                     Spartan Bowl            []  True             3    1.5   \n",
       "12                    Spartan Pizza            []  True             4    3.5   \n",
       "\n",
       "   state      type   GFK  \n",
       "1     WI  business  True  \n",
       "2     WI  business  True  \n",
       "9     WI  business  True  \n",
       "11    WI  business  True  \n",
       "12    WI  business  True  "
      ]
     },
     "execution_count": 34,
     "metadata": {},
     "output_type": "execute_result"
    }
   ],
   "source": [
    "df_gfk.head()"
   ]
  },
  {
   "cell_type": "code",
   "execution_count": 35,
   "metadata": {},
   "outputs": [
    {
     "data": {
      "text/plain": [
       "15124"
      ]
     },
     "execution_count": 35,
     "metadata": {},
     "output_type": "execute_result"
    }
   ],
   "source": [
    "val = []\n",
    "for i in range(len(df_gfk)):\n",
    "    val.append(df_gfk['attributes'].iloc[i][\"Good for Kids\"])\n",
    "len(val)"
   ]
  },
  {
   "cell_type": "code",
   "execution_count": 36,
   "metadata": {},
   "outputs": [
    {
     "data": {
      "text/plain": [
       "[True,\n",
       " True,\n",
       " True,\n",
       " True,\n",
       " True,\n",
       " True,\n",
       " True,\n",
       " True,\n",
       " True,\n",
       " True,\n",
       " True,\n",
       " True,\n",
       " False,\n",
       " True,\n",
       " True,\n",
       " True,\n",
       " True,\n",
       " True,\n",
       " False,\n",
       " False]"
      ]
     },
     "execution_count": 36,
     "metadata": {},
     "output_type": "execute_result"
    }
   ],
   "source": [
    "val[:20]"
   ]
  },
  {
   "cell_type": "code",
   "execution_count": 37,
   "metadata": {},
   "outputs": [
    {
     "name": "stderr",
     "output_type": "stream",
     "text": [
      "/opt/conda/lib/python2.7/site-packages/ipykernel_launcher.py:1: SettingWithCopyWarning: \n",
      "A value is trying to be set on a copy of a slice from a DataFrame.\n",
      "Try using .loc[row_indexer,col_indexer] = value instead\n",
      "\n",
      "See the caveats in the documentation: http://pandas.pydata.org/pandas-docs/stable/indexing.html#indexing-view-versus-copy\n",
      "  \"\"\"Entry point for launching an IPython kernel.\n"
     ]
    }
   ],
   "source": [
    "df_gfk['GFK_val'] = val"
   ]
  },
  {
   "cell_type": "code",
   "execution_count": 38,
   "metadata": {},
   "outputs": [
    {
     "data": {
      "text/html": [
       "<div>\n",
       "<style>\n",
       "    .dataframe thead tr:only-child th {\n",
       "        text-align: right;\n",
       "    }\n",
       "\n",
       "    .dataframe thead th {\n",
       "        text-align: left;\n",
       "    }\n",
       "\n",
       "    .dataframe tbody tr th {\n",
       "        vertical-align: top;\n",
       "    }\n",
       "</style>\n",
       "<table border=\"1\" class=\"dataframe\">\n",
       "  <thead>\n",
       "    <tr style=\"text-align: right;\">\n",
       "      <th></th>\n",
       "      <th>attributes</th>\n",
       "      <th>business_id</th>\n",
       "      <th>categories</th>\n",
       "      <th>city</th>\n",
       "      <th>full_address</th>\n",
       "      <th>hours</th>\n",
       "      <th>latitude</th>\n",
       "      <th>longitude</th>\n",
       "      <th>name</th>\n",
       "      <th>neighborhoods</th>\n",
       "      <th>open</th>\n",
       "      <th>review_count</th>\n",
       "      <th>stars</th>\n",
       "      <th>state</th>\n",
       "      <th>type</th>\n",
       "      <th>GFK</th>\n",
       "      <th>GFK_val</th>\n",
       "    </tr>\n",
       "  </thead>\n",
       "  <tbody>\n",
       "    <tr>\n",
       "      <th>1</th>\n",
       "      <td>{u'Take-out': True, u'Price Range': 1, u'Outdo...</td>\n",
       "      <td>JwUE5GmEO-sH1FuwJgKBlQ</td>\n",
       "      <td>[Restaurants]</td>\n",
       "      <td>De Forest</td>\n",
       "      <td>6162 US Highway 51\\nDe Forest, WI 53532</td>\n",
       "      <td>{}</td>\n",
       "      <td>43.238893</td>\n",
       "      <td>-89.335844</td>\n",
       "      <td>Pine Cone Restaurant</td>\n",
       "      <td>[]</td>\n",
       "      <td>True</td>\n",
       "      <td>26</td>\n",
       "      <td>4.0</td>\n",
       "      <td>WI</td>\n",
       "      <td>business</td>\n",
       "      <td>True</td>\n",
       "      <td>True</td>\n",
       "    </tr>\n",
       "    <tr>\n",
       "      <th>2</th>\n",
       "      <td>{u'Take-out': True, u'Outdoor Seating': False,...</td>\n",
       "      <td>uGykseHzyS5xAMWoN6YUqA</td>\n",
       "      <td>[American (Traditional), Restaurants]</td>\n",
       "      <td>De Forest</td>\n",
       "      <td>505 W North St\\nDe Forest, WI 53532</td>\n",
       "      <td>{u'Monday': {u'close': u'22:00', u'open': u'06...</td>\n",
       "      <td>43.252267</td>\n",
       "      <td>-89.353437</td>\n",
       "      <td>Deforest Family Restaurant</td>\n",
       "      <td>[]</td>\n",
       "      <td>True</td>\n",
       "      <td>16</td>\n",
       "      <td>4.0</td>\n",
       "      <td>WI</td>\n",
       "      <td>business</td>\n",
       "      <td>True</td>\n",
       "      <td>True</td>\n",
       "    </tr>\n",
       "  </tbody>\n",
       "</table>\n",
       "</div>"
      ],
      "text/plain": [
       "                                          attributes             business_id  \\\n",
       "1  {u'Take-out': True, u'Price Range': 1, u'Outdo...  JwUE5GmEO-sH1FuwJgKBlQ   \n",
       "2  {u'Take-out': True, u'Outdoor Seating': False,...  uGykseHzyS5xAMWoN6YUqA   \n",
       "\n",
       "                              categories       city  \\\n",
       "1                          [Restaurants]  De Forest   \n",
       "2  [American (Traditional), Restaurants]  De Forest   \n",
       "\n",
       "                              full_address  \\\n",
       "1  6162 US Highway 51\\nDe Forest, WI 53532   \n",
       "2      505 W North St\\nDe Forest, WI 53532   \n",
       "\n",
       "                                               hours   latitude  longitude  \\\n",
       "1                                                 {}  43.238893 -89.335844   \n",
       "2  {u'Monday': {u'close': u'22:00', u'open': u'06...  43.252267 -89.353437   \n",
       "\n",
       "                         name neighborhoods  open  review_count  stars state  \\\n",
       "1        Pine Cone Restaurant            []  True            26    4.0    WI   \n",
       "2  Deforest Family Restaurant            []  True            16    4.0    WI   \n",
       "\n",
       "       type   GFK  GFK_val  \n",
       "1  business  True     True  \n",
       "2  business  True     True  "
      ]
     },
     "execution_count": 38,
     "metadata": {},
     "output_type": "execute_result"
    }
   ],
   "source": [
    "df_gfk.head(2)"
   ]
  },
  {
   "cell_type": "code",
   "execution_count": 39,
   "metadata": {},
   "outputs": [
    {
     "data": {
      "text/plain": [
       "city\n",
       "Ahwatukee          False\n",
       "Anthem              True\n",
       "Apache Junction     True\n",
       "Arcadia            False\n",
       "Atlanta            False\n",
       "Name: business_id, dtype: bool"
      ]
     },
     "execution_count": 39,
     "metadata": {},
     "output_type": "execute_result"
    }
   ],
   "source": [
    "city_group2 = df_gfk.groupby('city')\n",
    "city_boolean = city_group2.business_id.nunique() > 4\n",
    "city_boolean.head() #115 rows"
   ]
  },
  {
   "cell_type": "code",
   "execution_count": 40,
   "metadata": {},
   "outputs": [],
   "source": [
    "df_gfk_5 = df_gfk.set_index('city').loc[city_boolean]"
   ]
  },
  {
   "cell_type": "code",
   "execution_count": 41,
   "metadata": {},
   "outputs": [],
   "source": [
    "df_gfk_busi = df_gfk_5.groupby('city')"
   ]
  },
  {
   "cell_type": "code",
   "execution_count": 42,
   "metadata": {},
   "outputs": [
    {
     "data": {
      "text/plain": [
       "51"
      ]
     },
     "execution_count": 42,
     "metadata": {},
     "output_type": "execute_result"
    }
   ],
   "source": [
    "len(df_gfk_busi)"
   ]
  },
  {
   "cell_type": "code",
   "execution_count": 43,
   "metadata": {},
   "outputs": [],
   "source": [
    "#df_city = df.groupby('city')\n",
    "#df_city.get_group('Anthem')"
   ]
  },
  {
   "cell_type": "code",
   "execution_count": 44,
   "metadata": {},
   "outputs": [
    {
     "data": {
      "text/plain": [
       "21"
      ]
     },
     "execution_count": 44,
     "metadata": {},
     "output_type": "execute_result"
    }
   ],
   "source": [
    "df_ph = df_gfk_busi.get_group('Anthem')\n",
    "df_ph['GFK'].sum()"
   ]
  },
  {
   "cell_type": "code",
   "execution_count": 45,
   "metadata": {},
   "outputs": [
    {
     "data": {
      "text/html": [
       "<div>\n",
       "<style>\n",
       "    .dataframe thead tr:only-child th {\n",
       "        text-align: right;\n",
       "    }\n",
       "\n",
       "    .dataframe thead th {\n",
       "        text-align: left;\n",
       "    }\n",
       "\n",
       "    .dataframe tbody tr th {\n",
       "        vertical-align: top;\n",
       "    }\n",
       "</style>\n",
       "<table border=\"1\" class=\"dataframe\">\n",
       "  <thead>\n",
       "    <tr style=\"text-align: right;\">\n",
       "      <th></th>\n",
       "      <th>attributes</th>\n",
       "      <th>business_id</th>\n",
       "      <th>categories</th>\n",
       "      <th>full_address</th>\n",
       "      <th>hours</th>\n",
       "      <th>latitude</th>\n",
       "      <th>longitude</th>\n",
       "      <th>name</th>\n",
       "      <th>neighborhoods</th>\n",
       "      <th>open</th>\n",
       "      <th>review_count</th>\n",
       "      <th>stars</th>\n",
       "      <th>state</th>\n",
       "      <th>type</th>\n",
       "      <th>GFK</th>\n",
       "      <th>GFK_val</th>\n",
       "    </tr>\n",
       "    <tr>\n",
       "      <th>city</th>\n",
       "      <th></th>\n",
       "      <th></th>\n",
       "      <th></th>\n",
       "      <th></th>\n",
       "      <th></th>\n",
       "      <th></th>\n",
       "      <th></th>\n",
       "      <th></th>\n",
       "      <th></th>\n",
       "      <th></th>\n",
       "      <th></th>\n",
       "      <th></th>\n",
       "      <th></th>\n",
       "      <th></th>\n",
       "      <th></th>\n",
       "      <th></th>\n",
       "    </tr>\n",
       "  </thead>\n",
       "  <tbody>\n",
       "    <tr>\n",
       "      <th>Anthem</th>\n",
       "      <td>{u'Take-out': True, u'Accepts Credit Cards': T...</td>\n",
       "      <td>v1ocqAm5soWTNPttLQhSZw</td>\n",
       "      <td>[Chinese, Restaurants]</td>\n",
       "      <td>3434 W Anthem Way\\nSte 118\\nAnthem, AZ 85086</td>\n",
       "      <td>{}</td>\n",
       "      <td>33.864429</td>\n",
       "      <td>-112.135305</td>\n",
       "      <td>Shanghai Club</td>\n",
       "      <td>[]</td>\n",
       "      <td>True</td>\n",
       "      <td>50</td>\n",
       "      <td>3.5</td>\n",
       "      <td>AZ</td>\n",
       "      <td>business</td>\n",
       "      <td>True</td>\n",
       "      <td>True</td>\n",
       "    </tr>\n",
       "    <tr>\n",
       "      <th>Anthem</th>\n",
       "      <td>{u'Take-out': True, u'Accepts Credit Cards': T...</td>\n",
       "      <td>wyOMi6P9E3C8Fk1IxlcLJA</td>\n",
       "      <td>[Pizza, Restaurants]</td>\n",
       "      <td>42211 N 41st Dr\\nAnthem, AZ 85086</td>\n",
       "      <td>{u'Monday': {u'close': u'21:00', u'open': u'10...</td>\n",
       "      <td>33.867395</td>\n",
       "      <td>-112.147858</td>\n",
       "      <td>Rays Pizza</td>\n",
       "      <td>[]</td>\n",
       "      <td>True</td>\n",
       "      <td>19</td>\n",
       "      <td>3.5</td>\n",
       "      <td>AZ</td>\n",
       "      <td>business</td>\n",
       "      <td>True</td>\n",
       "      <td>True</td>\n",
       "    </tr>\n",
       "    <tr>\n",
       "      <th>Anthem</th>\n",
       "      <td>{u'Take-out': True, u'Accepts Credit Cards': T...</td>\n",
       "      <td>Vh_xXB42CYfhEdelpDb1Ow</td>\n",
       "      <td>[Pizza, Restaurants]</td>\n",
       "      <td>3632 W Anthem Way\\nAnthem, AZ 85086</td>\n",
       "      <td>{u'Monday': {u'close': u'22:00', u'open': u'11...</td>\n",
       "      <td>33.865974</td>\n",
       "      <td>-112.136601</td>\n",
       "      <td>Pizza Hut</td>\n",
       "      <td>[]</td>\n",
       "      <td>True</td>\n",
       "      <td>6</td>\n",
       "      <td>2.5</td>\n",
       "      <td>AZ</td>\n",
       "      <td>business</td>\n",
       "      <td>True</td>\n",
       "      <td>True</td>\n",
       "    </tr>\n",
       "    <tr>\n",
       "      <th>Anthem</th>\n",
       "      <td>{u'Good For': {u'dessert': False, u'latenight'...</td>\n",
       "      <td>sowtJ0oFaa3a579A7Pmadw</td>\n",
       "      <td>[Restaurants]</td>\n",
       "      <td>3655 West Anthem Way\\nAnthem, AZ 85086</td>\n",
       "      <td>{}</td>\n",
       "      <td>33.864913</td>\n",
       "      <td>-112.138854</td>\n",
       "      <td>Pinata Nueva</td>\n",
       "      <td>[]</td>\n",
       "      <td>False</td>\n",
       "      <td>3</td>\n",
       "      <td>2.5</td>\n",
       "      <td>AZ</td>\n",
       "      <td>business</td>\n",
       "      <td>True</td>\n",
       "      <td>True</td>\n",
       "    </tr>\n",
       "    <tr>\n",
       "      <th>Anthem</th>\n",
       "      <td>{u'Good for Kids': True}</td>\n",
       "      <td>d523RJhT7ap6GblcVwCb7Q</td>\n",
       "      <td>[Active Life, Fitness &amp; Instruction]</td>\n",
       "      <td>41130 N Freedom Way\\nAnthem, AZ 85086</td>\n",
       "      <td>{}</td>\n",
       "      <td>33.858560</td>\n",
       "      <td>-112.130490</td>\n",
       "      <td>Anthem Community Center</td>\n",
       "      <td>[]</td>\n",
       "      <td>True</td>\n",
       "      <td>4</td>\n",
       "      <td>4.5</td>\n",
       "      <td>AZ</td>\n",
       "      <td>business</td>\n",
       "      <td>True</td>\n",
       "      <td>True</td>\n",
       "    </tr>\n",
       "    <tr>\n",
       "      <th>Anthem</th>\n",
       "      <td>{u'Take-out': True, u'Accepts Credit Cards': T...</td>\n",
       "      <td>koCfyexzjjF3pZrzijlL3g</td>\n",
       "      <td>[Breakfast &amp; Brunch, American (New), Restaurants]</td>\n",
       "      <td>4211 W Anthem Way\\nAnthem, AZ 85086</td>\n",
       "      <td>{}</td>\n",
       "      <td>33.871067</td>\n",
       "      <td>-112.150695</td>\n",
       "      <td>Denny's Anthem</td>\n",
       "      <td>[]</td>\n",
       "      <td>True</td>\n",
       "      <td>5</td>\n",
       "      <td>3.5</td>\n",
       "      <td>AZ</td>\n",
       "      <td>business</td>\n",
       "      <td>True</td>\n",
       "      <td>True</td>\n",
       "    </tr>\n",
       "    <tr>\n",
       "      <th>Anthem</th>\n",
       "      <td>{u'Delivery': True, u'Take-out': True, u'Accep...</td>\n",
       "      <td>mt7scTEjBOKKgWamSBcf_Q</td>\n",
       "      <td>[Fast Food, Mexican, Tex-Mex, Restaurants]</td>\n",
       "      <td>3659 W. Anthem Way\\nAnthem, AZ 85086</td>\n",
       "      <td>{u'Monday': {u'close': u'23:00', u'open': u'07...</td>\n",
       "      <td>33.864110</td>\n",
       "      <td>-112.135900</td>\n",
       "      <td>Taco Bell</td>\n",
       "      <td>[]</td>\n",
       "      <td>True</td>\n",
       "      <td>5</td>\n",
       "      <td>2.0</td>\n",
       "      <td>AZ</td>\n",
       "      <td>business</td>\n",
       "      <td>True</td>\n",
       "      <td>True</td>\n",
       "    </tr>\n",
       "    <tr>\n",
       "      <th>Anthem</th>\n",
       "      <td>{u'Alcohol': u'none', u'Noise Level': u'quiet'...</td>\n",
       "      <td>238vCjwa6kQCV7ukJI6d8A</td>\n",
       "      <td>[Greek, Mediterranean, Restaurants]</td>\n",
       "      <td>3655 W Anthem Way\\nAnthem, AZ 85086</td>\n",
       "      <td>{}</td>\n",
       "      <td>33.864913</td>\n",
       "      <td>-112.138854</td>\n",
       "      <td>Mr Gyros II</td>\n",
       "      <td>[]</td>\n",
       "      <td>True</td>\n",
       "      <td>23</td>\n",
       "      <td>4.0</td>\n",
       "      <td>AZ</td>\n",
       "      <td>business</td>\n",
       "      <td>True</td>\n",
       "      <td>True</td>\n",
       "    </tr>\n",
       "    <tr>\n",
       "      <th>Anthem</th>\n",
       "      <td>{u'Noise Level': u'average', u'Takes Reservati...</td>\n",
       "      <td>i8DkHnUxJwPBd7e50FHUpw</td>\n",
       "      <td>[Mexican, Restaurants]</td>\n",
       "      <td>4115 W Anthem Way\\nAnthem, AZ 85086</td>\n",
       "      <td>{}</td>\n",
       "      <td>33.870521</td>\n",
       "      <td>-112.148602</td>\n",
       "      <td>Del Taco</td>\n",
       "      <td>[]</td>\n",
       "      <td>True</td>\n",
       "      <td>8</td>\n",
       "      <td>2.5</td>\n",
       "      <td>AZ</td>\n",
       "      <td>business</td>\n",
       "      <td>True</td>\n",
       "      <td>True</td>\n",
       "    </tr>\n",
       "    <tr>\n",
       "      <th>Anthem</th>\n",
       "      <td>{u'Take-out': True, u'Accepts Credit Cards': T...</td>\n",
       "      <td>zwFpOl3BNBazrdXynuQb-A</td>\n",
       "      <td>[Sandwiches, Restaurants]</td>\n",
       "      <td>4250 W Anthem Way\\nAnthem, AZ 85086</td>\n",
       "      <td>{}</td>\n",
       "      <td>33.864028</td>\n",
       "      <td>-112.127884</td>\n",
       "      <td>Charley's Grilled Subs</td>\n",
       "      <td>[]</td>\n",
       "      <td>True</td>\n",
       "      <td>5</td>\n",
       "      <td>4.0</td>\n",
       "      <td>AZ</td>\n",
       "      <td>business</td>\n",
       "      <td>True</td>\n",
       "      <td>True</td>\n",
       "    </tr>\n",
       "  </tbody>\n",
       "</table>\n",
       "</div>"
      ],
      "text/plain": [
       "                                               attributes  \\\n",
       "city                                                        \n",
       "Anthem  {u'Take-out': True, u'Accepts Credit Cards': T...   \n",
       "Anthem  {u'Take-out': True, u'Accepts Credit Cards': T...   \n",
       "Anthem  {u'Take-out': True, u'Accepts Credit Cards': T...   \n",
       "Anthem  {u'Good For': {u'dessert': False, u'latenight'...   \n",
       "Anthem                           {u'Good for Kids': True}   \n",
       "Anthem  {u'Take-out': True, u'Accepts Credit Cards': T...   \n",
       "Anthem  {u'Delivery': True, u'Take-out': True, u'Accep...   \n",
       "Anthem  {u'Alcohol': u'none', u'Noise Level': u'quiet'...   \n",
       "Anthem  {u'Noise Level': u'average', u'Takes Reservati...   \n",
       "Anthem  {u'Take-out': True, u'Accepts Credit Cards': T...   \n",
       "\n",
       "                   business_id  \\\n",
       "city                             \n",
       "Anthem  v1ocqAm5soWTNPttLQhSZw   \n",
       "Anthem  wyOMi6P9E3C8Fk1IxlcLJA   \n",
       "Anthem  Vh_xXB42CYfhEdelpDb1Ow   \n",
       "Anthem  sowtJ0oFaa3a579A7Pmadw   \n",
       "Anthem  d523RJhT7ap6GblcVwCb7Q   \n",
       "Anthem  koCfyexzjjF3pZrzijlL3g   \n",
       "Anthem  mt7scTEjBOKKgWamSBcf_Q   \n",
       "Anthem  238vCjwa6kQCV7ukJI6d8A   \n",
       "Anthem  i8DkHnUxJwPBd7e50FHUpw   \n",
       "Anthem  zwFpOl3BNBazrdXynuQb-A   \n",
       "\n",
       "                                               categories  \\\n",
       "city                                                        \n",
       "Anthem                             [Chinese, Restaurants]   \n",
       "Anthem                               [Pizza, Restaurants]   \n",
       "Anthem                               [Pizza, Restaurants]   \n",
       "Anthem                                      [Restaurants]   \n",
       "Anthem               [Active Life, Fitness & Instruction]   \n",
       "Anthem  [Breakfast & Brunch, American (New), Restaurants]   \n",
       "Anthem         [Fast Food, Mexican, Tex-Mex, Restaurants]   \n",
       "Anthem                [Greek, Mediterranean, Restaurants]   \n",
       "Anthem                             [Mexican, Restaurants]   \n",
       "Anthem                          [Sandwiches, Restaurants]   \n",
       "\n",
       "                                        full_address  \\\n",
       "city                                                   \n",
       "Anthem  3434 W Anthem Way\\nSte 118\\nAnthem, AZ 85086   \n",
       "Anthem             42211 N 41st Dr\\nAnthem, AZ 85086   \n",
       "Anthem           3632 W Anthem Way\\nAnthem, AZ 85086   \n",
       "Anthem        3655 West Anthem Way\\nAnthem, AZ 85086   \n",
       "Anthem         41130 N Freedom Way\\nAnthem, AZ 85086   \n",
       "Anthem           4211 W Anthem Way\\nAnthem, AZ 85086   \n",
       "Anthem          3659 W. Anthem Way\\nAnthem, AZ 85086   \n",
       "Anthem           3655 W Anthem Way\\nAnthem, AZ 85086   \n",
       "Anthem           4115 W Anthem Way\\nAnthem, AZ 85086   \n",
       "Anthem           4250 W Anthem Way\\nAnthem, AZ 85086   \n",
       "\n",
       "                                                    hours   latitude  \\\n",
       "city                                                                   \n",
       "Anthem                                                 {}  33.864429   \n",
       "Anthem  {u'Monday': {u'close': u'21:00', u'open': u'10...  33.867395   \n",
       "Anthem  {u'Monday': {u'close': u'22:00', u'open': u'11...  33.865974   \n",
       "Anthem                                                 {}  33.864913   \n",
       "Anthem                                                 {}  33.858560   \n",
       "Anthem                                                 {}  33.871067   \n",
       "Anthem  {u'Monday': {u'close': u'23:00', u'open': u'07...  33.864110   \n",
       "Anthem                                                 {}  33.864913   \n",
       "Anthem                                                 {}  33.870521   \n",
       "Anthem                                                 {}  33.864028   \n",
       "\n",
       "         longitude                     name neighborhoods   open  \\\n",
       "city                                                               \n",
       "Anthem -112.135305            Shanghai Club            []   True   \n",
       "Anthem -112.147858               Rays Pizza            []   True   \n",
       "Anthem -112.136601                Pizza Hut            []   True   \n",
       "Anthem -112.138854             Pinata Nueva            []  False   \n",
       "Anthem -112.130490  Anthem Community Center            []   True   \n",
       "Anthem -112.150695           Denny's Anthem            []   True   \n",
       "Anthem -112.135900                Taco Bell            []   True   \n",
       "Anthem -112.138854              Mr Gyros II            []   True   \n",
       "Anthem -112.148602                 Del Taco            []   True   \n",
       "Anthem -112.127884   Charley's Grilled Subs            []   True   \n",
       "\n",
       "        review_count  stars state      type   GFK  GFK_val  \n",
       "city                                                        \n",
       "Anthem            50    3.5    AZ  business  True     True  \n",
       "Anthem            19    3.5    AZ  business  True     True  \n",
       "Anthem             6    2.5    AZ  business  True     True  \n",
       "Anthem             3    2.5    AZ  business  True     True  \n",
       "Anthem             4    4.5    AZ  business  True     True  \n",
       "Anthem             5    3.5    AZ  business  True     True  \n",
       "Anthem             5    2.0    AZ  business  True     True  \n",
       "Anthem            23    4.0    AZ  business  True     True  \n",
       "Anthem             8    2.5    AZ  business  True     True  \n",
       "Anthem             5    4.0    AZ  business  True     True  "
      ]
     },
     "execution_count": 45,
     "metadata": {},
     "output_type": "execute_result"
    }
   ],
   "source": [
    "df_ph.head(10)"
   ]
  },
  {
   "cell_type": "code",
   "execution_count": 46,
   "metadata": {},
   "outputs": [
    {
     "data": {
      "text/plain": [
       "21"
      ]
     },
     "execution_count": 46,
     "metadata": {},
     "output_type": "execute_result"
    }
   ],
   "source": [
    "len(df_ph)"
   ]
  },
  {
   "cell_type": "code",
   "execution_count": 47,
   "metadata": {},
   "outputs": [
    {
     "data": {
      "text/plain": [
       "1.0"
      ]
     },
     "execution_count": 47,
     "metadata": {},
     "output_type": "execute_result"
    }
   ],
   "source": [
    "df_ph['GFK'].mean()"
   ]
  },
  {
   "cell_type": "code",
   "execution_count": 48,
   "metadata": {},
   "outputs": [
    {
     "data": {
      "text/plain": [
       "'Anthem'"
      ]
     },
     "execution_count": 48,
     "metadata": {},
     "output_type": "execute_result"
    }
   ],
   "source": [
    "str(df_ph.index.values[0])"
   ]
  },
  {
   "cell_type": "code",
   "execution_count": 49,
   "metadata": {},
   "outputs": [],
   "source": [
    "list_t = []"
   ]
  },
  {
   "cell_type": "code",
   "execution_count": 50,
   "metadata": {},
   "outputs": [],
   "source": [
    "\n",
    "def tup(df_gfk):\n",
    "    if df_gfk['GFK'].sum() == len(df_gfk):\n",
    "        return list_t.append((str(df_gfk.index.values[0]),(1.0 - 3.0/len(df_gfk),1)))\n",
    "    else:\n",
    "        p = df_gfk['GFK'].mean()\n",
    "        s = np.sqrt(p*(1-p)/len(df_gfk))\n",
    "        return list_t.append((str(df_gfk.index.values[0]),(p - 2.0*s,p + 2.0*s)))\n",
    "    "
   ]
  },
  {
   "cell_type": "code",
   "execution_count": 51,
   "metadata": {},
   "outputs": [
    {
     "data": {
      "text/html": [
       "<div>\n",
       "<style>\n",
       "    .dataframe thead tr:only-child th {\n",
       "        text-align: right;\n",
       "    }\n",
       "\n",
       "    .dataframe thead th {\n",
       "        text-align: left;\n",
       "    }\n",
       "\n",
       "    .dataframe tbody tr th {\n",
       "        vertical-align: top;\n",
       "    }\n",
       "</style>\n",
       "<table border=\"1\" class=\"dataframe\">\n",
       "  <thead>\n",
       "    <tr style=\"text-align: right;\">\n",
       "      <th></th>\n",
       "    </tr>\n",
       "  </thead>\n",
       "  <tbody>\n",
       "  </tbody>\n",
       "</table>\n",
       "</div>"
      ],
      "text/plain": [
       "Empty DataFrame\n",
       "Columns: []\n",
       "Index: []"
      ]
     },
     "execution_count": 51,
     "metadata": {},
     "output_type": "execute_result"
    }
   ],
   "source": [
    "df_gfk_busi.apply(tup)"
   ]
  },
  {
   "cell_type": "code",
   "execution_count": 52,
   "metadata": {},
   "outputs": [
    {
     "data": {
      "text/plain": [
       "52"
      ]
     },
     "execution_count": 52,
     "metadata": {},
     "output_type": "execute_result"
    }
   ],
   "source": [
    "len(list_t)"
   ]
  },
  {
   "cell_type": "code",
   "execution_count": 53,
   "metadata": {},
   "outputs": [],
   "source": [
    "new_list = list_t[1:]"
   ]
  },
  {
   "cell_type": "code",
   "execution_count": 54,
   "metadata": {},
   "outputs": [
    {
     "data": {
      "text/plain": [
       "0.8571428571428571"
      ]
     },
     "execution_count": 54,
     "metadata": {},
     "output_type": "execute_result"
    }
   ],
   "source": [
    "6.0/7 "
   ]
  },
  {
   "cell_type": "code",
   "execution_count": 55,
   "metadata": {},
   "outputs": [
    {
     "data": {
      "text/plain": [
       "21"
      ]
     },
     "execution_count": 55,
     "metadata": {},
     "output_type": "execute_result"
    }
   ],
   "source": [
    "len(df_ph)"
   ]
  },
  {
   "cell_type": "code",
   "execution_count": 56,
   "metadata": {},
   "outputs": [
    {
     "name": "stdout",
     "output_type": "stream",
     "text": [
      "==================\n",
      "Your score:  0.303921568627\n",
      "==================\n"
     ]
    }
   ],
   "source": [
    "def good_for_kids_ci():\n",
    "    #return [('Anthem', (0.85714285714285721, 1.0))] * 51\n",
    "    return new_list\n",
    "\n",
    "grader.score('ps__good_for_kids_ci', good_for_kids_ci)"
   ]
  },
  {
   "cell_type": "markdown",
   "metadata": {},
   "source": [
    "**Question**: For which cities do you need to apply the Rule of Three?  Is there there something similar about these cities in the data?"
   ]
  },
  {
   "cell_type": "markdown",
   "metadata": {},
   "source": [
    "## Category reviews confidence interval"
   ]
  },
  {
   "cell_type": "markdown",
   "metadata": {},
   "source": [
    "Some categories may be more popular than others.  Compute the 3-sigma confidence interval for the average number of reviews for businesses in each category.\n",
    "\n",
    "**Note**:\n",
    "1. Category is actually a list of categories that apply to the business.  Let's just set a business's category to be the first one in this list.  Ignore businesses that do not have categories defined.\n",
    "2. Only consider categories that have at least 40 businesses.\n",
    "3. Assume the data for all the businesses was collected over the same time period. What probability distribution might we assume for the count of reviews during that time?  Instead of estimation the standard deviation using the standard deviation of the sample, use the properties of the assumed probability distribution to estimate the standard deviation."
   ]
  },
  {
   "cell_type": "code",
   "execution_count": 57,
   "metadata": {},
   "outputs": [
    {
     "data": {
      "text/html": [
       "<div>\n",
       "<style>\n",
       "    .dataframe thead tr:only-child th {\n",
       "        text-align: right;\n",
       "    }\n",
       "\n",
       "    .dataframe thead th {\n",
       "        text-align: left;\n",
       "    }\n",
       "\n",
       "    .dataframe tbody tr th {\n",
       "        vertical-align: top;\n",
       "    }\n",
       "</style>\n",
       "<table border=\"1\" class=\"dataframe\">\n",
       "  <thead>\n",
       "    <tr style=\"text-align: right;\">\n",
       "      <th></th>\n",
       "      <th>attributes</th>\n",
       "      <th>business_id</th>\n",
       "      <th>categories</th>\n",
       "      <th>city</th>\n",
       "      <th>full_address</th>\n",
       "      <th>hours</th>\n",
       "      <th>latitude</th>\n",
       "      <th>longitude</th>\n",
       "      <th>name</th>\n",
       "      <th>neighborhoods</th>\n",
       "      <th>open</th>\n",
       "      <th>review_count</th>\n",
       "      <th>stars</th>\n",
       "      <th>state</th>\n",
       "      <th>type</th>\n",
       "      <th>GFK</th>\n",
       "    </tr>\n",
       "  </thead>\n",
       "  <tbody>\n",
       "    <tr>\n",
       "      <th>0</th>\n",
       "      <td>{u'By Appointment Only': True}</td>\n",
       "      <td>vcNAWiLM4dR7D2nwwJ7nCA</td>\n",
       "      <td>[Doctors, Health &amp; Medical]</td>\n",
       "      <td>Phoenix</td>\n",
       "      <td>4840 E Indian School Rd\\nSte 101\\nPhoenix, AZ ...</td>\n",
       "      <td>{u'Thursday': {u'close': u'17:00', u'open': u'...</td>\n",
       "      <td>33.499313</td>\n",
       "      <td>-111.983758</td>\n",
       "      <td>Eric Goldberg, MD</td>\n",
       "      <td>[]</td>\n",
       "      <td>True</td>\n",
       "      <td>7</td>\n",
       "      <td>3.5</td>\n",
       "      <td>AZ</td>\n",
       "      <td>business</td>\n",
       "      <td>False</td>\n",
       "    </tr>\n",
       "    <tr>\n",
       "      <th>1</th>\n",
       "      <td>{u'Take-out': True, u'Price Range': 1, u'Outdo...</td>\n",
       "      <td>JwUE5GmEO-sH1FuwJgKBlQ</td>\n",
       "      <td>[Restaurants]</td>\n",
       "      <td>De Forest</td>\n",
       "      <td>6162 US Highway 51\\nDe Forest, WI 53532</td>\n",
       "      <td>{}</td>\n",
       "      <td>43.238893</td>\n",
       "      <td>-89.335844</td>\n",
       "      <td>Pine Cone Restaurant</td>\n",
       "      <td>[]</td>\n",
       "      <td>True</td>\n",
       "      <td>26</td>\n",
       "      <td>4.0</td>\n",
       "      <td>WI</td>\n",
       "      <td>business</td>\n",
       "      <td>True</td>\n",
       "    </tr>\n",
       "    <tr>\n",
       "      <th>2</th>\n",
       "      <td>{u'Take-out': True, u'Outdoor Seating': False,...</td>\n",
       "      <td>uGykseHzyS5xAMWoN6YUqA</td>\n",
       "      <td>[American (Traditional), Restaurants]</td>\n",
       "      <td>De Forest</td>\n",
       "      <td>505 W North St\\nDe Forest, WI 53532</td>\n",
       "      <td>{u'Monday': {u'close': u'22:00', u'open': u'06...</td>\n",
       "      <td>43.252267</td>\n",
       "      <td>-89.353437</td>\n",
       "      <td>Deforest Family Restaurant</td>\n",
       "      <td>[]</td>\n",
       "      <td>True</td>\n",
       "      <td>16</td>\n",
       "      <td>4.0</td>\n",
       "      <td>WI</td>\n",
       "      <td>business</td>\n",
       "      <td>True</td>\n",
       "    </tr>\n",
       "    <tr>\n",
       "      <th>3</th>\n",
       "      <td>{u'Take-out': True, u'Accepts Credit Cards': T...</td>\n",
       "      <td>LRKJF43s9-3jG9Lgx4zODg</td>\n",
       "      <td>[Food, Ice Cream &amp; Frozen Yogurt, Fast Food, R...</td>\n",
       "      <td>De Forest</td>\n",
       "      <td>4910 County Rd V\\nDe Forest, WI 53532</td>\n",
       "      <td>{u'Monday': {u'close': u'22:00', u'open': u'10...</td>\n",
       "      <td>43.251045</td>\n",
       "      <td>-89.374983</td>\n",
       "      <td>Culver's</td>\n",
       "      <td>[]</td>\n",
       "      <td>True</td>\n",
       "      <td>7</td>\n",
       "      <td>4.5</td>\n",
       "      <td>WI</td>\n",
       "      <td>business</td>\n",
       "      <td>False</td>\n",
       "    </tr>\n",
       "    <tr>\n",
       "      <th>4</th>\n",
       "      <td>{u'Take-out': True, u'Has TV': False, u'Outdoo...</td>\n",
       "      <td>RgDg-k9S5YD_BaxMckifkg</td>\n",
       "      <td>[Chinese, Restaurants]</td>\n",
       "      <td>De Forest</td>\n",
       "      <td>631 S Main St\\nDe Forest, WI 53532</td>\n",
       "      <td>{u'Monday': {u'close': u'22:00', u'open': u'11...</td>\n",
       "      <td>43.240875</td>\n",
       "      <td>-89.343722</td>\n",
       "      <td>Chang Jiang Chinese Kitchen</td>\n",
       "      <td>[]</td>\n",
       "      <td>True</td>\n",
       "      <td>3</td>\n",
       "      <td>4.0</td>\n",
       "      <td>WI</td>\n",
       "      <td>business</td>\n",
       "      <td>False</td>\n",
       "    </tr>\n",
       "  </tbody>\n",
       "</table>\n",
       "</div>"
      ],
      "text/plain": [
       "                                          attributes             business_id  \\\n",
       "0                     {u'By Appointment Only': True}  vcNAWiLM4dR7D2nwwJ7nCA   \n",
       "1  {u'Take-out': True, u'Price Range': 1, u'Outdo...  JwUE5GmEO-sH1FuwJgKBlQ   \n",
       "2  {u'Take-out': True, u'Outdoor Seating': False,...  uGykseHzyS5xAMWoN6YUqA   \n",
       "3  {u'Take-out': True, u'Accepts Credit Cards': T...  LRKJF43s9-3jG9Lgx4zODg   \n",
       "4  {u'Take-out': True, u'Has TV': False, u'Outdoo...  RgDg-k9S5YD_BaxMckifkg   \n",
       "\n",
       "                                          categories       city  \\\n",
       "0                        [Doctors, Health & Medical]    Phoenix   \n",
       "1                                      [Restaurants]  De Forest   \n",
       "2              [American (Traditional), Restaurants]  De Forest   \n",
       "3  [Food, Ice Cream & Frozen Yogurt, Fast Food, R...  De Forest   \n",
       "4                             [Chinese, Restaurants]  De Forest   \n",
       "\n",
       "                                        full_address  \\\n",
       "0  4840 E Indian School Rd\\nSte 101\\nPhoenix, AZ ...   \n",
       "1            6162 US Highway 51\\nDe Forest, WI 53532   \n",
       "2                505 W North St\\nDe Forest, WI 53532   \n",
       "3              4910 County Rd V\\nDe Forest, WI 53532   \n",
       "4                 631 S Main St\\nDe Forest, WI 53532   \n",
       "\n",
       "                                               hours   latitude   longitude  \\\n",
       "0  {u'Thursday': {u'close': u'17:00', u'open': u'...  33.499313 -111.983758   \n",
       "1                                                 {}  43.238893  -89.335844   \n",
       "2  {u'Monday': {u'close': u'22:00', u'open': u'06...  43.252267  -89.353437   \n",
       "3  {u'Monday': {u'close': u'22:00', u'open': u'10...  43.251045  -89.374983   \n",
       "4  {u'Monday': {u'close': u'22:00', u'open': u'11...  43.240875  -89.343722   \n",
       "\n",
       "                          name neighborhoods  open  review_count  stars state  \\\n",
       "0            Eric Goldberg, MD            []  True             7    3.5    AZ   \n",
       "1         Pine Cone Restaurant            []  True            26    4.0    WI   \n",
       "2   Deforest Family Restaurant            []  True            16    4.0    WI   \n",
       "3                     Culver's            []  True             7    4.5    WI   \n",
       "4  Chang Jiang Chinese Kitchen            []  True             3    4.0    WI   \n",
       "\n",
       "       type    GFK  \n",
       "0  business  False  \n",
       "1  business   True  \n",
       "2  business   True  \n",
       "3  business  False  \n",
       "4  business  False  "
      ]
     },
     "execution_count": 57,
     "metadata": {},
     "output_type": "execute_result"
    }
   ],
   "source": [
    "df.head()"
   ]
  },
  {
   "cell_type": "code",
   "execution_count": 58,
   "metadata": {},
   "outputs": [
    {
     "data": {
      "text/plain": [
       "0                          [Doctors, Health & Medical]\n",
       "1                                        [Restaurants]\n",
       "2                [American (Traditional), Restaurants]\n",
       "3    [Food, Ice Cream & Frozen Yogurt, Fast Food, R...\n",
       "4                               [Chinese, Restaurants]\n",
       "Name: categories, dtype: object"
      ]
     },
     "execution_count": 58,
     "metadata": {},
     "output_type": "execute_result"
    }
   ],
   "source": [
    "df['categories'].head()"
   ]
  },
  {
   "cell_type": "code",
   "execution_count": 59,
   "metadata": {},
   "outputs": [],
   "source": [
    "df['category'] = df['categories'].apply(lambda x: np.nan if len(x) == 0 else x[0])"
   ]
  },
  {
   "cell_type": "code",
   "execution_count": 60,
   "metadata": {},
   "outputs": [
    {
     "data": {
      "text/html": [
       "<div>\n",
       "<style>\n",
       "    .dataframe thead tr:only-child th {\n",
       "        text-align: right;\n",
       "    }\n",
       "\n",
       "    .dataframe thead th {\n",
       "        text-align: left;\n",
       "    }\n",
       "\n",
       "    .dataframe tbody tr th {\n",
       "        vertical-align: top;\n",
       "    }\n",
       "</style>\n",
       "<table border=\"1\" class=\"dataframe\">\n",
       "  <thead>\n",
       "    <tr style=\"text-align: right;\">\n",
       "      <th></th>\n",
       "      <th>attributes</th>\n",
       "      <th>business_id</th>\n",
       "      <th>categories</th>\n",
       "      <th>city</th>\n",
       "      <th>full_address</th>\n",
       "      <th>hours</th>\n",
       "      <th>latitude</th>\n",
       "      <th>longitude</th>\n",
       "      <th>name</th>\n",
       "      <th>neighborhoods</th>\n",
       "      <th>open</th>\n",
       "      <th>review_count</th>\n",
       "      <th>stars</th>\n",
       "      <th>state</th>\n",
       "      <th>type</th>\n",
       "      <th>GFK</th>\n",
       "      <th>category</th>\n",
       "    </tr>\n",
       "  </thead>\n",
       "  <tbody>\n",
       "    <tr>\n",
       "      <th>0</th>\n",
       "      <td>{u'By Appointment Only': True}</td>\n",
       "      <td>vcNAWiLM4dR7D2nwwJ7nCA</td>\n",
       "      <td>[Doctors, Health &amp; Medical]</td>\n",
       "      <td>Phoenix</td>\n",
       "      <td>4840 E Indian School Rd\\nSte 101\\nPhoenix, AZ ...</td>\n",
       "      <td>{u'Thursday': {u'close': u'17:00', u'open': u'...</td>\n",
       "      <td>33.499313</td>\n",
       "      <td>-111.983758</td>\n",
       "      <td>Eric Goldberg, MD</td>\n",
       "      <td>[]</td>\n",
       "      <td>True</td>\n",
       "      <td>7</td>\n",
       "      <td>3.5</td>\n",
       "      <td>AZ</td>\n",
       "      <td>business</td>\n",
       "      <td>False</td>\n",
       "      <td>Doctors</td>\n",
       "    </tr>\n",
       "  </tbody>\n",
       "</table>\n",
       "</div>"
      ],
      "text/plain": [
       "                       attributes             business_id  \\\n",
       "0  {u'By Appointment Only': True}  vcNAWiLM4dR7D2nwwJ7nCA   \n",
       "\n",
       "                    categories     city  \\\n",
       "0  [Doctors, Health & Medical]  Phoenix   \n",
       "\n",
       "                                        full_address  \\\n",
       "0  4840 E Indian School Rd\\nSte 101\\nPhoenix, AZ ...   \n",
       "\n",
       "                                               hours   latitude   longitude  \\\n",
       "0  {u'Thursday': {u'close': u'17:00', u'open': u'...  33.499313 -111.983758   \n",
       "\n",
       "                name neighborhoods  open  review_count  stars state      type  \\\n",
       "0  Eric Goldberg, MD            []  True             7    3.5    AZ  business   \n",
       "\n",
       "     GFK category  \n",
       "0  False  Doctors  "
      ]
     },
     "execution_count": 60,
     "metadata": {},
     "output_type": "execute_result"
    }
   ],
   "source": [
    "df.head(1)"
   ]
  },
  {
   "cell_type": "code",
   "execution_count": 61,
   "metadata": {},
   "outputs": [],
   "source": [
    "df_400 = df.groupby('category').filter(lambda x: len(x) >= 40)"
   ]
  },
  {
   "cell_type": "code",
   "execution_count": 62,
   "metadata": {},
   "outputs": [
    {
     "data": {
      "text/plain": [
       "(35068, 17)"
      ]
     },
     "execution_count": 62,
     "metadata": {},
     "output_type": "execute_result"
    }
   ],
   "source": [
    "df_400.shape"
   ]
  },
  {
   "cell_type": "code",
   "execution_count": 63,
   "metadata": {},
   "outputs": [
    {
     "data": {
      "text/plain": [
       "119"
      ]
     },
     "execution_count": 63,
     "metadata": {},
     "output_type": "execute_result"
    }
   ],
   "source": [
    "grp_cat = df_400.groupby('category')\n",
    "len(grp_cat)"
   ]
  },
  {
   "cell_type": "code",
   "execution_count": 64,
   "metadata": {},
   "outputs": [],
   "source": [
    "def ci(df):\n",
    "    lambd = df['review_count'].mean()\n",
    "    cont = df['review_count'].count()\n",
    "    std = np.sqrt(lambd/cont)\n",
    "    c_interval = (lambd - 3*std,lambd + 3*std)\n",
    "    return c_interval"
   ]
  },
  {
   "cell_type": "code",
   "execution_count": 65,
   "metadata": {},
   "outputs": [
    {
     "data": {
      "text/plain": [
       "pandas.core.series.Series"
      ]
     },
     "execution_count": 65,
     "metadata": {},
     "output_type": "execute_result"
    }
   ],
   "source": [
    "city_review = grp_cat.apply(ci)\n",
    "type(city_review)"
   ]
  },
  {
   "cell_type": "code",
   "execution_count": 66,
   "metadata": {},
   "outputs": [
    {
     "data": {
      "text/html": [
       "<div>\n",
       "<style>\n",
       "    .dataframe thead tr:only-child th {\n",
       "        text-align: right;\n",
       "    }\n",
       "\n",
       "    .dataframe thead th {\n",
       "        text-align: left;\n",
       "    }\n",
       "\n",
       "    .dataframe tbody tr th {\n",
       "        vertical-align: top;\n",
       "    }\n",
       "</style>\n",
       "<table border=\"1\" class=\"dataframe\">\n",
       "  <thead>\n",
       "    <tr style=\"text-align: right;\">\n",
       "      <th></th>\n",
       "      <th>category</th>\n",
       "      <th>0</th>\n",
       "    </tr>\n",
       "  </thead>\n",
       "  <tbody>\n",
       "    <tr>\n",
       "      <th>0</th>\n",
       "      <td>Active Life</td>\n",
       "      <td>(16.7885523932, 17.4317296753)</td>\n",
       "    </tr>\n",
       "    <tr>\n",
       "      <th>1</th>\n",
       "      <td>Adult Entertainment</td>\n",
       "      <td>(60.6685146178, 66.2629922315)</td>\n",
       "    </tr>\n",
       "    <tr>\n",
       "      <th>2</th>\n",
       "      <td>American (New)</td>\n",
       "      <td>(67.1246006995, 69.6701361426)</td>\n",
       "    </tr>\n",
       "    <tr>\n",
       "      <th>3</th>\n",
       "      <td>American (Traditional)</td>\n",
       "      <td>(49.8929126957, 51.6396415614)</td>\n",
       "    </tr>\n",
       "    <tr>\n",
       "      <th>4</th>\n",
       "      <td>Arts &amp; Crafts</td>\n",
       "      <td>(8.12875285363, 9.49477655813)</td>\n",
       "    </tr>\n",
       "  </tbody>\n",
       "</table>\n",
       "</div>"
      ],
      "text/plain": [
       "                 category                               0\n",
       "0             Active Life  (16.7885523932, 17.4317296753)\n",
       "1     Adult Entertainment  (60.6685146178, 66.2629922315)\n",
       "2          American (New)  (67.1246006995, 69.6701361426)\n",
       "3  American (Traditional)  (49.8929126957, 51.6396415614)\n",
       "4           Arts & Crafts  (8.12875285363, 9.49477655813)"
      ]
     },
     "execution_count": 66,
     "metadata": {},
     "output_type": "execute_result"
    }
   ],
   "source": [
    "df_city_review = pd.DataFrame(city_review).reset_index()\n",
    "df_city_review.head()"
   ]
  },
  {
   "cell_type": "code",
   "execution_count": 67,
   "metadata": {},
   "outputs": [],
   "source": [
    "#category_reviews_ci_tuples = ..."
   ]
  },
  {
   "cell_type": "code",
   "execution_count": 68,
   "metadata": {},
   "outputs": [
    {
     "name": "stdout",
     "output_type": "stream",
     "text": [
      "==================\n",
      "Your score:  1.0\n",
      "==================\n"
     ]
    }
   ],
   "source": [
    "def category_reviews_ci():\n",
    "    #return [('Active Life', (16.788552393175845, 17.431729675326505))] * 119\n",
    "    alist = []\n",
    "    alist = [ (i[0],i[1])\n",
    "    for i in df_city_review.itertuples(index=False)]\n",
    "    return alist\n",
    "\n",
    "grader.score('ps__category_reviews_ci', category_reviews_ci)"
   ]
  },
  {
   "cell_type": "markdown",
   "metadata": {},
   "source": [
    "**Questions**:\n",
    "1. What categories of businesses tend to have fewer reviews?\n",
    "2. What categories of businesses tend to have more reviews?"
   ]
  },
  {
   "cell_type": "markdown",
   "metadata": {},
   "source": [
    "## Stars by popularity z-score"
   ]
  },
  {
   "cell_type": "markdown",
   "metadata": {},
   "source": [
    "Are more popular venues more likely to be highly rated?  Given the large variation in reporting amongst categories, we know that popularity depends on the category.\n",
    "\n",
    "Separate the venues into those that have (strictly) more reviews than the median for their category, and those that have the same number or fewer.  For each category, compute the average number of stars for both those businesses with more than and less than or equal to the median number of reviews.  Report the z score of the difference of those means.\n",
    "\n",
    "**Note**:\n",
    "1. Again, category of a business will be defined as the first category and you should ignore businesses that do not have categories.\n",
    "2. Likewise, only consider categories with at least 40 businesses."
   ]
  },
  {
   "cell_type": "code",
   "execution_count": 88,
   "metadata": {},
   "outputs": [
    {
     "data": {
      "text/html": [
       "<div>\n",
       "<style>\n",
       "    .dataframe thead tr:only-child th {\n",
       "        text-align: right;\n",
       "    }\n",
       "\n",
       "    .dataframe thead th {\n",
       "        text-align: left;\n",
       "    }\n",
       "\n",
       "    .dataframe tbody tr th {\n",
       "        vertical-align: top;\n",
       "    }\n",
       "</style>\n",
       "<table border=\"1\" class=\"dataframe\">\n",
       "  <thead>\n",
       "    <tr style=\"text-align: right;\">\n",
       "      <th></th>\n",
       "      <th>attributes</th>\n",
       "      <th>business_id</th>\n",
       "      <th>categories</th>\n",
       "      <th>city</th>\n",
       "      <th>full_address</th>\n",
       "      <th>hours</th>\n",
       "      <th>latitude</th>\n",
       "      <th>longitude</th>\n",
       "      <th>name</th>\n",
       "      <th>neighborhoods</th>\n",
       "      <th>open</th>\n",
       "      <th>review_count</th>\n",
       "      <th>stars</th>\n",
       "      <th>state</th>\n",
       "      <th>type</th>\n",
       "      <th>GFK</th>\n",
       "      <th>category</th>\n",
       "    </tr>\n",
       "  </thead>\n",
       "  <tbody>\n",
       "    <tr>\n",
       "      <th>0</th>\n",
       "      <td>{u'By Appointment Only': True}</td>\n",
       "      <td>vcNAWiLM4dR7D2nwwJ7nCA</td>\n",
       "      <td>[Doctors, Health &amp; Medical]</td>\n",
       "      <td>Phoenix</td>\n",
       "      <td>4840 E Indian School Rd\\nSte 101\\nPhoenix, AZ ...</td>\n",
       "      <td>{u'Thursday': {u'close': u'17:00', u'open': u'...</td>\n",
       "      <td>33.499313</td>\n",
       "      <td>-111.983758</td>\n",
       "      <td>Eric Goldberg, MD</td>\n",
       "      <td>[]</td>\n",
       "      <td>True</td>\n",
       "      <td>7</td>\n",
       "      <td>3.5</td>\n",
       "      <td>AZ</td>\n",
       "      <td>business</td>\n",
       "      <td>False</td>\n",
       "      <td>Doctors</td>\n",
       "    </tr>\n",
       "    <tr>\n",
       "      <th>1</th>\n",
       "      <td>{u'Take-out': True, u'Price Range': 1, u'Outdo...</td>\n",
       "      <td>JwUE5GmEO-sH1FuwJgKBlQ</td>\n",
       "      <td>[Restaurants]</td>\n",
       "      <td>De Forest</td>\n",
       "      <td>6162 US Highway 51\\nDe Forest, WI 53532</td>\n",
       "      <td>{}</td>\n",
       "      <td>43.238893</td>\n",
       "      <td>-89.335844</td>\n",
       "      <td>Pine Cone Restaurant</td>\n",
       "      <td>[]</td>\n",
       "      <td>True</td>\n",
       "      <td>26</td>\n",
       "      <td>4.0</td>\n",
       "      <td>WI</td>\n",
       "      <td>business</td>\n",
       "      <td>True</td>\n",
       "      <td>Restaurants</td>\n",
       "    </tr>\n",
       "    <tr>\n",
       "      <th>2</th>\n",
       "      <td>{u'Take-out': True, u'Outdoor Seating': False,...</td>\n",
       "      <td>uGykseHzyS5xAMWoN6YUqA</td>\n",
       "      <td>[American (Traditional), Restaurants]</td>\n",
       "      <td>De Forest</td>\n",
       "      <td>505 W North St\\nDe Forest, WI 53532</td>\n",
       "      <td>{u'Monday': {u'close': u'22:00', u'open': u'06...</td>\n",
       "      <td>43.252267</td>\n",
       "      <td>-89.353437</td>\n",
       "      <td>Deforest Family Restaurant</td>\n",
       "      <td>[]</td>\n",
       "      <td>True</td>\n",
       "      <td>16</td>\n",
       "      <td>4.0</td>\n",
       "      <td>WI</td>\n",
       "      <td>business</td>\n",
       "      <td>True</td>\n",
       "      <td>American (Traditional)</td>\n",
       "    </tr>\n",
       "    <tr>\n",
       "      <th>3</th>\n",
       "      <td>{u'Take-out': True, u'Accepts Credit Cards': T...</td>\n",
       "      <td>LRKJF43s9-3jG9Lgx4zODg</td>\n",
       "      <td>[Food, Ice Cream &amp; Frozen Yogurt, Fast Food, R...</td>\n",
       "      <td>De Forest</td>\n",
       "      <td>4910 County Rd V\\nDe Forest, WI 53532</td>\n",
       "      <td>{u'Monday': {u'close': u'22:00', u'open': u'10...</td>\n",
       "      <td>43.251045</td>\n",
       "      <td>-89.374983</td>\n",
       "      <td>Culver's</td>\n",
       "      <td>[]</td>\n",
       "      <td>True</td>\n",
       "      <td>7</td>\n",
       "      <td>4.5</td>\n",
       "      <td>WI</td>\n",
       "      <td>business</td>\n",
       "      <td>False</td>\n",
       "      <td>Food</td>\n",
       "    </tr>\n",
       "    <tr>\n",
       "      <th>4</th>\n",
       "      <td>{u'Take-out': True, u'Has TV': False, u'Outdoo...</td>\n",
       "      <td>RgDg-k9S5YD_BaxMckifkg</td>\n",
       "      <td>[Chinese, Restaurants]</td>\n",
       "      <td>De Forest</td>\n",
       "      <td>631 S Main St\\nDe Forest, WI 53532</td>\n",
       "      <td>{u'Monday': {u'close': u'22:00', u'open': u'11...</td>\n",
       "      <td>43.240875</td>\n",
       "      <td>-89.343722</td>\n",
       "      <td>Chang Jiang Chinese Kitchen</td>\n",
       "      <td>[]</td>\n",
       "      <td>True</td>\n",
       "      <td>3</td>\n",
       "      <td>4.0</td>\n",
       "      <td>WI</td>\n",
       "      <td>business</td>\n",
       "      <td>False</td>\n",
       "      <td>Chinese</td>\n",
       "    </tr>\n",
       "  </tbody>\n",
       "</table>\n",
       "</div>"
      ],
      "text/plain": [
       "                                          attributes             business_id  \\\n",
       "0                     {u'By Appointment Only': True}  vcNAWiLM4dR7D2nwwJ7nCA   \n",
       "1  {u'Take-out': True, u'Price Range': 1, u'Outdo...  JwUE5GmEO-sH1FuwJgKBlQ   \n",
       "2  {u'Take-out': True, u'Outdoor Seating': False,...  uGykseHzyS5xAMWoN6YUqA   \n",
       "3  {u'Take-out': True, u'Accepts Credit Cards': T...  LRKJF43s9-3jG9Lgx4zODg   \n",
       "4  {u'Take-out': True, u'Has TV': False, u'Outdoo...  RgDg-k9S5YD_BaxMckifkg   \n",
       "\n",
       "                                          categories       city  \\\n",
       "0                        [Doctors, Health & Medical]    Phoenix   \n",
       "1                                      [Restaurants]  De Forest   \n",
       "2              [American (Traditional), Restaurants]  De Forest   \n",
       "3  [Food, Ice Cream & Frozen Yogurt, Fast Food, R...  De Forest   \n",
       "4                             [Chinese, Restaurants]  De Forest   \n",
       "\n",
       "                                        full_address  \\\n",
       "0  4840 E Indian School Rd\\nSte 101\\nPhoenix, AZ ...   \n",
       "1            6162 US Highway 51\\nDe Forest, WI 53532   \n",
       "2                505 W North St\\nDe Forest, WI 53532   \n",
       "3              4910 County Rd V\\nDe Forest, WI 53532   \n",
       "4                 631 S Main St\\nDe Forest, WI 53532   \n",
       "\n",
       "                                               hours   latitude   longitude  \\\n",
       "0  {u'Thursday': {u'close': u'17:00', u'open': u'...  33.499313 -111.983758   \n",
       "1                                                 {}  43.238893  -89.335844   \n",
       "2  {u'Monday': {u'close': u'22:00', u'open': u'06...  43.252267  -89.353437   \n",
       "3  {u'Monday': {u'close': u'22:00', u'open': u'10...  43.251045  -89.374983   \n",
       "4  {u'Monday': {u'close': u'22:00', u'open': u'11...  43.240875  -89.343722   \n",
       "\n",
       "                          name neighborhoods  open  review_count  stars state  \\\n",
       "0            Eric Goldberg, MD            []  True             7    3.5    AZ   \n",
       "1         Pine Cone Restaurant            []  True            26    4.0    WI   \n",
       "2   Deforest Family Restaurant            []  True            16    4.0    WI   \n",
       "3                     Culver's            []  True             7    4.5    WI   \n",
       "4  Chang Jiang Chinese Kitchen            []  True             3    4.0    WI   \n",
       "\n",
       "       type    GFK                category  \n",
       "0  business  False                 Doctors  \n",
       "1  business   True             Restaurants  \n",
       "2  business   True  American (Traditional)  \n",
       "3  business  False                    Food  \n",
       "4  business  False                 Chinese  "
      ]
     },
     "execution_count": 88,
     "metadata": {},
     "output_type": "execute_result"
    }
   ],
   "source": [
    "df.head()"
   ]
  },
  {
   "cell_type": "code",
   "execution_count": 116,
   "metadata": {},
   "outputs": [],
   "source": [
    "df_fi = df.loc[:,['category','review_count','stars']]"
   ]
  },
  {
   "cell_type": "code",
   "execution_count": 119,
   "metadata": {},
   "outputs": [],
   "source": [
    "df_sorted = df_fi.sort_values(['category','review_count','stars'])"
   ]
  },
  {
   "cell_type": "code",
   "execution_count": 98,
   "metadata": {},
   "outputs": [],
   "source": [
    "grp_cat = df.groupby('category')['type'].count()\n",
    "grp_df = grp_cat.to_frame()\n",
    "grp_df = grp_df[grp_df['type'] >= 40]\n",
    "grp_df = grp_df.reset_index()"
   ]
  },
  {
   "cell_type": "code",
   "execution_count": 99,
   "metadata": {},
   "outputs": [
    {
     "data": {
      "text/plain": [
       "latitude     float64\n",
       "longitude    float64\n",
       "open         float64\n",
       "median       float64\n",
       "stars        float64\n",
       "GFK          float64\n",
       "dtype: object"
      ]
     },
     "execution_count": 99,
     "metadata": {},
     "output_type": "execute_result"
    }
   ],
   "source": [
    "median_cat = df.groupby('category').median()\n",
    "median_cat.rename(columns={'review_count':'median'}, inplace = True)\n",
    "median_cat.dtypes\n",
    "#median_cat[['median','stars','length']] = median_cat[['median','stars','length']].astype(int)"
   ]
  },
  {
   "cell_type": "code",
   "execution_count": 113,
   "metadata": {},
   "outputs": [
    {
     "data": {
      "text/html": [
       "<div>\n",
       "<style>\n",
       "    .dataframe thead tr:only-child th {\n",
       "        text-align: right;\n",
       "    }\n",
       "\n",
       "    .dataframe thead th {\n",
       "        text-align: left;\n",
       "    }\n",
       "\n",
       "    .dataframe tbody tr th {\n",
       "        vertical-align: top;\n",
       "    }\n",
       "</style>\n",
       "<table border=\"1\" class=\"dataframe\">\n",
       "  <thead>\n",
       "    <tr style=\"text-align: right;\">\n",
       "      <th></th>\n",
       "      <th>category</th>\n",
       "      <th>median</th>\n",
       "    </tr>\n",
       "  </thead>\n",
       "  <tbody>\n",
       "    <tr>\n",
       "      <th>0</th>\n",
       "      <td>Active Life</td>\n",
       "      <td>8.0</td>\n",
       "    </tr>\n",
       "    <tr>\n",
       "      <th>1</th>\n",
       "      <td>Adult Entertainment</td>\n",
       "      <td>13.0</td>\n",
       "    </tr>\n",
       "    <tr>\n",
       "      <th>2</th>\n",
       "      <td>American (New)</td>\n",
       "      <td>18.0</td>\n",
       "    </tr>\n",
       "    <tr>\n",
       "      <th>3</th>\n",
       "      <td>American (Traditional)</td>\n",
       "      <td>20.0</td>\n",
       "    </tr>\n",
       "    <tr>\n",
       "      <th>4</th>\n",
       "      <td>Arts &amp; Crafts</td>\n",
       "      <td>6.0</td>\n",
       "    </tr>\n",
       "  </tbody>\n",
       "</table>\n",
       "</div>"
      ],
      "text/plain": [
       "                 category  median\n",
       "0             Active Life     8.0\n",
       "1     Adult Entertainment    13.0\n",
       "2          American (New)    18.0\n",
       "3  American (Traditional)    20.0\n",
       "4           Arts & Crafts     6.0"
      ]
     },
     "execution_count": 113,
     "metadata": {},
     "output_type": "execute_result"
    }
   ],
   "source": [
    "median_cat = median_cat.reset_index()\n",
    "median_cat = median_cat[['category','median']]\n",
    "median_cat = pd.merge(grp_df,median_cat,on ='category',how='left')\n",
    "median_cat = median_cat[['category','median']]\n",
    "median_cat.head()"
   ]
  },
  {
   "cell_type": "code",
   "execution_count": 81,
   "metadata": {},
   "outputs": [
    {
     "ename": "NameError",
     "evalue": "name 'sorted_category' is not defined",
     "output_type": "error",
     "traceback": [
      "\u001b[0;31m\u001b[0m",
      "\u001b[0;31mNameError\u001b[0mTraceback (most recent call last)",
      "\u001b[0;32m<ipython-input-81-bf976f731dfd>\u001b[0m in \u001b[0;36m<module>\u001b[0;34m()\u001b[0m\n\u001b[0;32m----> 1\u001b[0;31m \u001b[0msorted_category\u001b[0m\u001b[0;34m[\u001b[0m\u001b[0;34m[\u001b[0m\u001b[0;34m'category'\u001b[0m\u001b[0;34m,\u001b[0m\u001b[0;34m'review_count'\u001b[0m\u001b[0;34m,\u001b[0m\u001b[0;34m'stars'\u001b[0m\u001b[0;34m]\u001b[0m\u001b[0;34m]\u001b[0m\u001b[0;34m\u001b[0m\u001b[0m\n\u001b[0m",
      "\u001b[0;31mNameError\u001b[0m: name 'sorted_category' is not defined"
     ]
    }
   ],
   "source": [
    "sorted_category[['category','review_count','stars']]"
   ]
  },
  {
   "cell_type": "code",
   "execution_count": 120,
   "metadata": {},
   "outputs": [
    {
     "data": {
      "text/html": [
       "<div>\n",
       "<style>\n",
       "    .dataframe thead tr:only-child th {\n",
       "        text-align: right;\n",
       "    }\n",
       "\n",
       "    .dataframe thead th {\n",
       "        text-align: left;\n",
       "    }\n",
       "\n",
       "    .dataframe tbody tr th {\n",
       "        vertical-align: top;\n",
       "    }\n",
       "</style>\n",
       "<table border=\"1\" class=\"dataframe\">\n",
       "  <thead>\n",
       "    <tr style=\"text-align: right;\">\n",
       "      <th></th>\n",
       "      <th>category</th>\n",
       "      <th>review_count</th>\n",
       "      <th>stars</th>\n",
       "    </tr>\n",
       "  </thead>\n",
       "  <tbody>\n",
       "    <tr>\n",
       "      <th>13289</th>\n",
       "      <td>Accessories</td>\n",
       "      <td>9</td>\n",
       "      <td>3.0</td>\n",
       "    </tr>\n",
       "    <tr>\n",
       "      <th>5821</th>\n",
       "      <td>Accountants</td>\n",
       "      <td>3</td>\n",
       "      <td>2.5</td>\n",
       "    </tr>\n",
       "    <tr>\n",
       "      <th>34951</th>\n",
       "      <td>Accountants</td>\n",
       "      <td>3</td>\n",
       "      <td>2.5</td>\n",
       "    </tr>\n",
       "    <tr>\n",
       "      <th>7548</th>\n",
       "      <td>Accountants</td>\n",
       "      <td>3</td>\n",
       "      <td>3.5</td>\n",
       "    </tr>\n",
       "    <tr>\n",
       "      <th>22733</th>\n",
       "      <td>Accountants</td>\n",
       "      <td>3</td>\n",
       "      <td>3.5</td>\n",
       "    </tr>\n",
       "    <tr>\n",
       "      <th>24909</th>\n",
       "      <td>Accountants</td>\n",
       "      <td>3</td>\n",
       "      <td>5.0</td>\n",
       "    </tr>\n",
       "    <tr>\n",
       "      <th>26925</th>\n",
       "      <td>Accountants</td>\n",
       "      <td>3</td>\n",
       "      <td>5.0</td>\n",
       "    </tr>\n",
       "    <tr>\n",
       "      <th>27611</th>\n",
       "      <td>Accountants</td>\n",
       "      <td>3</td>\n",
       "      <td>5.0</td>\n",
       "    </tr>\n",
       "    <tr>\n",
       "      <th>31005</th>\n",
       "      <td>Accountants</td>\n",
       "      <td>3</td>\n",
       "      <td>5.0</td>\n",
       "    </tr>\n",
       "    <tr>\n",
       "      <th>234</th>\n",
       "      <td>Accountants</td>\n",
       "      <td>4</td>\n",
       "      <td>2.0</td>\n",
       "    </tr>\n",
       "    <tr>\n",
       "      <th>7022</th>\n",
       "      <td>Accountants</td>\n",
       "      <td>4</td>\n",
       "      <td>3.0</td>\n",
       "    </tr>\n",
       "    <tr>\n",
       "      <th>6670</th>\n",
       "      <td>Accountants</td>\n",
       "      <td>4</td>\n",
       "      <td>4.0</td>\n",
       "    </tr>\n",
       "    <tr>\n",
       "      <th>16690</th>\n",
       "      <td>Accountants</td>\n",
       "      <td>4</td>\n",
       "      <td>5.0</td>\n",
       "    </tr>\n",
       "    <tr>\n",
       "      <th>37155</th>\n",
       "      <td>Accountants</td>\n",
       "      <td>4</td>\n",
       "      <td>5.0</td>\n",
       "    </tr>\n",
       "    <tr>\n",
       "      <th>30265</th>\n",
       "      <td>Accountants</td>\n",
       "      <td>5</td>\n",
       "      <td>4.0</td>\n",
       "    </tr>\n",
       "    <tr>\n",
       "      <th>2308</th>\n",
       "      <td>Accountants</td>\n",
       "      <td>5</td>\n",
       "      <td>5.0</td>\n",
       "    </tr>\n",
       "    <tr>\n",
       "      <th>7936</th>\n",
       "      <td>Accountants</td>\n",
       "      <td>5</td>\n",
       "      <td>5.0</td>\n",
       "    </tr>\n",
       "    <tr>\n",
       "      <th>13496</th>\n",
       "      <td>Accountants</td>\n",
       "      <td>5</td>\n",
       "      <td>5.0</td>\n",
       "    </tr>\n",
       "    <tr>\n",
       "      <th>27733</th>\n",
       "      <td>Accountants</td>\n",
       "      <td>6</td>\n",
       "      <td>5.0</td>\n",
       "    </tr>\n",
       "    <tr>\n",
       "      <th>29541</th>\n",
       "      <td>Accountants</td>\n",
       "      <td>6</td>\n",
       "      <td>5.0</td>\n",
       "    </tr>\n",
       "    <tr>\n",
       "      <th>27339</th>\n",
       "      <td>Accountants</td>\n",
       "      <td>7</td>\n",
       "      <td>3.5</td>\n",
       "    </tr>\n",
       "    <tr>\n",
       "      <th>19840</th>\n",
       "      <td>Accountants</td>\n",
       "      <td>7</td>\n",
       "      <td>5.0</td>\n",
       "    </tr>\n",
       "    <tr>\n",
       "      <th>21337</th>\n",
       "      <td>Accountants</td>\n",
       "      <td>8</td>\n",
       "      <td>4.5</td>\n",
       "    </tr>\n",
       "    <tr>\n",
       "      <th>16440</th>\n",
       "      <td>Accountants</td>\n",
       "      <td>9</td>\n",
       "      <td>5.0</td>\n",
       "    </tr>\n",
       "    <tr>\n",
       "      <th>29642</th>\n",
       "      <td>Accountants</td>\n",
       "      <td>10</td>\n",
       "      <td>5.0</td>\n",
       "    </tr>\n",
       "    <tr>\n",
       "      <th>214</th>\n",
       "      <td>Accountants</td>\n",
       "      <td>14</td>\n",
       "      <td>5.0</td>\n",
       "    </tr>\n",
       "    <tr>\n",
       "      <th>5194</th>\n",
       "      <td>Accountants</td>\n",
       "      <td>16</td>\n",
       "      <td>5.0</td>\n",
       "    </tr>\n",
       "    <tr>\n",
       "      <th>5665</th>\n",
       "      <td>Active Life</td>\n",
       "      <td>3</td>\n",
       "      <td>1.0</td>\n",
       "    </tr>\n",
       "    <tr>\n",
       "      <th>16259</th>\n",
       "      <td>Active Life</td>\n",
       "      <td>3</td>\n",
       "      <td>1.0</td>\n",
       "    </tr>\n",
       "    <tr>\n",
       "      <th>11</th>\n",
       "      <td>Active Life</td>\n",
       "      <td>3</td>\n",
       "      <td>1.5</td>\n",
       "    </tr>\n",
       "    <tr>\n",
       "      <th>...</th>\n",
       "      <td>...</td>\n",
       "      <td>...</td>\n",
       "      <td>...</td>\n",
       "    </tr>\n",
       "    <tr>\n",
       "      <th>14096</th>\n",
       "      <td>NaN</td>\n",
       "      <td>7</td>\n",
       "      <td>3.5</td>\n",
       "    </tr>\n",
       "    <tr>\n",
       "      <th>21532</th>\n",
       "      <td>NaN</td>\n",
       "      <td>7</td>\n",
       "      <td>3.5</td>\n",
       "    </tr>\n",
       "    <tr>\n",
       "      <th>28836</th>\n",
       "      <td>NaN</td>\n",
       "      <td>7</td>\n",
       "      <td>3.5</td>\n",
       "    </tr>\n",
       "    <tr>\n",
       "      <th>8329</th>\n",
       "      <td>NaN</td>\n",
       "      <td>7</td>\n",
       "      <td>4.5</td>\n",
       "    </tr>\n",
       "    <tr>\n",
       "      <th>9586</th>\n",
       "      <td>NaN</td>\n",
       "      <td>7</td>\n",
       "      <td>4.5</td>\n",
       "    </tr>\n",
       "    <tr>\n",
       "      <th>14775</th>\n",
       "      <td>NaN</td>\n",
       "      <td>8</td>\n",
       "      <td>1.5</td>\n",
       "    </tr>\n",
       "    <tr>\n",
       "      <th>2214</th>\n",
       "      <td>NaN</td>\n",
       "      <td>8</td>\n",
       "      <td>2.5</td>\n",
       "    </tr>\n",
       "    <tr>\n",
       "      <th>4923</th>\n",
       "      <td>NaN</td>\n",
       "      <td>8</td>\n",
       "      <td>2.5</td>\n",
       "    </tr>\n",
       "    <tr>\n",
       "      <th>10417</th>\n",
       "      <td>NaN</td>\n",
       "      <td>8</td>\n",
       "      <td>2.5</td>\n",
       "    </tr>\n",
       "    <tr>\n",
       "      <th>178</th>\n",
       "      <td>NaN</td>\n",
       "      <td>8</td>\n",
       "      <td>3.0</td>\n",
       "    </tr>\n",
       "    <tr>\n",
       "      <th>4158</th>\n",
       "      <td>NaN</td>\n",
       "      <td>8</td>\n",
       "      <td>3.0</td>\n",
       "    </tr>\n",
       "    <tr>\n",
       "      <th>5383</th>\n",
       "      <td>NaN</td>\n",
       "      <td>8</td>\n",
       "      <td>3.5</td>\n",
       "    </tr>\n",
       "    <tr>\n",
       "      <th>5642</th>\n",
       "      <td>NaN</td>\n",
       "      <td>8</td>\n",
       "      <td>3.5</td>\n",
       "    </tr>\n",
       "    <tr>\n",
       "      <th>12346</th>\n",
       "      <td>NaN</td>\n",
       "      <td>8</td>\n",
       "      <td>3.5</td>\n",
       "    </tr>\n",
       "    <tr>\n",
       "      <th>9020</th>\n",
       "      <td>NaN</td>\n",
       "      <td>8</td>\n",
       "      <td>5.0</td>\n",
       "    </tr>\n",
       "    <tr>\n",
       "      <th>23108</th>\n",
       "      <td>NaN</td>\n",
       "      <td>8</td>\n",
       "      <td>5.0</td>\n",
       "    </tr>\n",
       "    <tr>\n",
       "      <th>23545</th>\n",
       "      <td>NaN</td>\n",
       "      <td>9</td>\n",
       "      <td>1.0</td>\n",
       "    </tr>\n",
       "    <tr>\n",
       "      <th>4932</th>\n",
       "      <td>NaN</td>\n",
       "      <td>9</td>\n",
       "      <td>3.5</td>\n",
       "    </tr>\n",
       "    <tr>\n",
       "      <th>8787</th>\n",
       "      <td>NaN</td>\n",
       "      <td>9</td>\n",
       "      <td>4.0</td>\n",
       "    </tr>\n",
       "    <tr>\n",
       "      <th>14302</th>\n",
       "      <td>NaN</td>\n",
       "      <td>9</td>\n",
       "      <td>4.0</td>\n",
       "    </tr>\n",
       "    <tr>\n",
       "      <th>15223</th>\n",
       "      <td>NaN</td>\n",
       "      <td>10</td>\n",
       "      <td>1.5</td>\n",
       "    </tr>\n",
       "    <tr>\n",
       "      <th>1181</th>\n",
       "      <td>NaN</td>\n",
       "      <td>10</td>\n",
       "      <td>2.5</td>\n",
       "    </tr>\n",
       "    <tr>\n",
       "      <th>9420</th>\n",
       "      <td>NaN</td>\n",
       "      <td>10</td>\n",
       "      <td>3.0</td>\n",
       "    </tr>\n",
       "    <tr>\n",
       "      <th>10290</th>\n",
       "      <td>NaN</td>\n",
       "      <td>13</td>\n",
       "      <td>3.5</td>\n",
       "    </tr>\n",
       "    <tr>\n",
       "      <th>9772</th>\n",
       "      <td>NaN</td>\n",
       "      <td>13</td>\n",
       "      <td>5.0</td>\n",
       "    </tr>\n",
       "    <tr>\n",
       "      <th>24257</th>\n",
       "      <td>NaN</td>\n",
       "      <td>15</td>\n",
       "      <td>4.0</td>\n",
       "    </tr>\n",
       "    <tr>\n",
       "      <th>10738</th>\n",
       "      <td>NaN</td>\n",
       "      <td>16</td>\n",
       "      <td>2.0</td>\n",
       "    </tr>\n",
       "    <tr>\n",
       "      <th>4373</th>\n",
       "      <td>NaN</td>\n",
       "      <td>19</td>\n",
       "      <td>3.5</td>\n",
       "    </tr>\n",
       "    <tr>\n",
       "      <th>11109</th>\n",
       "      <td>NaN</td>\n",
       "      <td>35</td>\n",
       "      <td>3.0</td>\n",
       "    </tr>\n",
       "    <tr>\n",
       "      <th>27110</th>\n",
       "      <td>NaN</td>\n",
       "      <td>41</td>\n",
       "      <td>3.0</td>\n",
       "    </tr>\n",
       "  </tbody>\n",
       "</table>\n",
       "<p>37938 rows × 3 columns</p>\n",
       "</div>"
      ],
      "text/plain": [
       "          category  review_count  stars\n",
       "13289  Accessories             9    3.0\n",
       "5821   Accountants             3    2.5\n",
       "34951  Accountants             3    2.5\n",
       "7548   Accountants             3    3.5\n",
       "22733  Accountants             3    3.5\n",
       "24909  Accountants             3    5.0\n",
       "26925  Accountants             3    5.0\n",
       "27611  Accountants             3    5.0\n",
       "31005  Accountants             3    5.0\n",
       "234    Accountants             4    2.0\n",
       "7022   Accountants             4    3.0\n",
       "6670   Accountants             4    4.0\n",
       "16690  Accountants             4    5.0\n",
       "37155  Accountants             4    5.0\n",
       "30265  Accountants             5    4.0\n",
       "2308   Accountants             5    5.0\n",
       "7936   Accountants             5    5.0\n",
       "13496  Accountants             5    5.0\n",
       "27733  Accountants             6    5.0\n",
       "29541  Accountants             6    5.0\n",
       "27339  Accountants             7    3.5\n",
       "19840  Accountants             7    5.0\n",
       "21337  Accountants             8    4.5\n",
       "16440  Accountants             9    5.0\n",
       "29642  Accountants            10    5.0\n",
       "214    Accountants            14    5.0\n",
       "5194   Accountants            16    5.0\n",
       "5665   Active Life             3    1.0\n",
       "16259  Active Life             3    1.0\n",
       "11     Active Life             3    1.5\n",
       "...            ...           ...    ...\n",
       "14096          NaN             7    3.5\n",
       "21532          NaN             7    3.5\n",
       "28836          NaN             7    3.5\n",
       "8329           NaN             7    4.5\n",
       "9586           NaN             7    4.5\n",
       "14775          NaN             8    1.5\n",
       "2214           NaN             8    2.5\n",
       "4923           NaN             8    2.5\n",
       "10417          NaN             8    2.5\n",
       "178            NaN             8    3.0\n",
       "4158           NaN             8    3.0\n",
       "5383           NaN             8    3.5\n",
       "5642           NaN             8    3.5\n",
       "12346          NaN             8    3.5\n",
       "9020           NaN             8    5.0\n",
       "23108          NaN             8    5.0\n",
       "23545          NaN             9    1.0\n",
       "4932           NaN             9    3.5\n",
       "8787           NaN             9    4.0\n",
       "14302          NaN             9    4.0\n",
       "15223          NaN            10    1.5\n",
       "1181           NaN            10    2.5\n",
       "9420           NaN            10    3.0\n",
       "10290          NaN            13    3.5\n",
       "9772           NaN            13    5.0\n",
       "24257          NaN            15    4.0\n",
       "10738          NaN            16    2.0\n",
       "4373           NaN            19    3.5\n",
       "11109          NaN            35    3.0\n",
       "27110          NaN            41    3.0\n",
       "\n",
       "[37938 rows x 3 columns]"
      ]
     },
     "execution_count": 120,
     "metadata": {},
     "output_type": "execute_result"
    }
   ],
   "source": [
    "df_sorted"
   ]
  },
  {
   "cell_type": "code",
   "execution_count": 121,
   "metadata": {},
   "outputs": [
    {
     "data": {
      "text/html": [
       "<div>\n",
       "<style>\n",
       "    .dataframe thead tr:only-child th {\n",
       "        text-align: right;\n",
       "    }\n",
       "\n",
       "    .dataframe thead th {\n",
       "        text-align: left;\n",
       "    }\n",
       "\n",
       "    .dataframe tbody tr th {\n",
       "        vertical-align: top;\n",
       "    }\n",
       "</style>\n",
       "<table border=\"1\" class=\"dataframe\">\n",
       "  <thead>\n",
       "    <tr style=\"text-align: right;\">\n",
       "      <th></th>\n",
       "      <th>category</th>\n",
       "      <th>median</th>\n",
       "      <th>review_count</th>\n",
       "      <th>stars</th>\n",
       "      <th>above_median</th>\n",
       "    </tr>\n",
       "  </thead>\n",
       "  <tbody>\n",
       "    <tr>\n",
       "      <th>0</th>\n",
       "      <td>Active Life</td>\n",
       "      <td>8.0</td>\n",
       "      <td>3</td>\n",
       "      <td>1.0</td>\n",
       "      <td>False</td>\n",
       "    </tr>\n",
       "    <tr>\n",
       "      <th>1</th>\n",
       "      <td>Active Life</td>\n",
       "      <td>8.0</td>\n",
       "      <td>3</td>\n",
       "      <td>1.0</td>\n",
       "      <td>False</td>\n",
       "    </tr>\n",
       "    <tr>\n",
       "      <th>2</th>\n",
       "      <td>Active Life</td>\n",
       "      <td>8.0</td>\n",
       "      <td>3</td>\n",
       "      <td>1.5</td>\n",
       "      <td>False</td>\n",
       "    </tr>\n",
       "    <tr>\n",
       "      <th>3</th>\n",
       "      <td>Active Life</td>\n",
       "      <td>8.0</td>\n",
       "      <td>3</td>\n",
       "      <td>1.5</td>\n",
       "      <td>False</td>\n",
       "    </tr>\n",
       "    <tr>\n",
       "      <th>4</th>\n",
       "      <td>Active Life</td>\n",
       "      <td>8.0</td>\n",
       "      <td>3</td>\n",
       "      <td>1.5</td>\n",
       "      <td>False</td>\n",
       "    </tr>\n",
       "  </tbody>\n",
       "</table>\n",
       "</div>"
      ],
      "text/plain": [
       "      category  median  review_count  stars  above_median\n",
       "0  Active Life     8.0             3    1.0         False\n",
       "1  Active Life     8.0             3    1.0         False\n",
       "2  Active Life     8.0             3    1.5         False\n",
       "3  Active Life     8.0             3    1.5         False\n",
       "4  Active Life     8.0             3    1.5         False"
      ]
     },
     "execution_count": 121,
     "metadata": {},
     "output_type": "execute_result"
    }
   ],
   "source": [
    "df_sorted = pd.merge(median_cat,df_sorted,on = 'category', how ='left')\n",
    "df_sorted['above_median'] = df_sorted['review_count'] > df_sorted['median']\n",
    "df_sorted.head()"
   ]
  },
  {
   "cell_type": "code",
   "execution_count": 122,
   "metadata": {},
   "outputs": [
    {
     "data": {
      "text/html": [
       "<div>\n",
       "<style>\n",
       "    .dataframe thead tr:only-child th {\n",
       "        text-align: right;\n",
       "    }\n",
       "\n",
       "    .dataframe thead th {\n",
       "        text-align: left;\n",
       "    }\n",
       "\n",
       "    .dataframe tbody tr th {\n",
       "        vertical-align: top;\n",
       "    }\n",
       "</style>\n",
       "<table border=\"1\" class=\"dataframe\">\n",
       "  <thead>\n",
       "    <tr style=\"text-align: right;\">\n",
       "      <th></th>\n",
       "      <th>category</th>\n",
       "      <th>count</th>\n",
       "    </tr>\n",
       "  </thead>\n",
       "  <tbody>\n",
       "    <tr>\n",
       "      <th>0</th>\n",
       "      <td>Active Life</td>\n",
       "      <td>1489</td>\n",
       "    </tr>\n",
       "    <tr>\n",
       "      <th>1</th>\n",
       "      <td>Adult Entertainment</td>\n",
       "      <td>73</td>\n",
       "    </tr>\n",
       "    <tr>\n",
       "      <th>2</th>\n",
       "      <td>American (New)</td>\n",
       "      <td>380</td>\n",
       "    </tr>\n",
       "    <tr>\n",
       "      <th>3</th>\n",
       "      <td>American (Traditional)</td>\n",
       "      <td>599</td>\n",
       "    </tr>\n",
       "    <tr>\n",
       "      <th>4</th>\n",
       "      <td>Arts &amp; Crafts</td>\n",
       "      <td>170</td>\n",
       "    </tr>\n",
       "  </tbody>\n",
       "</table>\n",
       "</div>"
      ],
      "text/plain": [
       "                 category  count\n",
       "0             Active Life   1489\n",
       "1     Adult Entertainment     73\n",
       "2          American (New)    380\n",
       "3  American (Traditional)    599\n",
       "4           Arts & Crafts    170"
      ]
     },
     "execution_count": 122,
     "metadata": {},
     "output_type": "execute_result"
    }
   ],
   "source": [
    "sorted_cat = df_sorted.groupby('category').count()\n",
    "sorted_cat = sorted_cat.reset_index()\n",
    "sorted_cat = sorted_cat[['category','review_count']]\n",
    "sorted_cat.columns = ['category','count']\n",
    "sorted_cat.head()"
   ]
  },
  {
   "cell_type": "code",
   "execution_count": 124,
   "metadata": {},
   "outputs": [
    {
     "data": {
      "text/plain": [
       "category\n",
       "Active Life               3.965706\n",
       "Adult Entertainment       3.388889\n",
       "American (New)            3.668478\n",
       "American (Traditional)    3.314189\n",
       "Arts & Crafts             3.595238\n",
       "Name: stars, dtype: float64"
      ]
     },
     "execution_count": 124,
     "metadata": {},
     "output_type": "execute_result"
    }
   ],
   "source": [
    "above_median = df_sorted[df_sorted['above_median'] == True]\n",
    "above_median[['category','review_count','median','stars']]\n",
    "above_median_n = above_median.groupby('category')['review_count'].count()\n",
    "grp_above = above_median.groupby('category')['stars'].mean()\n",
    "grp_above.head()"
   ]
  },
  {
   "cell_type": "code",
   "execution_count": 131,
   "metadata": {},
   "outputs": [
    {
     "data": {
      "text/plain": [
       "category\n",
       "Active Life               0.500196\n",
       "Adult Entertainment       0.315873\n",
       "American (New)            0.345777\n",
       "American (Traditional)    0.334849\n",
       "Arts & Crafts             0.737808\n",
       "Name: stars, dtype: float64"
      ]
     },
     "execution_count": 131,
     "metadata": {},
     "output_type": "execute_result"
    }
   ],
   "source": [
    "var_1 = above_median.groupby('category')['stars'].var(ddof=1)\n",
    "var_1.head()"
   ]
  },
  {
   "cell_type": "code",
   "execution_count": 135,
   "metadata": {},
   "outputs": [
    {
     "data": {
      "text/plain": [
       "category\n",
       "Active Life               729\n",
       "Adult Entertainment        36\n",
       "American (New)            184\n",
       "American (Traditional)    296\n",
       "Arts & Crafts              84\n",
       "Name: stars, dtype: int64"
      ]
     },
     "execution_count": 135,
     "metadata": {},
     "output_type": "execute_result"
    }
   ],
   "source": [
    "n1 = above_median.groupby('category')['stars'].count()\n",
    "n1.head()"
   ]
  },
  {
   "cell_type": "code",
   "execution_count": 143,
   "metadata": {},
   "outputs": [
    {
     "data": {
      "text/plain": [
       "category\n",
       "Active Life               0.000686\n",
       "Adult Entertainment       0.008774\n",
       "American (New)            0.001879\n",
       "American (Traditional)    0.001131\n",
       "Arts & Crafts             0.008783\n",
       "Name: stars, dtype: float64"
      ]
     },
     "execution_count": 143,
     "metadata": {},
     "output_type": "execute_result"
    }
   ],
   "source": [
    "s1 = var_1/n1\n",
    "s1.head()"
   ]
  },
  {
   "cell_type": "code",
   "execution_count": 125,
   "metadata": {},
   "outputs": [
    {
     "data": {
      "text/plain": [
       "category\n",
       "Active Life               4.163158\n",
       "Adult Entertainment       3.270270\n",
       "American (New)            3.349490\n",
       "American (Traditional)    3.181518\n",
       "Arts & Crafts             3.947674\n",
       "Name: stars, dtype: float64"
      ]
     },
     "execution_count": 125,
     "metadata": {},
     "output_type": "execute_result"
    }
   ],
   "source": [
    "below_median = df_sorted[df_sorted['above_median'] == False]\n",
    "below_median[['category','review_count','median','stars']]\n",
    "below_median_n = below_median.groupby('category')['review_count'].count()\n",
    "grp_below = below_median.groupby('category')['stars'].mean()\n",
    "grp_below.head()"
   ]
  },
  {
   "cell_type": "code",
   "execution_count": 132,
   "metadata": {},
   "outputs": [
    {
     "data": {
      "text/plain": [
       "category\n",
       "Active Life               0.718404\n",
       "Adult Entertainment       0.549925\n",
       "American (New)            0.629795\n",
       "American (Traditional)    0.548068\n",
       "Arts & Crafts             0.794289\n",
       "Name: stars, dtype: float64"
      ]
     },
     "execution_count": 132,
     "metadata": {},
     "output_type": "execute_result"
    }
   ],
   "source": [
    "var_2 = below_median.groupby('category')['stars'].var(ddof=1)\n",
    "var_2.head()"
   ]
  },
  {
   "cell_type": "code",
   "execution_count": 136,
   "metadata": {},
   "outputs": [
    {
     "data": {
      "text/plain": [
       "category\n",
       "Active Life               760\n",
       "Adult Entertainment        37\n",
       "American (New)            196\n",
       "American (Traditional)    303\n",
       "Arts & Crafts              86\n",
       "Name: stars, dtype: int64"
      ]
     },
     "execution_count": 136,
     "metadata": {},
     "output_type": "execute_result"
    }
   ],
   "source": [
    "n2 = below_median.groupby('category')['stars'].count()\n",
    "n2.head()"
   ]
  },
  {
   "cell_type": "code",
   "execution_count": 144,
   "metadata": {},
   "outputs": [
    {
     "data": {
      "text/plain": [
       "category\n",
       "Active Life               0.000945\n",
       "Adult Entertainment       0.014863\n",
       "American (New)            0.003213\n",
       "American (Traditional)    0.001809\n",
       "Arts & Crafts             0.009236\n",
       "Name: stars, dtype: float64"
      ]
     },
     "execution_count": 144,
     "metadata": {},
     "output_type": "execute_result"
    }
   ],
   "source": [
    "s2 = var_2/n2\n",
    "s2.head()"
   ]
  },
  {
   "cell_type": "code",
   "execution_count": 137,
   "metadata": {},
   "outputs": [],
   "source": [
    "#df_sorted.groupby('category').count()"
   ]
  },
  {
   "cell_type": "code",
   "execution_count": 140,
   "metadata": {},
   "outputs": [
    {
     "data": {
      "text/plain": [
       "category\n",
       "Active Life              -0.197451\n",
       "Adult Entertainment       0.118619\n",
       "American (New)            0.318988\n",
       "American (Traditional)    0.132671\n",
       "Arts & Crafts            -0.352436\n",
       "Name: stars, dtype: float64"
      ]
     },
     "execution_count": 140,
     "metadata": {},
     "output_type": "execute_result"
    }
   ],
   "source": [
    "sample_mean = grp_above - grp_below\n",
    "sample_mean.head()"
   ]
  },
  {
   "cell_type": "code",
   "execution_count": 146,
   "metadata": {},
   "outputs": [
    {
     "data": {
      "text/plain": [
       "category\n",
       "Active Life              -4.888538\n",
       "Adult Entertainment       0.771535\n",
       "American (New)            4.470037\n",
       "American (Traditional)    2.446801\n",
       "Arts & Crafts            -2.625495\n",
       "Name: stars, dtype: float64"
      ]
     },
     "execution_count": 146,
     "metadata": {},
     "output_type": "execute_result"
    }
   ],
   "source": [
    "z_score = sample_mean/((s1+s2)**0.5)\n",
    "z_score.head()"
   ]
  },
  {
   "cell_type": "code",
   "execution_count": null,
   "metadata": {},
   "outputs": [],
   "source": [
    "\n",
    "#popularity_stars_z_score_tuples = ..."
   ]
  },
  {
   "cell_type": "code",
   "execution_count": 170,
   "metadata": {},
   "outputs": [],
   "source": [
    "df_z = z_score.to_frame()"
   ]
  },
  {
   "cell_type": "code",
   "execution_count": 171,
   "metadata": {},
   "outputs": [
    {
     "name": "stdout",
     "output_type": "stream",
     "text": [
      "==================\n",
      "Your score:  1.0\n",
      "==================\n"
     ]
    }
   ],
   "source": [
    "def popularity_stars_z_score():\n",
    "    #return [('Active Life', -4.8885384947587749)] * 119\n",
    "    alist = []\n",
    "    alist = [ (str(i[0]),i[1])\n",
    "    for i in df_z.itertuples(index=True)]\n",
    "    return alist\n",
    "grader.score('ps__popularity_stars_z_score', popularity_stars_z_score)"
   ]
  },
  {
   "cell_type": "markdown",
   "metadata": {},
   "source": [
    "**Questions**:\n",
    "1. What categories benefit from having more reviewers?\n",
    "2. What categories are hurt by having more reviewers?\n",
    "3. Why did we choose to separate each category by the median number of reviews rather than the mean number of reviews?\n",
    "4. What types of categories have the most disagreement?  Use the variance as a proxy.  How would you compute the 2-sigma confidence interval?"
   ]
  },
  {
   "cell_type": "markdown",
   "metadata": {},
   "source": [
    "*Copyright &copy; 2017 The Data Incubator.  All rights reserved.*"
   ]
  }
 ],
 "metadata": {
  "kernelspec": {
   "display_name": "Python 2",
   "language": "python",
   "name": "python2"
  },
  "language_info": {
   "codemirror_mode": {
    "name": "ipython",
    "version": 2
   },
   "file_extension": ".py",
   "mimetype": "text/x-python",
   "name": "python",
   "nbconvert_exporter": "python",
   "pygments_lexer": "ipython2",
   "version": "2.7.15"
  },
  "nbclean": true
 },
 "nbformat": 4,
 "nbformat_minor": 1
}
