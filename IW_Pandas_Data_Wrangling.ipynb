{
 "cells": [
  {
   "cell_type": "code",
   "execution_count": 82,
   "metadata": {},
   "outputs": [],
   "source": [
    "%matplotlib inline\n",
    "import matplotlib\n",
    "import seaborn as sns\n",
    "sns.set()\n",
    "matplotlib.rcParams['figure.dpi'] = 144"
   ]
  },
  {
   "cell_type": "code",
   "execution_count": 83,
   "metadata": {},
   "outputs": [],
   "source": [
    "import re\n",
    "import numpy as np\n",
    "import pandas as pd\n",
    "from pandas import DataFrame"
   ]
  },
  {
   "cell_type": "markdown",
   "metadata": {},
   "source": [
    "# Pandas\n",
    "<!-- requirement: images/Data_Frame_Data_Series.png -->\n",
    "<!-- requirement: small_data/fha_by_tract.csv -->\n",
    "<!-- requirement: small_data/2013_Gaz_tracts_national.tsv -->"
   ]
  },
  {
   "cell_type": "markdown",
   "metadata": {},
   "source": [
    "Pandas is Python's answer to R.  It's a good tool for small data analysis -- i.e. when everything fits into memory.\n",
    "\n",
    "The basic new \"noun\" in pandas is the **DataFrame**."
   ]
  },
  {
   "cell_type": "markdown",
   "metadata": {},
   "source": [
    "## Nouns (objects) in Pandas\n"
   ]
  },
  {
   "cell_type": "markdown",
   "metadata": {},
   "source": [
    "### Data Frames\n"
   ]
  },
  {
   "cell_type": "markdown",
   "metadata": {},
   "source": [
    "Like a table, with rows and columns (e.g. as in SQL).  Except:\n",
    "  - The rows can be indexed by something interesting (there is special support for labels like categorical and timeseries data).  This is especially useful when you have timeseries data with potentially missing data points.\n",
    "  - Cells can store Python objects. Like in SQL, columns are type homogeneous.\n",
    "  - Instead of \"NULL\", the name for a non-existent value is \"NA\".  Unlike R, Python's data frames only support NAs in columns of some data types (basically: floating point numbers and 'objects') -- but this is mostly a non-issue (because it will \"up-cast\" integers to float64, etc.)\n",
    "  "
   ]
  },
  {
   "cell_type": "markdown",
   "metadata": {},
   "source": [
    "### Data Series:"
   ]
  },
  {
   "cell_type": "markdown",
   "metadata": {},
   "source": [
    "These are named columns of a DataFrame (more correctly, a DataFrame is a dictionary of Series).  The entries of the series have homogeneous type.\n",
    "\n",
    "![Data Frame Data Series](images/Data_Frame_Data_Series.png)\n",
    "[comment]: https://docs.google.com/drawings/d/1eQOWaG37cH6Uo13zfRVPWsA77F0U4WVG2y06Z3NOtAU/edit"
   ]
  },
  {
   "cell_type": "code",
   "execution_count": 84,
   "metadata": {},
   "outputs": [
    {
     "data": {
      "text/html": [
       "<div>\n",
       "<style>\n",
       "    .dataframe thead tr:only-child th {\n",
       "        text-align: right;\n",
       "    }\n",
       "\n",
       "    .dataframe thead th {\n",
       "        text-align: left;\n",
       "    }\n",
       "\n",
       "    .dataframe tbody tr th {\n",
       "        vertical-align: top;\n",
       "    }\n",
       "</style>\n",
       "<table border=\"1\" class=\"dataframe\">\n",
       "  <thead>\n",
       "    <tr style=\"text-align: right;\">\n",
       "      <th></th>\n",
       "      <th>animal</th>\n",
       "      <th>color</th>\n",
       "      <th>diet</th>\n",
       "    </tr>\n",
       "  </thead>\n",
       "  <tbody>\n",
       "    <tr>\n",
       "      <th>0</th>\n",
       "      <td>cat</td>\n",
       "      <td>black</td>\n",
       "      <td>mice</td>\n",
       "    </tr>\n",
       "    <tr>\n",
       "      <th>1</th>\n",
       "      <td>dog</td>\n",
       "      <td>brown</td>\n",
       "      <td>kibble</td>\n",
       "    </tr>\n",
       "    <tr>\n",
       "      <th>2</th>\n",
       "      <td>mouse</td>\n",
       "      <td>gray</td>\n",
       "      <td>cheese</td>\n",
       "    </tr>\n",
       "  </tbody>\n",
       "</table>\n",
       "</div>"
      ],
      "text/plain": [
       "  animal  color    diet\n",
       "0    cat  black    mice\n",
       "1    dog  brown  kibble\n",
       "2  mouse   gray  cheese"
      ]
     },
     "execution_count": 84,
     "metadata": {},
     "output_type": "execute_result"
    }
   ],
   "source": [
    "# a data frame\n",
    "df1 = pd.DataFrame({\n",
    "    'color': ['black', 'brown', 'gray'],\n",
    "    'animal': ['cat', 'dog', 'mouse'],\n",
    "    'diet': ['mice', 'kibble', 'cheese']\n",
    "})\n",
    "\n",
    "df1"
   ]
  },
  {
   "cell_type": "code",
   "execution_count": 85,
   "metadata": {},
   "outputs": [
    {
     "data": {
      "text/plain": [
       "0      cat\n",
       "1      dog\n",
       "2    mouse\n",
       "Name: animal, dtype: object"
      ]
     },
     "execution_count": 85,
     "metadata": {},
     "output_type": "execute_result"
    }
   ],
   "source": [
    "df1['animal']  # a series"
   ]
  },
  {
   "cell_type": "code",
   "execution_count": 86,
   "metadata": {},
   "outputs": [
    {
     "data": {
      "text/plain": [
       "True"
      ]
     },
     "execution_count": 86,
     "metadata": {},
     "output_type": "execute_result"
    }
   ],
   "source": [
    "# the same data frame\n",
    "df2 = pd.DataFrame([ #a list of tuples, each tuple is a row of the dataframe\n",
    "    ('cat', 'black', 'mice'),\n",
    "    ('dog', 'brown', 'kibble'),\n",
    "    ('mouse', 'gray', 'cheese'),\n",
    "], columns=['animal', 'color', 'diet'])\n",
    "\n",
    "np.all(df1 == df2)"
   ]
  },
  {
   "cell_type": "markdown",
   "metadata": {},
   "source": [
    "## Verbs (operations) in Pandas"
   ]
  },
  {
   "cell_type": "markdown",
   "metadata": {},
   "source": [
    "  \n",
    "Pandas provides a \"batteries-included\" basic data analysis:\n",
    "  - **Loading data:** `read_csv`, `read_table`, `read_sql`, and `read_html`\n",
    "  - **Selection, filtering, and aggregation** (i.e. SQL-type operations): There's a special syntax for selecting.  There's the `merge` method for joining.  There's also an easy syntax for what in SQL is a mouthful: Creating a new column whose value is computed from another column -- with the bonus that now the computations can use the full power of Python (though it might be faster if it didn't).\n",
    "  - **\"Pivot table\" style aggregation:** If you're an Excel cognoscenti, you may appreciate this.\n",
    "  - **NA handling:** Like R's data frames, there is good support for transforming NA values with default values / averaging tricks / etc.\n",
    "  - **Basic statistics:** e.g. `mean`, `median`, `max`, `min`, and the convenient `describe`.\n",
    "  - **Plugging into more advanced analytics:** Okay, this isn't batteries included.  But still, it plays reasonably with `sklearn`.\n",
    "  - **Visualization:** For instance `plot` and `hist`.\n",
    "  \n",
    "We're demonstrate some of these operations by exploring a data set of mortgage insurance issued by the Federal Housing Authority (FHA).  The data is broken down by census tract and tells us how big of a player the FHA is in each tract (how many homes etc.). Some of these operations will be further explored in the [data aggregation notebook](IW_Pandas_Data_Aggregation.ipynb)."
   ]
  },
  {
   "cell_type": "markdown",
   "metadata": {},
   "source": [
    "## Loading data \n"
   ]
  },
  {
   "cell_type": "markdown",
   "metadata": {},
   "source": [
    "Let's load data stored on disk into a DataFrame.  Notice that this is a CSV without a header file."
   ]
  },
  {
   "cell_type": "code",
   "execution_count": 87,
   "metadata": {},
   "outputs": [
    {
     "name": "stdout",
     "output_type": "stream",
     "text": [
      "08,075,,1,1,100,258,258,100\r\n",
      "28,049,0103.01,1,1,100,71,71,100\r\n",
      "40,003,,1,1,100,215,215,100\r\n",
      "39,113,0603.00,3,3,100,206,206,100\r\n",
      "12,105,0124.04,2,2,100,303,303,100\r\n",
      "12,086,9808.00,1,1,100,188,188,100\r\n",
      "39,035,1202.00,1,1,100,19,19,100\r\n",
      "12,103,0207.00,2,2,100,100,100,100\r\n",
      "36,119,0030.00,1,1,100,354,354,100\r\n",
      "39,153,,1,1,100,213,213,100\r\n"
     ]
    }
   ],
   "source": [
    "!head small_data/fha_by_tract.csv"
   ]
  },
  {
   "cell_type": "code",
   "execution_count": 88,
   "metadata": {},
   "outputs": [
    {
     "data": {
      "text/html": [
       "<div>\n",
       "<style>\n",
       "    .dataframe thead tr:only-child th {\n",
       "        text-align: right;\n",
       "    }\n",
       "\n",
       "    .dataframe thead th {\n",
       "        text-align: left;\n",
       "    }\n",
       "\n",
       "    .dataframe tbody tr th {\n",
       "        vertical-align: top;\n",
       "    }\n",
       "</style>\n",
       "<table border=\"1\" class=\"dataframe\">\n",
       "  <thead>\n",
       "    <tr style=\"text-align: right;\">\n",
       "      <th></th>\n",
       "      <th>State_Code</th>\n",
       "      <th>County_Code</th>\n",
       "      <th>Census_Tract_Number</th>\n",
       "      <th>NUM_ALL</th>\n",
       "      <th>NUM_FHA</th>\n",
       "      <th>PCT_NUM_FHA</th>\n",
       "      <th>AMT_ALL</th>\n",
       "      <th>AMT_FHA</th>\n",
       "      <th>PCT_AMT_FHA</th>\n",
       "    </tr>\n",
       "  </thead>\n",
       "  <tbody>\n",
       "    <tr>\n",
       "      <th>0</th>\n",
       "      <td>8.0</td>\n",
       "      <td>75.0</td>\n",
       "      <td>NaN</td>\n",
       "      <td>1</td>\n",
       "      <td>1</td>\n",
       "      <td>100.0</td>\n",
       "      <td>258</td>\n",
       "      <td>258</td>\n",
       "      <td>100.0</td>\n",
       "    </tr>\n",
       "    <tr>\n",
       "      <th>1</th>\n",
       "      <td>28.0</td>\n",
       "      <td>49.0</td>\n",
       "      <td>103.01</td>\n",
       "      <td>1</td>\n",
       "      <td>1</td>\n",
       "      <td>100.0</td>\n",
       "      <td>71</td>\n",
       "      <td>71</td>\n",
       "      <td>100.0</td>\n",
       "    </tr>\n",
       "    <tr>\n",
       "      <th>2</th>\n",
       "      <td>40.0</td>\n",
       "      <td>3.0</td>\n",
       "      <td>NaN</td>\n",
       "      <td>1</td>\n",
       "      <td>1</td>\n",
       "      <td>100.0</td>\n",
       "      <td>215</td>\n",
       "      <td>215</td>\n",
       "      <td>100.0</td>\n",
       "    </tr>\n",
       "    <tr>\n",
       "      <th>3</th>\n",
       "      <td>39.0</td>\n",
       "      <td>113.0</td>\n",
       "      <td>603.00</td>\n",
       "      <td>3</td>\n",
       "      <td>3</td>\n",
       "      <td>100.0</td>\n",
       "      <td>206</td>\n",
       "      <td>206</td>\n",
       "      <td>100.0</td>\n",
       "    </tr>\n",
       "    <tr>\n",
       "      <th>4</th>\n",
       "      <td>12.0</td>\n",
       "      <td>105.0</td>\n",
       "      <td>124.04</td>\n",
       "      <td>2</td>\n",
       "      <td>2</td>\n",
       "      <td>100.0</td>\n",
       "      <td>303</td>\n",
       "      <td>303</td>\n",
       "      <td>100.0</td>\n",
       "    </tr>\n",
       "  </tbody>\n",
       "</table>\n",
       "</div>"
      ],
      "text/plain": [
       "   State_Code  County_Code  Census_Tract_Number  NUM_ALL  NUM_FHA  \\\n",
       "0         8.0         75.0                  NaN        1        1   \n",
       "1        28.0         49.0               103.01        1        1   \n",
       "2        40.0          3.0                  NaN        1        1   \n",
       "3        39.0        113.0               603.00        3        3   \n",
       "4        12.0        105.0               124.04        2        2   \n",
       "\n",
       "   PCT_NUM_FHA  AMT_ALL  AMT_FHA  PCT_AMT_FHA  \n",
       "0        100.0      258      258        100.0  \n",
       "1        100.0       71       71        100.0  \n",
       "2        100.0      215      215        100.0  \n",
       "3        100.0      206      206        100.0  \n",
       "4        100.0      303      303        100.0  "
      ]
     },
     "execution_count": 88,
     "metadata": {},
     "output_type": "execute_result"
    }
   ],
   "source": [
    "names = [\"State_Code\", \"County_Code\", \"Census_Tract_Number\", \"NUM_ALL\",\n",
    "        \"NUM_FHA\", \"PCT_NUM_FHA\", \"AMT_ALL\", \"AMT_FHA\", \"PCT_AMT_FHA\"]\n",
    "# Loading a CSV file, without a header (so we have to provide field names)\n",
    "df = pd.read_csv('small_data/fha_by_tract.csv', names=names)\n",
    "df.head()"
   ]
  },
  {
   "cell_type": "markdown",
   "metadata": {},
   "source": [
    "The Pandas `read_csv` method is a powerful tool for loading a wide variety of delimited text files and overcoming many typical data input problems. Because CSV files are so popular, over time many features were added and now it can handle pretty much any CSV file you are likely to find.\n",
    "\n",
    "You can access the `read_csv` [documentation](https://pandas.pydata.org/pandas-docs/stable/generated/pandas.read_csv.html) to read about all of the parameters, but here are the most useful ones.\n",
    "\n",
    "* `sep`: Change the file delimiter. By default it is a comma, but you will find files that use tabs ('\\t') and pipes. ('|')\n",
    "* `header`: Row number to use for column header. Some CSV files have no header; in this case, pass None instead and use the names parameter.\n",
    "* `names`: List of column names to use, overriding what `read_csv` might name the columns from reading the file.\n",
    "* `index_col`: Make an index out of a column. Without this, it will create a default index of integers.\n",
    "* `parse_dates`: parse certain columns as dates.\n",
    "* `infer_datetime_format`: if the data in a column of dates all have the same format, this will speed up reading the file."
   ]
  },
  {
   "cell_type": "markdown",
   "metadata": {},
   "source": [
    "## Indexing and slicing data frames\n"
   ]
  },
  {
   "cell_type": "markdown",
   "metadata": {},
   "source": [
    "Slicing a DataFrame by a column name yields a data series."
   ]
  },
  {
   "cell_type": "code",
   "execution_count": 89,
   "metadata": {},
   "outputs": [
    {
     "data": {
      "text/plain": [
       "0     8.0\n",
       "1    28.0\n",
       "2    40.0\n",
       "3    39.0\n",
       "4    12.0\n",
       "Name: State_Code, dtype: float64"
      ]
     },
     "execution_count": 89,
     "metadata": {},
     "output_type": "execute_result"
    }
   ],
   "source": [
    "df['State_Code'].head()"
   ]
  },
  {
   "cell_type": "markdown",
   "metadata": {},
   "source": [
    "Slicing by a list of column names gives another data frame."
   ]
  },
  {
   "cell_type": "code",
   "execution_count": 90,
   "metadata": {},
   "outputs": [
    {
     "data": {
      "text/html": [
       "<div>\n",
       "<style>\n",
       "    .dataframe thead tr:only-child th {\n",
       "        text-align: right;\n",
       "    }\n",
       "\n",
       "    .dataframe thead th {\n",
       "        text-align: left;\n",
       "    }\n",
       "\n",
       "    .dataframe tbody tr th {\n",
       "        vertical-align: top;\n",
       "    }\n",
       "</style>\n",
       "<table border=\"1\" class=\"dataframe\">\n",
       "  <thead>\n",
       "    <tr style=\"text-align: right;\">\n",
       "      <th></th>\n",
       "      <th>State_Code</th>\n",
       "      <th>County_Code</th>\n",
       "    </tr>\n",
       "  </thead>\n",
       "  <tbody>\n",
       "    <tr>\n",
       "      <th>0</th>\n",
       "      <td>8.0</td>\n",
       "      <td>75.0</td>\n",
       "    </tr>\n",
       "    <tr>\n",
       "      <th>1</th>\n",
       "      <td>28.0</td>\n",
       "      <td>49.0</td>\n",
       "    </tr>\n",
       "    <tr>\n",
       "      <th>2</th>\n",
       "      <td>40.0</td>\n",
       "      <td>3.0</td>\n",
       "    </tr>\n",
       "    <tr>\n",
       "      <th>3</th>\n",
       "      <td>39.0</td>\n",
       "      <td>113.0</td>\n",
       "    </tr>\n",
       "    <tr>\n",
       "      <th>4</th>\n",
       "      <td>12.0</td>\n",
       "      <td>105.0</td>\n",
       "    </tr>\n",
       "  </tbody>\n",
       "</table>\n",
       "</div>"
      ],
      "text/plain": [
       "   State_Code  County_Code\n",
       "0         8.0         75.0\n",
       "1        28.0         49.0\n",
       "2        40.0          3.0\n",
       "3        39.0        113.0\n",
       "4        12.0        105.0"
      ]
     },
     "execution_count": 90,
     "metadata": {},
     "output_type": "execute_result"
    }
   ],
   "source": [
    "df[['State_Code', 'County_Code']].head()"
   ]
  },
  {
   "cell_type": "markdown",
   "metadata": {},
   "source": [
    "**Question:** What will this return?"
   ]
  },
  {
   "cell_type": "code",
   "execution_count": 91,
   "metadata": {},
   "outputs": [
    {
     "data": {
      "text/plain": [
       "pandas.core.frame.DataFrame"
      ]
     },
     "execution_count": 91,
     "metadata": {},
     "output_type": "execute_result"
    }
   ],
   "source": [
    "type(df[['State_Code']])"
   ]
  },
  {
   "cell_type": "markdown",
   "metadata": {},
   "source": [
    "To slice a particular element of the frame, use the `.loc` attribute.  It takes index and (optionally) columns names."
   ]
  },
  {
   "cell_type": "code",
   "execution_count": 92,
   "metadata": {},
   "outputs": [
    {
     "data": {
      "text/plain": [
       "39.0"
      ]
     },
     "execution_count": 92,
     "metadata": {},
     "output_type": "execute_result"
    }
   ],
   "source": [
    "df.loc[3, 'State_Code']"
   ]
  },
  {
   "cell_type": "markdown",
   "metadata": {},
   "source": [
    "Both can be sliced.  Unusually for Python, both endpoints are included in the slice."
   ]
  },
  {
   "cell_type": "code",
   "execution_count": 93,
   "metadata": {},
   "outputs": [
    {
     "data": {
      "text/html": [
       "<div>\n",
       "<style>\n",
       "    .dataframe thead tr:only-child th {\n",
       "        text-align: right;\n",
       "    }\n",
       "\n",
       "    .dataframe thead th {\n",
       "        text-align: left;\n",
       "    }\n",
       "\n",
       "    .dataframe tbody tr th {\n",
       "        vertical-align: top;\n",
       "    }\n",
       "</style>\n",
       "<table border=\"1\" class=\"dataframe\">\n",
       "  <thead>\n",
       "    <tr style=\"text-align: right;\">\n",
       "      <th></th>\n",
       "      <th>State_Code</th>\n",
       "      <th>County_Code</th>\n",
       "      <th>Census_Tract_Number</th>\n",
       "    </tr>\n",
       "  </thead>\n",
       "  <tbody>\n",
       "    <tr>\n",
       "      <th>0</th>\n",
       "      <td>8.0</td>\n",
       "      <td>75.0</td>\n",
       "      <td>NaN</td>\n",
       "    </tr>\n",
       "    <tr>\n",
       "      <th>1</th>\n",
       "      <td>28.0</td>\n",
       "      <td>49.0</td>\n",
       "      <td>103.01</td>\n",
       "    </tr>\n",
       "    <tr>\n",
       "      <th>2</th>\n",
       "      <td>40.0</td>\n",
       "      <td>3.0</td>\n",
       "      <td>NaN</td>\n",
       "    </tr>\n",
       "    <tr>\n",
       "      <th>3</th>\n",
       "      <td>39.0</td>\n",
       "      <td>113.0</td>\n",
       "      <td>603.00</td>\n",
       "    </tr>\n",
       "  </tbody>\n",
       "</table>\n",
       "</div>"
      ],
      "text/plain": [
       "   State_Code  County_Code  Census_Tract_Number\n",
       "0         8.0         75.0                  NaN\n",
       "1        28.0         49.0               103.01\n",
       "2        40.0          3.0                  NaN\n",
       "3        39.0        113.0               603.00"
      ]
     },
     "execution_count": 93,
     "metadata": {},
     "output_type": "execute_result"
    }
   ],
   "source": [
    "df.loc[0:3, 'State_Code':'Census_Tract_Number'] #inclusive-inclusive 0,1,2,3"
   ]
  },
  {
   "cell_type": "markdown",
   "metadata": {},
   "source": [
    "Position-based indexing is available in the `.iloc` attribute."
   ]
  },
  {
   "cell_type": "code",
   "execution_count": 94,
   "metadata": {},
   "outputs": [
    {
     "data": {
      "text/plain": [
       "39.0"
      ]
     },
     "execution_count": 94,
     "metadata": {},
     "output_type": "execute_result"
    }
   ],
   "source": [
    "df.iloc[3, 0]"
   ]
  },
  {
   "cell_type": "markdown",
   "metadata": {},
   "source": [
    "The usual slicing convention is used for `.iloc`."
   ]
  },
  {
   "cell_type": "code",
   "execution_count": 147,
   "metadata": {},
   "outputs": [
    {
     "data": {
      "text/html": [
       "<div>\n",
       "<style>\n",
       "    .dataframe thead tr:only-child th {\n",
       "        text-align: right;\n",
       "    }\n",
       "\n",
       "    .dataframe thead th {\n",
       "        text-align: left;\n",
       "    }\n",
       "\n",
       "    .dataframe tbody tr th {\n",
       "        vertical-align: top;\n",
       "    }\n",
       "</style>\n",
       "<table border=\"1\" class=\"dataframe\">\n",
       "  <thead>\n",
       "    <tr style=\"text-align: right;\">\n",
       "      <th></th>\n",
       "      <th>State_Code</th>\n",
       "      <th>County_Code</th>\n",
       "      <th>Census_Tract_Number</th>\n",
       "    </tr>\n",
       "  </thead>\n",
       "  <tbody>\n",
       "    <tr>\n",
       "      <th>0</th>\n",
       "      <td>8.0</td>\n",
       "      <td>75.0</td>\n",
       "      <td>NaN</td>\n",
       "    </tr>\n",
       "    <tr>\n",
       "      <th>1</th>\n",
       "      <td>28.0</td>\n",
       "      <td>49.0</td>\n",
       "      <td>103.01</td>\n",
       "    </tr>\n",
       "    <tr>\n",
       "      <th>2</th>\n",
       "      <td>40.0</td>\n",
       "      <td>3.0</td>\n",
       "      <td>NaN</td>\n",
       "    </tr>\n",
       "  </tbody>\n",
       "</table>\n",
       "</div>"
      ],
      "text/plain": [
       "   State_Code  County_Code  Census_Tract_Number\n",
       "0         8.0         75.0                  NaN\n",
       "1        28.0         49.0               103.01\n",
       "2        40.0          3.0                  NaN"
      ]
     },
     "execution_count": 147,
     "metadata": {},
     "output_type": "execute_result"
    }
   ],
   "source": [
    "df.iloc[0:3, 0:3] #pull out position(not include 3) 0,1,2"
   ]
  },
  {
   "cell_type": "markdown",
   "metadata": {},
   "source": [
    "**Gotcha:** Notice that position-based and index-based indexing give different results!"
   ]
  },
  {
   "cell_type": "code",
   "execution_count": 96,
   "metadata": {},
   "outputs": [
    {
     "data": {
      "text/html": [
       "<div>\n",
       "<style>\n",
       "    .dataframe thead tr:only-child th {\n",
       "        text-align: right;\n",
       "    }\n",
       "\n",
       "    .dataframe thead th {\n",
       "        text-align: left;\n",
       "    }\n",
       "\n",
       "    .dataframe tbody tr th {\n",
       "        vertical-align: top;\n",
       "    }\n",
       "</style>\n",
       "<table border=\"1\" class=\"dataframe\">\n",
       "  <thead>\n",
       "    <tr style=\"text-align: right;\">\n",
       "      <th></th>\n",
       "      <th>State_Code</th>\n",
       "      <th>County_Code</th>\n",
       "      <th>Census_Tract_Number</th>\n",
       "      <th>NUM_ALL</th>\n",
       "      <th>NUM_FHA</th>\n",
       "      <th>PCT_NUM_FHA</th>\n",
       "      <th>AMT_ALL</th>\n",
       "      <th>AMT_FHA</th>\n",
       "      <th>PCT_AMT_FHA</th>\n",
       "    </tr>\n",
       "  </thead>\n",
       "  <tbody>\n",
       "    <tr>\n",
       "      <th>1</th>\n",
       "      <td>8.0</td>\n",
       "      <td>75.0</td>\n",
       "      <td>NaN</td>\n",
       "      <td>1</td>\n",
       "      <td>1</td>\n",
       "      <td>100.0</td>\n",
       "      <td>258</td>\n",
       "      <td>258</td>\n",
       "      <td>100.0</td>\n",
       "    </tr>\n",
       "    <tr>\n",
       "      <th>2</th>\n",
       "      <td>28.0</td>\n",
       "      <td>49.0</td>\n",
       "      <td>103.01</td>\n",
       "      <td>1</td>\n",
       "      <td>1</td>\n",
       "      <td>100.0</td>\n",
       "      <td>71</td>\n",
       "      <td>71</td>\n",
       "      <td>100.0</td>\n",
       "    </tr>\n",
       "    <tr>\n",
       "      <th>3</th>\n",
       "      <td>40.0</td>\n",
       "      <td>3.0</td>\n",
       "      <td>NaN</td>\n",
       "      <td>1</td>\n",
       "      <td>1</td>\n",
       "      <td>100.0</td>\n",
       "      <td>215</td>\n",
       "      <td>215</td>\n",
       "      <td>100.0</td>\n",
       "    </tr>\n",
       "    <tr>\n",
       "      <th>4</th>\n",
       "      <td>39.0</td>\n",
       "      <td>113.0</td>\n",
       "      <td>603.00</td>\n",
       "      <td>3</td>\n",
       "      <td>3</td>\n",
       "      <td>100.0</td>\n",
       "      <td>206</td>\n",
       "      <td>206</td>\n",
       "      <td>100.0</td>\n",
       "    </tr>\n",
       "    <tr>\n",
       "      <th>5</th>\n",
       "      <td>12.0</td>\n",
       "      <td>105.0</td>\n",
       "      <td>124.04</td>\n",
       "      <td>2</td>\n",
       "      <td>2</td>\n",
       "      <td>100.0</td>\n",
       "      <td>303</td>\n",
       "      <td>303</td>\n",
       "      <td>100.0</td>\n",
       "    </tr>\n",
       "  </tbody>\n",
       "</table>\n",
       "</div>"
      ],
      "text/plain": [
       "   State_Code  County_Code  Census_Tract_Number  NUM_ALL  NUM_FHA  \\\n",
       "1         8.0         75.0                  NaN        1        1   \n",
       "2        28.0         49.0               103.01        1        1   \n",
       "3        40.0          3.0                  NaN        1        1   \n",
       "4        39.0        113.0               603.00        3        3   \n",
       "5        12.0        105.0               124.04        2        2   \n",
       "\n",
       "   PCT_NUM_FHA  AMT_ALL  AMT_FHA  PCT_AMT_FHA  \n",
       "1        100.0      258      258        100.0  \n",
       "2        100.0       71       71        100.0  \n",
       "3        100.0      215      215        100.0  \n",
       "4        100.0      206      206        100.0  \n",
       "5        100.0      303      303        100.0  "
      ]
     },
     "execution_count": 96,
     "metadata": {},
     "output_type": "execute_result"
    }
   ],
   "source": [
    "new_index = pd.RangeIndex(1, len(df) + 1) #creat a rangeindex object, index from to 1 to num+1\n",
    "df.set_index(new_index).head()"
   ]
  },
  {
   "cell_type": "code",
   "execution_count": 97,
   "metadata": {},
   "outputs": [
    {
     "data": {
      "text/plain": [
       "State_Code              40.0\n",
       "County_Code              3.0\n",
       "Census_Tract_Number      NaN\n",
       "NUM_ALL                  1.0\n",
       "NUM_FHA                  1.0\n",
       "PCT_NUM_FHA            100.0\n",
       "AMT_ALL                215.0\n",
       "AMT_FHA                215.0\n",
       "PCT_AMT_FHA            100.0\n",
       "Name: 3, dtype: float64"
      ]
     },
     "execution_count": 97,
     "metadata": {},
     "output_type": "execute_result"
    }
   ],
   "source": [
    "df.set_index(new_index).loc[3, :]"
   ]
  },
  {
   "cell_type": "code",
   "execution_count": 98,
   "metadata": {},
   "outputs": [
    {
     "data": {
      "text/plain": [
       "State_Code              39.0\n",
       "County_Code            113.0\n",
       "Census_Tract_Number    603.0\n",
       "NUM_ALL                  3.0\n",
       "NUM_FHA                  3.0\n",
       "PCT_NUM_FHA            100.0\n",
       "AMT_ALL                206.0\n",
       "AMT_FHA                206.0\n",
       "PCT_AMT_FHA            100.0\n",
       "Name: 4, dtype: float64"
      ]
     },
     "execution_count": 98,
     "metadata": {},
     "output_type": "execute_result"
    }
   ],
   "source": [
    "df.set_index(new_index).iloc[3, :] #'i' for index, it's purely indexical"
   ]
  },
  {
   "cell_type": "markdown",
   "metadata": {},
   "source": [
    "By default, rows are indexed by their position.  However, any column can be made into an index:"
   ]
  },
  {
   "cell_type": "code",
   "execution_count": 99,
   "metadata": {},
   "outputs": [
    {
     "data": {
      "text/html": [
       "<div>\n",
       "<style>\n",
       "    .dataframe thead tr:only-child th {\n",
       "        text-align: right;\n",
       "    }\n",
       "\n",
       "    .dataframe thead th {\n",
       "        text-align: left;\n",
       "    }\n",
       "\n",
       "    .dataframe tbody tr th {\n",
       "        vertical-align: top;\n",
       "    }\n",
       "</style>\n",
       "<table border=\"1\" class=\"dataframe\">\n",
       "  <thead>\n",
       "    <tr style=\"text-align: right;\">\n",
       "      <th></th>\n",
       "      <th>County_Code</th>\n",
       "      <th>Census_Tract_Number</th>\n",
       "      <th>NUM_ALL</th>\n",
       "      <th>NUM_FHA</th>\n",
       "      <th>PCT_NUM_FHA</th>\n",
       "      <th>AMT_ALL</th>\n",
       "      <th>AMT_FHA</th>\n",
       "      <th>PCT_AMT_FHA</th>\n",
       "    </tr>\n",
       "    <tr>\n",
       "      <th>State_Code</th>\n",
       "      <th></th>\n",
       "      <th></th>\n",
       "      <th></th>\n",
       "      <th></th>\n",
       "      <th></th>\n",
       "      <th></th>\n",
       "      <th></th>\n",
       "      <th></th>\n",
       "    </tr>\n",
       "  </thead>\n",
       "  <tbody>\n",
       "    <tr>\n",
       "      <th>8.0</th>\n",
       "      <td>75.0</td>\n",
       "      <td>NaN</td>\n",
       "      <td>1</td>\n",
       "      <td>1</td>\n",
       "      <td>100.0</td>\n",
       "      <td>258</td>\n",
       "      <td>258</td>\n",
       "      <td>100.0</td>\n",
       "    </tr>\n",
       "    <tr>\n",
       "      <th>28.0</th>\n",
       "      <td>49.0</td>\n",
       "      <td>103.01</td>\n",
       "      <td>1</td>\n",
       "      <td>1</td>\n",
       "      <td>100.0</td>\n",
       "      <td>71</td>\n",
       "      <td>71</td>\n",
       "      <td>100.0</td>\n",
       "    </tr>\n",
       "    <tr>\n",
       "      <th>40.0</th>\n",
       "      <td>3.0</td>\n",
       "      <td>NaN</td>\n",
       "      <td>1</td>\n",
       "      <td>1</td>\n",
       "      <td>100.0</td>\n",
       "      <td>215</td>\n",
       "      <td>215</td>\n",
       "      <td>100.0</td>\n",
       "    </tr>\n",
       "    <tr>\n",
       "      <th>39.0</th>\n",
       "      <td>113.0</td>\n",
       "      <td>603.00</td>\n",
       "      <td>3</td>\n",
       "      <td>3</td>\n",
       "      <td>100.0</td>\n",
       "      <td>206</td>\n",
       "      <td>206</td>\n",
       "      <td>100.0</td>\n",
       "    </tr>\n",
       "    <tr>\n",
       "      <th>12.0</th>\n",
       "      <td>105.0</td>\n",
       "      <td>124.04</td>\n",
       "      <td>2</td>\n",
       "      <td>2</td>\n",
       "      <td>100.0</td>\n",
       "      <td>303</td>\n",
       "      <td>303</td>\n",
       "      <td>100.0</td>\n",
       "    </tr>\n",
       "    <tr>\n",
       "      <th>12.0</th>\n",
       "      <td>86.0</td>\n",
       "      <td>9808.00</td>\n",
       "      <td>1</td>\n",
       "      <td>1</td>\n",
       "      <td>100.0</td>\n",
       "      <td>188</td>\n",
       "      <td>188</td>\n",
       "      <td>100.0</td>\n",
       "    </tr>\n",
       "  </tbody>\n",
       "</table>\n",
       "</div>"
      ],
      "text/plain": [
       "            County_Code  Census_Tract_Number  NUM_ALL  NUM_FHA  PCT_NUM_FHA  \\\n",
       "State_Code                                                                    \n",
       "8.0                75.0                  NaN        1        1        100.0   \n",
       "28.0               49.0               103.01        1        1        100.0   \n",
       "40.0                3.0                  NaN        1        1        100.0   \n",
       "39.0              113.0               603.00        3        3        100.0   \n",
       "12.0              105.0               124.04        2        2        100.0   \n",
       "12.0               86.0              9808.00        1        1        100.0   \n",
       "\n",
       "            AMT_ALL  AMT_FHA  PCT_AMT_FHA  \n",
       "State_Code                                 \n",
       "8.0             258      258        100.0  \n",
       "28.0             71       71        100.0  \n",
       "40.0            215      215        100.0  \n",
       "39.0            206      206        100.0  \n",
       "12.0            303      303        100.0  \n",
       "12.0            188      188        100.0  "
      ]
     },
     "execution_count": 99,
     "metadata": {},
     "output_type": "execute_result"
    }
   ],
   "source": [
    "df.set_index('State_Code').head(6)"
   ]
  },
  {
   "cell_type": "markdown",
   "metadata": {},
   "source": [
    "Multiple levels of indexing is possible:"
   ]
  },
  {
   "cell_type": "code",
   "execution_count": 100,
   "metadata": {},
   "outputs": [
    {
     "data": {
      "text/html": [
       "<div>\n",
       "<style>\n",
       "    .dataframe thead tr:only-child th {\n",
       "        text-align: right;\n",
       "    }\n",
       "\n",
       "    .dataframe thead th {\n",
       "        text-align: left;\n",
       "    }\n",
       "\n",
       "    .dataframe tbody tr th {\n",
       "        vertical-align: top;\n",
       "    }\n",
       "</style>\n",
       "<table border=\"1\" class=\"dataframe\">\n",
       "  <thead>\n",
       "    <tr style=\"text-align: right;\">\n",
       "      <th></th>\n",
       "      <th></th>\n",
       "      <th>Census_Tract_Number</th>\n",
       "      <th>NUM_ALL</th>\n",
       "      <th>NUM_FHA</th>\n",
       "      <th>PCT_NUM_FHA</th>\n",
       "      <th>AMT_ALL</th>\n",
       "      <th>AMT_FHA</th>\n",
       "      <th>PCT_AMT_FHA</th>\n",
       "    </tr>\n",
       "    <tr>\n",
       "      <th>State_Code</th>\n",
       "      <th>County_Code</th>\n",
       "      <th></th>\n",
       "      <th></th>\n",
       "      <th></th>\n",
       "      <th></th>\n",
       "      <th></th>\n",
       "      <th></th>\n",
       "      <th></th>\n",
       "    </tr>\n",
       "  </thead>\n",
       "  <tbody>\n",
       "    <tr>\n",
       "      <th>8.0</th>\n",
       "      <th>75.0</th>\n",
       "      <td>NaN</td>\n",
       "      <td>1</td>\n",
       "      <td>1</td>\n",
       "      <td>100.0</td>\n",
       "      <td>258</td>\n",
       "      <td>258</td>\n",
       "      <td>100.0</td>\n",
       "    </tr>\n",
       "    <tr>\n",
       "      <th>28.0</th>\n",
       "      <th>49.0</th>\n",
       "      <td>103.01</td>\n",
       "      <td>1</td>\n",
       "      <td>1</td>\n",
       "      <td>100.0</td>\n",
       "      <td>71</td>\n",
       "      <td>71</td>\n",
       "      <td>100.0</td>\n",
       "    </tr>\n",
       "    <tr>\n",
       "      <th>40.0</th>\n",
       "      <th>3.0</th>\n",
       "      <td>NaN</td>\n",
       "      <td>1</td>\n",
       "      <td>1</td>\n",
       "      <td>100.0</td>\n",
       "      <td>215</td>\n",
       "      <td>215</td>\n",
       "      <td>100.0</td>\n",
       "    </tr>\n",
       "    <tr>\n",
       "      <th>39.0</th>\n",
       "      <th>113.0</th>\n",
       "      <td>603.00</td>\n",
       "      <td>3</td>\n",
       "      <td>3</td>\n",
       "      <td>100.0</td>\n",
       "      <td>206</td>\n",
       "      <td>206</td>\n",
       "      <td>100.0</td>\n",
       "    </tr>\n",
       "    <tr>\n",
       "      <th rowspan=\"2\" valign=\"top\">12.0</th>\n",
       "      <th>105.0</th>\n",
       "      <td>124.04</td>\n",
       "      <td>2</td>\n",
       "      <td>2</td>\n",
       "      <td>100.0</td>\n",
       "      <td>303</td>\n",
       "      <td>303</td>\n",
       "      <td>100.0</td>\n",
       "    </tr>\n",
       "    <tr>\n",
       "      <th>86.0</th>\n",
       "      <td>9808.00</td>\n",
       "      <td>1</td>\n",
       "      <td>1</td>\n",
       "      <td>100.0</td>\n",
       "      <td>188</td>\n",
       "      <td>188</td>\n",
       "      <td>100.0</td>\n",
       "    </tr>\n",
       "  </tbody>\n",
       "</table>\n",
       "</div>"
      ],
      "text/plain": [
       "                        Census_Tract_Number  NUM_ALL  NUM_FHA  PCT_NUM_FHA  \\\n",
       "State_Code County_Code                                                       \n",
       "8.0        75.0                         NaN        1        1        100.0   \n",
       "28.0       49.0                      103.01        1        1        100.0   \n",
       "40.0       3.0                          NaN        1        1        100.0   \n",
       "39.0       113.0                     603.00        3        3        100.0   \n",
       "12.0       105.0                     124.04        2        2        100.0   \n",
       "           86.0                     9808.00        1        1        100.0   \n",
       "\n",
       "                        AMT_ALL  AMT_FHA  PCT_AMT_FHA  \n",
       "State_Code County_Code                                 \n",
       "8.0        75.0             258      258        100.0  \n",
       "28.0       49.0              71       71        100.0  \n",
       "40.0       3.0              215      215        100.0  \n",
       "39.0       113.0            206      206        100.0  \n",
       "12.0       105.0            303      303        100.0  \n",
       "           86.0             188      188        100.0  "
      ]
     },
     "execution_count": 100,
     "metadata": {},
     "output_type": "execute_result"
    }
   ],
   "source": [
    "df.set_index(['State_Code', 'County_Code']).head(6)"
   ]
  },
  {
   "cell_type": "markdown",
   "metadata": {},
   "source": [
    "An index can be turned back into a column:"
   ]
  },
  {
   "cell_type": "code",
   "execution_count": 101,
   "metadata": {},
   "outputs": [
    {
     "data": {
      "text/html": [
       "<div>\n",
       "<style>\n",
       "    .dataframe thead tr:only-child th {\n",
       "        text-align: right;\n",
       "    }\n",
       "\n",
       "    .dataframe thead th {\n",
       "        text-align: left;\n",
       "    }\n",
       "\n",
       "    .dataframe tbody tr th {\n",
       "        vertical-align: top;\n",
       "    }\n",
       "</style>\n",
       "<table border=\"1\" class=\"dataframe\">\n",
       "  <thead>\n",
       "    <tr style=\"text-align: right;\">\n",
       "      <th></th>\n",
       "      <th>State_Code</th>\n",
       "      <th>County_Code</th>\n",
       "      <th>Census_Tract_Number</th>\n",
       "      <th>NUM_ALL</th>\n",
       "      <th>NUM_FHA</th>\n",
       "      <th>PCT_NUM_FHA</th>\n",
       "      <th>AMT_ALL</th>\n",
       "      <th>AMT_FHA</th>\n",
       "      <th>PCT_AMT_FHA</th>\n",
       "    </tr>\n",
       "  </thead>\n",
       "  <tbody>\n",
       "    <tr>\n",
       "      <th>0</th>\n",
       "      <td>8.0</td>\n",
       "      <td>75.0</td>\n",
       "      <td>NaN</td>\n",
       "      <td>1</td>\n",
       "      <td>1</td>\n",
       "      <td>100.0</td>\n",
       "      <td>258</td>\n",
       "      <td>258</td>\n",
       "      <td>100.0</td>\n",
       "    </tr>\n",
       "    <tr>\n",
       "      <th>1</th>\n",
       "      <td>28.0</td>\n",
       "      <td>49.0</td>\n",
       "      <td>103.01</td>\n",
       "      <td>1</td>\n",
       "      <td>1</td>\n",
       "      <td>100.0</td>\n",
       "      <td>71</td>\n",
       "      <td>71</td>\n",
       "      <td>100.0</td>\n",
       "    </tr>\n",
       "    <tr>\n",
       "      <th>2</th>\n",
       "      <td>40.0</td>\n",
       "      <td>3.0</td>\n",
       "      <td>NaN</td>\n",
       "      <td>1</td>\n",
       "      <td>1</td>\n",
       "      <td>100.0</td>\n",
       "      <td>215</td>\n",
       "      <td>215</td>\n",
       "      <td>100.0</td>\n",
       "    </tr>\n",
       "    <tr>\n",
       "      <th>3</th>\n",
       "      <td>39.0</td>\n",
       "      <td>113.0</td>\n",
       "      <td>603.00</td>\n",
       "      <td>3</td>\n",
       "      <td>3</td>\n",
       "      <td>100.0</td>\n",
       "      <td>206</td>\n",
       "      <td>206</td>\n",
       "      <td>100.0</td>\n",
       "    </tr>\n",
       "    <tr>\n",
       "      <th>4</th>\n",
       "      <td>12.0</td>\n",
       "      <td>105.0</td>\n",
       "      <td>124.04</td>\n",
       "      <td>2</td>\n",
       "      <td>2</td>\n",
       "      <td>100.0</td>\n",
       "      <td>303</td>\n",
       "      <td>303</td>\n",
       "      <td>100.0</td>\n",
       "    </tr>\n",
       "  </tbody>\n",
       "</table>\n",
       "</div>"
      ],
      "text/plain": [
       "   State_Code  County_Code  Census_Tract_Number  NUM_ALL  NUM_FHA  \\\n",
       "0         8.0         75.0                  NaN        1        1   \n",
       "1        28.0         49.0               103.01        1        1   \n",
       "2        40.0          3.0                  NaN        1        1   \n",
       "3        39.0        113.0               603.00        3        3   \n",
       "4        12.0        105.0               124.04        2        2   \n",
       "\n",
       "   PCT_NUM_FHA  AMT_ALL  AMT_FHA  PCT_AMT_FHA  \n",
       "0        100.0      258      258        100.0  \n",
       "1        100.0       71       71        100.0  \n",
       "2        100.0      215      215        100.0  \n",
       "3        100.0      206      206        100.0  \n",
       "4        100.0      303      303        100.0  "
      ]
     },
     "execution_count": 101,
     "metadata": {},
     "output_type": "execute_result"
    }
   ],
   "source": [
    "df.set_index('State_Code').reset_index().head()"
   ]
  },
  {
   "cell_type": "markdown",
   "metadata": {},
   "source": [
    "## Indices in Pandas\n"
   ]
  },
  {
   "cell_type": "code",
   "execution_count": null,
   "metadata": {},
   "outputs": [],
   "source": []
  },
  {
   "cell_type": "markdown",
   "metadata": {},
   "source": [
    "Pandas indices allow us to use meaningful information to organize data in the table.  Elements are associated based on their index, not their order."
   ]
  },
  {
   "cell_type": "code",
   "execution_count": 102,
   "metadata": {},
   "outputs": [
    {
     "data": {
      "text/plain": [
       "a    2\n",
       "b    4\n",
       "c    6\n",
       "dtype: int64"
      ]
     },
     "execution_count": 102,
     "metadata": {},
     "output_type": "execute_result"
    }
   ],
   "source": [
    "s1 = pd.Series([1,2,3], index=['a', 'b', 'c'])\n",
    "s2 = pd.Series([3,2,1], index=['c', 'b', 'a'])\n",
    "s1 + s2"
   ]
  },
  {
   "cell_type": "code",
   "execution_count": 103,
   "metadata": {},
   "outputs": [
    {
     "data": {
      "text/plain": [
       "a    NaN\n",
       "b    NaN\n",
       "c    6.0\n",
       "d    NaN\n",
       "e    NaN\n",
       "dtype: float64"
      ]
     },
     "execution_count": 103,
     "metadata": {},
     "output_type": "execute_result"
    }
   ],
   "source": [
    "s3 = pd.Series([3,2,1], index=['c', 'd', 'e'])\n",
    "s1 + s3"
   ]
  },
  {
   "cell_type": "markdown",
   "metadata": {},
   "source": [
    "Missing values get a `NaN`, but this can be replaced by a fill value of your choice."
   ]
  },
  {
   "cell_type": "code",
   "execution_count": 104,
   "metadata": {},
   "outputs": [
    {
     "data": {
      "text/plain": [
       "a    1.0\n",
       "b    2.0\n",
       "c    6.0\n",
       "d    2.0\n",
       "e    1.0\n",
       "dtype: float64"
      ]
     },
     "execution_count": 104,
     "metadata": {},
     "output_type": "execute_result"
    }
   ],
   "source": [
    "s1.add(s3, fill_value=0)"
   ]
  },
  {
   "cell_type": "markdown",
   "metadata": {},
   "source": [
    "Notice that you can also set and reset the index."
   ]
  },
  {
   "cell_type": "code",
   "execution_count": 105,
   "metadata": {},
   "outputs": [
    {
     "data": {
      "text/html": [
       "<div>\n",
       "<style>\n",
       "    .dataframe thead tr:only-child th {\n",
       "        text-align: right;\n",
       "    }\n",
       "\n",
       "    .dataframe thead th {\n",
       "        text-align: left;\n",
       "    }\n",
       "\n",
       "    .dataframe tbody tr th {\n",
       "        vertical-align: top;\n",
       "    }\n",
       "</style>\n",
       "<table border=\"1\" class=\"dataframe\">\n",
       "  <thead>\n",
       "    <tr style=\"text-align: right;\">\n",
       "      <th></th>\n",
       "      <th>State_Code</th>\n",
       "      <th>County_Code</th>\n",
       "      <th>Census_Tract_Number</th>\n",
       "      <th>NUM_ALL</th>\n",
       "      <th>NUM_FHA</th>\n",
       "      <th>PCT_NUM_FHA</th>\n",
       "      <th>AMT_ALL</th>\n",
       "      <th>AMT_FHA</th>\n",
       "      <th>PCT_AMT_FHA</th>\n",
       "    </tr>\n",
       "  </thead>\n",
       "  <tbody>\n",
       "    <tr>\n",
       "      <th>0</th>\n",
       "      <td>8.0</td>\n",
       "      <td>75.0</td>\n",
       "      <td>NaN</td>\n",
       "      <td>1</td>\n",
       "      <td>1</td>\n",
       "      <td>100.0</td>\n",
       "      <td>258</td>\n",
       "      <td>258</td>\n",
       "      <td>100.0</td>\n",
       "    </tr>\n",
       "    <tr>\n",
       "      <th>1</th>\n",
       "      <td>28.0</td>\n",
       "      <td>49.0</td>\n",
       "      <td>103.01</td>\n",
       "      <td>1</td>\n",
       "      <td>1</td>\n",
       "      <td>100.0</td>\n",
       "      <td>71</td>\n",
       "      <td>71</td>\n",
       "      <td>100.0</td>\n",
       "    </tr>\n",
       "    <tr>\n",
       "      <th>2</th>\n",
       "      <td>40.0</td>\n",
       "      <td>3.0</td>\n",
       "      <td>NaN</td>\n",
       "      <td>1</td>\n",
       "      <td>1</td>\n",
       "      <td>100.0</td>\n",
       "      <td>215</td>\n",
       "      <td>215</td>\n",
       "      <td>100.0</td>\n",
       "    </tr>\n",
       "    <tr>\n",
       "      <th>3</th>\n",
       "      <td>39.0</td>\n",
       "      <td>113.0</td>\n",
       "      <td>603.00</td>\n",
       "      <td>3</td>\n",
       "      <td>3</td>\n",
       "      <td>100.0</td>\n",
       "      <td>206</td>\n",
       "      <td>206</td>\n",
       "      <td>100.0</td>\n",
       "    </tr>\n",
       "    <tr>\n",
       "      <th>4</th>\n",
       "      <td>12.0</td>\n",
       "      <td>105.0</td>\n",
       "      <td>124.04</td>\n",
       "      <td>2</td>\n",
       "      <td>2</td>\n",
       "      <td>100.0</td>\n",
       "      <td>303</td>\n",
       "      <td>303</td>\n",
       "      <td>100.0</td>\n",
       "    </tr>\n",
       "  </tbody>\n",
       "</table>\n",
       "</div>"
      ],
      "text/plain": [
       "   State_Code  County_Code  Census_Tract_Number  NUM_ALL  NUM_FHA  \\\n",
       "0         8.0         75.0                  NaN        1        1   \n",
       "1        28.0         49.0               103.01        1        1   \n",
       "2        40.0          3.0                  NaN        1        1   \n",
       "3        39.0        113.0               603.00        3        3   \n",
       "4        12.0        105.0               124.04        2        2   \n",
       "\n",
       "   PCT_NUM_FHA  AMT_ALL  AMT_FHA  PCT_AMT_FHA  \n",
       "0        100.0      258      258        100.0  \n",
       "1        100.0       71       71        100.0  \n",
       "2        100.0      215      215        100.0  \n",
       "3        100.0      206      206        100.0  \n",
       "4        100.0      303      303        100.0  "
      ]
     },
     "execution_count": 105,
     "metadata": {},
     "output_type": "execute_result"
    }
   ],
   "source": [
    "df.head()"
   ]
  },
  {
   "cell_type": "code",
   "execution_count": 106,
   "metadata": {},
   "outputs": [
    {
     "data": {
      "text/html": [
       "<div>\n",
       "<style>\n",
       "    .dataframe thead tr:only-child th {\n",
       "        text-align: right;\n",
       "    }\n",
       "\n",
       "    .dataframe thead th {\n",
       "        text-align: left;\n",
       "    }\n",
       "\n",
       "    .dataframe tbody tr th {\n",
       "        vertical-align: top;\n",
       "    }\n",
       "</style>\n",
       "<table border=\"1\" class=\"dataframe\">\n",
       "  <thead>\n",
       "    <tr style=\"text-align: right;\">\n",
       "      <th></th>\n",
       "      <th>County_Code</th>\n",
       "      <th>Census_Tract_Number</th>\n",
       "      <th>NUM_ALL</th>\n",
       "      <th>NUM_FHA</th>\n",
       "      <th>PCT_NUM_FHA</th>\n",
       "      <th>AMT_ALL</th>\n",
       "      <th>AMT_FHA</th>\n",
       "      <th>PCT_AMT_FHA</th>\n",
       "    </tr>\n",
       "    <tr>\n",
       "      <th>State_Code</th>\n",
       "      <th></th>\n",
       "      <th></th>\n",
       "      <th></th>\n",
       "      <th></th>\n",
       "      <th></th>\n",
       "      <th></th>\n",
       "      <th></th>\n",
       "      <th></th>\n",
       "    </tr>\n",
       "  </thead>\n",
       "  <tbody>\n",
       "    <tr>\n",
       "      <th>8.0</th>\n",
       "      <td>75.0</td>\n",
       "      <td>NaN</td>\n",
       "      <td>1</td>\n",
       "      <td>1</td>\n",
       "      <td>100.0</td>\n",
       "      <td>258</td>\n",
       "      <td>258</td>\n",
       "      <td>100.0</td>\n",
       "    </tr>\n",
       "    <tr>\n",
       "      <th>28.0</th>\n",
       "      <td>49.0</td>\n",
       "      <td>103.01</td>\n",
       "      <td>1</td>\n",
       "      <td>1</td>\n",
       "      <td>100.0</td>\n",
       "      <td>71</td>\n",
       "      <td>71</td>\n",
       "      <td>100.0</td>\n",
       "    </tr>\n",
       "    <tr>\n",
       "      <th>40.0</th>\n",
       "      <td>3.0</td>\n",
       "      <td>NaN</td>\n",
       "      <td>1</td>\n",
       "      <td>1</td>\n",
       "      <td>100.0</td>\n",
       "      <td>215</td>\n",
       "      <td>215</td>\n",
       "      <td>100.0</td>\n",
       "    </tr>\n",
       "    <tr>\n",
       "      <th>39.0</th>\n",
       "      <td>113.0</td>\n",
       "      <td>603.00</td>\n",
       "      <td>3</td>\n",
       "      <td>3</td>\n",
       "      <td>100.0</td>\n",
       "      <td>206</td>\n",
       "      <td>206</td>\n",
       "      <td>100.0</td>\n",
       "    </tr>\n",
       "    <tr>\n",
       "      <th>12.0</th>\n",
       "      <td>105.0</td>\n",
       "      <td>124.04</td>\n",
       "      <td>2</td>\n",
       "      <td>2</td>\n",
       "      <td>100.0</td>\n",
       "      <td>303</td>\n",
       "      <td>303</td>\n",
       "      <td>100.0</td>\n",
       "    </tr>\n",
       "  </tbody>\n",
       "</table>\n",
       "</div>"
      ],
      "text/plain": [
       "            County_Code  Census_Tract_Number  NUM_ALL  NUM_FHA  PCT_NUM_FHA  \\\n",
       "State_Code                                                                    \n",
       "8.0                75.0                  NaN        1        1        100.0   \n",
       "28.0               49.0               103.01        1        1        100.0   \n",
       "40.0                3.0                  NaN        1        1        100.0   \n",
       "39.0              113.0               603.00        3        3        100.0   \n",
       "12.0              105.0               124.04        2        2        100.0   \n",
       "\n",
       "            AMT_ALL  AMT_FHA  PCT_AMT_FHA  \n",
       "State_Code                                 \n",
       "8.0             258      258        100.0  \n",
       "28.0             71       71        100.0  \n",
       "40.0            215      215        100.0  \n",
       "39.0            206      206        100.0  \n",
       "12.0            303      303        100.0  "
      ]
     },
     "execution_count": 106,
     "metadata": {},
     "output_type": "execute_result"
    }
   ],
   "source": [
    "df.set_index('State_Code').head()"
   ]
  },
  {
   "cell_type": "markdown",
   "metadata": {},
   "source": [
    "## Adding and dropping data\n"
   ]
  },
  {
   "cell_type": "markdown",
   "metadata": {},
   "source": [
    "We can add columns to a DataFrame by slicing it with a new column name."
   ]
  },
  {
   "cell_type": "code",
   "execution_count": 107,
   "metadata": {},
   "outputs": [
    {
     "data": {
      "text/html": [
       "<div>\n",
       "<style>\n",
       "    .dataframe thead tr:only-child th {\n",
       "        text-align: right;\n",
       "    }\n",
       "\n",
       "    .dataframe thead th {\n",
       "        text-align: left;\n",
       "    }\n",
       "\n",
       "    .dataframe tbody tr th {\n",
       "        vertical-align: top;\n",
       "    }\n",
       "</style>\n",
       "<table border=\"1\" class=\"dataframe\">\n",
       "  <thead>\n",
       "    <tr style=\"text-align: right;\">\n",
       "      <th></th>\n",
       "      <th>State_Code</th>\n",
       "      <th>County_Code</th>\n",
       "      <th>Census_Tract_Number</th>\n",
       "      <th>NUM_ALL</th>\n",
       "      <th>NUM_FHA</th>\n",
       "      <th>PCT_NUM_FHA</th>\n",
       "      <th>AMT_ALL</th>\n",
       "      <th>AMT_FHA</th>\n",
       "      <th>PCT_AMT_FHA</th>\n",
       "      <th>GEOID</th>\n",
       "    </tr>\n",
       "  </thead>\n",
       "  <tbody>\n",
       "    <tr>\n",
       "      <th>0</th>\n",
       "      <td>8.0</td>\n",
       "      <td>75.0</td>\n",
       "      <td>NaN</td>\n",
       "      <td>1</td>\n",
       "      <td>1</td>\n",
       "      <td>100.0</td>\n",
       "      <td>258</td>\n",
       "      <td>258</td>\n",
       "      <td>100.0</td>\n",
       "      <td>NaN</td>\n",
       "    </tr>\n",
       "    <tr>\n",
       "      <th>1</th>\n",
       "      <td>28.0</td>\n",
       "      <td>49.0</td>\n",
       "      <td>103.01</td>\n",
       "      <td>1</td>\n",
       "      <td>1</td>\n",
       "      <td>100.0</td>\n",
       "      <td>71</td>\n",
       "      <td>71</td>\n",
       "      <td>100.0</td>\n",
       "      <td>2.804901e+10</td>\n",
       "    </tr>\n",
       "    <tr>\n",
       "      <th>2</th>\n",
       "      <td>40.0</td>\n",
       "      <td>3.0</td>\n",
       "      <td>NaN</td>\n",
       "      <td>1</td>\n",
       "      <td>1</td>\n",
       "      <td>100.0</td>\n",
       "      <td>215</td>\n",
       "      <td>215</td>\n",
       "      <td>100.0</td>\n",
       "      <td>NaN</td>\n",
       "    </tr>\n",
       "    <tr>\n",
       "      <th>3</th>\n",
       "      <td>39.0</td>\n",
       "      <td>113.0</td>\n",
       "      <td>603.00</td>\n",
       "      <td>3</td>\n",
       "      <td>3</td>\n",
       "      <td>100.0</td>\n",
       "      <td>206</td>\n",
       "      <td>206</td>\n",
       "      <td>100.0</td>\n",
       "      <td>3.911306e+10</td>\n",
       "    </tr>\n",
       "    <tr>\n",
       "      <th>4</th>\n",
       "      <td>12.0</td>\n",
       "      <td>105.0</td>\n",
       "      <td>124.04</td>\n",
       "      <td>2</td>\n",
       "      <td>2</td>\n",
       "      <td>100.0</td>\n",
       "      <td>303</td>\n",
       "      <td>303</td>\n",
       "      <td>100.0</td>\n",
       "      <td>1.210501e+10</td>\n",
       "    </tr>\n",
       "  </tbody>\n",
       "</table>\n",
       "</div>"
      ],
      "text/plain": [
       "   State_Code  County_Code  Census_Tract_Number  NUM_ALL  NUM_FHA  \\\n",
       "0         8.0         75.0                  NaN        1        1   \n",
       "1        28.0         49.0               103.01        1        1   \n",
       "2        40.0          3.0                  NaN        1        1   \n",
       "3        39.0        113.0               603.00        3        3   \n",
       "4        12.0        105.0               124.04        2        2   \n",
       "\n",
       "   PCT_NUM_FHA  AMT_ALL  AMT_FHA  PCT_AMT_FHA         GEOID  \n",
       "0        100.0      258      258        100.0           NaN  \n",
       "1        100.0       71       71        100.0  2.804901e+10  \n",
       "2        100.0      215      215        100.0           NaN  \n",
       "3        100.0      206      206        100.0  3.911306e+10  \n",
       "4        100.0      303      303        100.0  1.210501e+10  "
      ]
     },
     "execution_count": 107,
     "metadata": {},
     "output_type": "execute_result"
    }
   ],
   "source": [
    "df['GEOID'] = (df['Census_Tract_Number']*100 + 10**6 * df['County_Code']\n",
    "               + 10**9 * df['State_Code'])   # A computed field!\n",
    "df.head()"
   ]
  },
  {
   "cell_type": "markdown",
   "metadata": {},
   "source": [
    "Notice that this syntax is similar to adding a new element to a dictionary.\n",
    "\n",
    "```python\n",
    "my_dict = {'a': 0, 'b': 1}\n",
    "my_dict['c'] = 36\n",
    "```\n",
    "\n",
    "Recall that a DataFrame can be thought of as a dictionary of Series. When we create a new column, we are adding a new Series to that dictionary."
   ]
  },
  {
   "cell_type": "markdown",
   "metadata": {},
   "source": [
    "We can also add rows by slicing into a DataFrame at the index of the new row using `loc`."
   ]
  },
  {
   "cell_type": "code",
   "execution_count": 108,
   "metadata": {},
   "outputs": [
    {
     "data": {
      "text/html": [
       "<div>\n",
       "<style>\n",
       "    .dataframe thead tr:only-child th {\n",
       "        text-align: right;\n",
       "    }\n",
       "\n",
       "    .dataframe thead th {\n",
       "        text-align: left;\n",
       "    }\n",
       "\n",
       "    .dataframe tbody tr th {\n",
       "        vertical-align: top;\n",
       "    }\n",
       "</style>\n",
       "<table border=\"1\" class=\"dataframe\">\n",
       "  <thead>\n",
       "    <tr style=\"text-align: right;\">\n",
       "      <th></th>\n",
       "      <th>animal</th>\n",
       "      <th>color</th>\n",
       "      <th>diet</th>\n",
       "    </tr>\n",
       "  </thead>\n",
       "  <tbody>\n",
       "    <tr>\n",
       "      <th>0</th>\n",
       "      <td>cat</td>\n",
       "      <td>black</td>\n",
       "      <td>mice</td>\n",
       "    </tr>\n",
       "    <tr>\n",
       "      <th>1</th>\n",
       "      <td>dog</td>\n",
       "      <td>brown</td>\n",
       "      <td>kibble</td>\n",
       "    </tr>\n",
       "    <tr>\n",
       "      <th>2</th>\n",
       "      <td>mouse</td>\n",
       "      <td>gray</td>\n",
       "      <td>cheese</td>\n",
       "    </tr>\n",
       "  </tbody>\n",
       "</table>\n",
       "</div>"
      ],
      "text/plain": [
       "  animal  color    diet\n",
       "0    cat  black    mice\n",
       "1    dog  brown  kibble\n",
       "2  mouse   gray  cheese"
      ]
     },
     "execution_count": 108,
     "metadata": {},
     "output_type": "execute_result"
    }
   ],
   "source": [
    "df1.head()"
   ]
  },
  {
   "cell_type": "code",
   "execution_count": 109,
   "metadata": {},
   "outputs": [
    {
     "data": {
      "text/html": [
       "<div>\n",
       "<style>\n",
       "    .dataframe thead tr:only-child th {\n",
       "        text-align: right;\n",
       "    }\n",
       "\n",
       "    .dataframe thead th {\n",
       "        text-align: left;\n",
       "    }\n",
       "\n",
       "    .dataframe tbody tr th {\n",
       "        vertical-align: top;\n",
       "    }\n",
       "</style>\n",
       "<table border=\"1\" class=\"dataframe\">\n",
       "  <thead>\n",
       "    <tr style=\"text-align: right;\">\n",
       "      <th></th>\n",
       "      <th>animal</th>\n",
       "      <th>color</th>\n",
       "      <th>diet</th>\n",
       "    </tr>\n",
       "  </thead>\n",
       "  <tbody>\n",
       "    <tr>\n",
       "      <th>0</th>\n",
       "      <td>cat</td>\n",
       "      <td>black</td>\n",
       "      <td>mice</td>\n",
       "    </tr>\n",
       "    <tr>\n",
       "      <th>1</th>\n",
       "      <td>dog</td>\n",
       "      <td>brown</td>\n",
       "      <td>kibble</td>\n",
       "    </tr>\n",
       "    <tr>\n",
       "      <th>2</th>\n",
       "      <td>mouse</td>\n",
       "      <td>gray</td>\n",
       "      <td>cheese</td>\n",
       "    </tr>\n",
       "    <tr>\n",
       "      <th>10</th>\n",
       "      <td>horse</td>\n",
       "      <td>brown</td>\n",
       "      <td>grass</td>\n",
       "    </tr>\n",
       "  </tbody>\n",
       "</table>\n",
       "</div>"
      ],
      "text/plain": [
       "   animal  color    diet\n",
       "0     cat  black    mice\n",
       "1     dog  brown  kibble\n",
       "2   mouse   gray  cheese\n",
       "10  horse  brown   grass"
      ]
     },
     "execution_count": 109,
     "metadata": {},
     "output_type": "execute_result"
    }
   ],
   "source": [
    "df1.loc[10] = {'animal': 'horse', 'color': 'brown', 'diet': 'grass'}\n",
    "df1.head()"
   ]
  },
  {
   "cell_type": "markdown",
   "metadata": {},
   "source": [
    "We can also remove data from a DataFrame. To drop a row:"
   ]
  },
  {
   "cell_type": "code",
   "execution_count": 110,
   "metadata": {},
   "outputs": [
    {
     "data": {
      "text/html": [
       "<div>\n",
       "<style>\n",
       "    .dataframe thead tr:only-child th {\n",
       "        text-align: right;\n",
       "    }\n",
       "\n",
       "    .dataframe thead th {\n",
       "        text-align: left;\n",
       "    }\n",
       "\n",
       "    .dataframe tbody tr th {\n",
       "        vertical-align: top;\n",
       "    }\n",
       "</style>\n",
       "<table border=\"1\" class=\"dataframe\">\n",
       "  <thead>\n",
       "    <tr style=\"text-align: right;\">\n",
       "      <th></th>\n",
       "      <th>State_Code</th>\n",
       "      <th>County_Code</th>\n",
       "      <th>Census_Tract_Number</th>\n",
       "      <th>NUM_ALL</th>\n",
       "      <th>NUM_FHA</th>\n",
       "      <th>PCT_NUM_FHA</th>\n",
       "      <th>AMT_ALL</th>\n",
       "      <th>AMT_FHA</th>\n",
       "      <th>PCT_AMT_FHA</th>\n",
       "      <th>GEOID</th>\n",
       "    </tr>\n",
       "  </thead>\n",
       "  <tbody>\n",
       "    <tr>\n",
       "      <th>1</th>\n",
       "      <td>28.0</td>\n",
       "      <td>49.0</td>\n",
       "      <td>103.01</td>\n",
       "      <td>1</td>\n",
       "      <td>1</td>\n",
       "      <td>100.0</td>\n",
       "      <td>71</td>\n",
       "      <td>71</td>\n",
       "      <td>100.0</td>\n",
       "      <td>2.804901e+10</td>\n",
       "    </tr>\n",
       "    <tr>\n",
       "      <th>2</th>\n",
       "      <td>40.0</td>\n",
       "      <td>3.0</td>\n",
       "      <td>NaN</td>\n",
       "      <td>1</td>\n",
       "      <td>1</td>\n",
       "      <td>100.0</td>\n",
       "      <td>215</td>\n",
       "      <td>215</td>\n",
       "      <td>100.0</td>\n",
       "      <td>NaN</td>\n",
       "    </tr>\n",
       "    <tr>\n",
       "      <th>3</th>\n",
       "      <td>39.0</td>\n",
       "      <td>113.0</td>\n",
       "      <td>603.00</td>\n",
       "      <td>3</td>\n",
       "      <td>3</td>\n",
       "      <td>100.0</td>\n",
       "      <td>206</td>\n",
       "      <td>206</td>\n",
       "      <td>100.0</td>\n",
       "      <td>3.911306e+10</td>\n",
       "    </tr>\n",
       "    <tr>\n",
       "      <th>4</th>\n",
       "      <td>12.0</td>\n",
       "      <td>105.0</td>\n",
       "      <td>124.04</td>\n",
       "      <td>2</td>\n",
       "      <td>2</td>\n",
       "      <td>100.0</td>\n",
       "      <td>303</td>\n",
       "      <td>303</td>\n",
       "      <td>100.0</td>\n",
       "      <td>1.210501e+10</td>\n",
       "    </tr>\n",
       "    <tr>\n",
       "      <th>5</th>\n",
       "      <td>12.0</td>\n",
       "      <td>86.0</td>\n",
       "      <td>9808.00</td>\n",
       "      <td>1</td>\n",
       "      <td>1</td>\n",
       "      <td>100.0</td>\n",
       "      <td>188</td>\n",
       "      <td>188</td>\n",
       "      <td>100.0</td>\n",
       "      <td>1.208698e+10</td>\n",
       "    </tr>\n",
       "  </tbody>\n",
       "</table>\n",
       "</div>"
      ],
      "text/plain": [
       "   State_Code  County_Code  Census_Tract_Number  NUM_ALL  NUM_FHA  \\\n",
       "1        28.0         49.0               103.01        1        1   \n",
       "2        40.0          3.0                  NaN        1        1   \n",
       "3        39.0        113.0               603.00        3        3   \n",
       "4        12.0        105.0               124.04        2        2   \n",
       "5        12.0         86.0              9808.00        1        1   \n",
       "\n",
       "   PCT_NUM_FHA  AMT_ALL  AMT_FHA  PCT_AMT_FHA         GEOID  \n",
       "1        100.0       71       71        100.0  2.804901e+10  \n",
       "2        100.0      215      215        100.0           NaN  \n",
       "3        100.0      206      206        100.0  3.911306e+10  \n",
       "4        100.0      303      303        100.0  1.210501e+10  \n",
       "5        100.0      188      188        100.0  1.208698e+10  "
      ]
     },
     "execution_count": 110,
     "metadata": {},
     "output_type": "execute_result"
    }
   ],
   "source": [
    "df.drop(0).head()"
   ]
  },
  {
   "cell_type": "markdown",
   "metadata": {},
   "source": [
    "Notice that the indices do not reset.  The index is associated with the row, not with the order."
   ]
  },
  {
   "cell_type": "markdown",
   "metadata": {},
   "source": [
    "To drop a column:"
   ]
  },
  {
   "cell_type": "code",
   "execution_count": 111,
   "metadata": {},
   "outputs": [
    {
     "data": {
      "text/html": [
       "<div>\n",
       "<style>\n",
       "    .dataframe thead tr:only-child th {\n",
       "        text-align: right;\n",
       "    }\n",
       "\n",
       "    .dataframe thead th {\n",
       "        text-align: left;\n",
       "    }\n",
       "\n",
       "    .dataframe tbody tr th {\n",
       "        vertical-align: top;\n",
       "    }\n",
       "</style>\n",
       "<table border=\"1\" class=\"dataframe\">\n",
       "  <thead>\n",
       "    <tr style=\"text-align: right;\">\n",
       "      <th></th>\n",
       "      <th>State_Code</th>\n",
       "      <th>County_Code</th>\n",
       "      <th>Census_Tract_Number</th>\n",
       "      <th>NUM_ALL</th>\n",
       "      <th>NUM_FHA</th>\n",
       "      <th>PCT_NUM_FHA</th>\n",
       "      <th>AMT_ALL</th>\n",
       "      <th>AMT_FHA</th>\n",
       "      <th>PCT_AMT_FHA</th>\n",
       "      <th>GEOID</th>\n",
       "    </tr>\n",
       "  </thead>\n",
       "  <tbody>\n",
       "    <tr>\n",
       "      <th>2</th>\n",
       "      <td>40.0</td>\n",
       "      <td>3.0</td>\n",
       "      <td>NaN</td>\n",
       "      <td>1</td>\n",
       "      <td>1</td>\n",
       "      <td>100.0</td>\n",
       "      <td>215</td>\n",
       "      <td>215</td>\n",
       "      <td>100.0</td>\n",
       "      <td>NaN</td>\n",
       "    </tr>\n",
       "    <tr>\n",
       "      <th>3</th>\n",
       "      <td>39.0</td>\n",
       "      <td>113.0</td>\n",
       "      <td>603.00</td>\n",
       "      <td>3</td>\n",
       "      <td>3</td>\n",
       "      <td>100.0</td>\n",
       "      <td>206</td>\n",
       "      <td>206</td>\n",
       "      <td>100.0</td>\n",
       "      <td>3.911306e+10</td>\n",
       "    </tr>\n",
       "    <tr>\n",
       "      <th>4</th>\n",
       "      <td>12.0</td>\n",
       "      <td>105.0</td>\n",
       "      <td>124.04</td>\n",
       "      <td>2</td>\n",
       "      <td>2</td>\n",
       "      <td>100.0</td>\n",
       "      <td>303</td>\n",
       "      <td>303</td>\n",
       "      <td>100.0</td>\n",
       "      <td>1.210501e+10</td>\n",
       "    </tr>\n",
       "    <tr>\n",
       "      <th>5</th>\n",
       "      <td>12.0</td>\n",
       "      <td>86.0</td>\n",
       "      <td>9808.00</td>\n",
       "      <td>1</td>\n",
       "      <td>1</td>\n",
       "      <td>100.0</td>\n",
       "      <td>188</td>\n",
       "      <td>188</td>\n",
       "      <td>100.0</td>\n",
       "      <td>1.208698e+10</td>\n",
       "    </tr>\n",
       "    <tr>\n",
       "      <th>6</th>\n",
       "      <td>39.0</td>\n",
       "      <td>35.0</td>\n",
       "      <td>1202.00</td>\n",
       "      <td>1</td>\n",
       "      <td>1</td>\n",
       "      <td>100.0</td>\n",
       "      <td>19</td>\n",
       "      <td>19</td>\n",
       "      <td>100.0</td>\n",
       "      <td>3.903512e+10</td>\n",
       "    </tr>\n",
       "  </tbody>\n",
       "</table>\n",
       "</div>"
      ],
      "text/plain": [
       "   State_Code  County_Code  Census_Tract_Number  NUM_ALL  NUM_FHA  \\\n",
       "2        40.0          3.0                  NaN        1        1   \n",
       "3        39.0        113.0               603.00        3        3   \n",
       "4        12.0        105.0               124.04        2        2   \n",
       "5        12.0         86.0              9808.00        1        1   \n",
       "6        39.0         35.0              1202.00        1        1   \n",
       "\n",
       "   PCT_NUM_FHA  AMT_ALL  AMT_FHA  PCT_AMT_FHA         GEOID  \n",
       "2        100.0      215      215        100.0           NaN  \n",
       "3        100.0      206      206        100.0  3.911306e+10  \n",
       "4        100.0      303      303        100.0  1.210501e+10  \n",
       "5        100.0      188      188        100.0  1.208698e+10  \n",
       "6        100.0       19       19        100.0  3.903512e+10  "
      ]
     },
     "execution_count": 111,
     "metadata": {},
     "output_type": "execute_result"
    }
   ],
   "source": [
    "df.drop(df['NUM_ALL'] == 1).head()"
   ]
  },
  {
   "cell_type": "code",
   "execution_count": 112,
   "metadata": {},
   "outputs": [
    {
     "data": {
      "text/html": [
       "<div>\n",
       "<style>\n",
       "    .dataframe thead tr:only-child th {\n",
       "        text-align: right;\n",
       "    }\n",
       "\n",
       "    .dataframe thead th {\n",
       "        text-align: left;\n",
       "    }\n",
       "\n",
       "    .dataframe tbody tr th {\n",
       "        vertical-align: top;\n",
       "    }\n",
       "</style>\n",
       "<table border=\"1\" class=\"dataframe\">\n",
       "  <thead>\n",
       "    <tr style=\"text-align: right;\">\n",
       "      <th></th>\n",
       "      <th>State_Code</th>\n",
       "      <th>County_Code</th>\n",
       "      <th>Census_Tract_Number</th>\n",
       "      <th>NUM_ALL</th>\n",
       "      <th>NUM_FHA</th>\n",
       "      <th>PCT_NUM_FHA</th>\n",
       "      <th>AMT_ALL</th>\n",
       "      <th>AMT_FHA</th>\n",
       "      <th>PCT_AMT_FHA</th>\n",
       "    </tr>\n",
       "  </thead>\n",
       "  <tbody>\n",
       "    <tr>\n",
       "      <th>0</th>\n",
       "      <td>8.0</td>\n",
       "      <td>75.0</td>\n",
       "      <td>NaN</td>\n",
       "      <td>1</td>\n",
       "      <td>1</td>\n",
       "      <td>100.0</td>\n",
       "      <td>258</td>\n",
       "      <td>258</td>\n",
       "      <td>100.0</td>\n",
       "    </tr>\n",
       "    <tr>\n",
       "      <th>1</th>\n",
       "      <td>28.0</td>\n",
       "      <td>49.0</td>\n",
       "      <td>103.01</td>\n",
       "      <td>1</td>\n",
       "      <td>1</td>\n",
       "      <td>100.0</td>\n",
       "      <td>71</td>\n",
       "      <td>71</td>\n",
       "      <td>100.0</td>\n",
       "    </tr>\n",
       "    <tr>\n",
       "      <th>2</th>\n",
       "      <td>40.0</td>\n",
       "      <td>3.0</td>\n",
       "      <td>NaN</td>\n",
       "      <td>1</td>\n",
       "      <td>1</td>\n",
       "      <td>100.0</td>\n",
       "      <td>215</td>\n",
       "      <td>215</td>\n",
       "      <td>100.0</td>\n",
       "    </tr>\n",
       "    <tr>\n",
       "      <th>3</th>\n",
       "      <td>39.0</td>\n",
       "      <td>113.0</td>\n",
       "      <td>603.00</td>\n",
       "      <td>3</td>\n",
       "      <td>3</td>\n",
       "      <td>100.0</td>\n",
       "      <td>206</td>\n",
       "      <td>206</td>\n",
       "      <td>100.0</td>\n",
       "    </tr>\n",
       "    <tr>\n",
       "      <th>4</th>\n",
       "      <td>12.0</td>\n",
       "      <td>105.0</td>\n",
       "      <td>124.04</td>\n",
       "      <td>2</td>\n",
       "      <td>2</td>\n",
       "      <td>100.0</td>\n",
       "      <td>303</td>\n",
       "      <td>303</td>\n",
       "      <td>100.0</td>\n",
       "    </tr>\n",
       "  </tbody>\n",
       "</table>\n",
       "</div>"
      ],
      "text/plain": [
       "   State_Code  County_Code  Census_Tract_Number  NUM_ALL  NUM_FHA  \\\n",
       "0         8.0         75.0                  NaN        1        1   \n",
       "1        28.0         49.0               103.01        1        1   \n",
       "2        40.0          3.0                  NaN        1        1   \n",
       "3        39.0        113.0               603.00        3        3   \n",
       "4        12.0        105.0               124.04        2        2   \n",
       "\n",
       "   PCT_NUM_FHA  AMT_ALL  AMT_FHA  PCT_AMT_FHA  \n",
       "0        100.0      258      258        100.0  \n",
       "1        100.0       71       71        100.0  \n",
       "2        100.0      215      215        100.0  \n",
       "3        100.0      206      206        100.0  \n",
       "4        100.0      303      303        100.0  "
      ]
     },
     "execution_count": 112,
     "metadata": {},
     "output_type": "execute_result"
    }
   ],
   "source": [
    "df.drop('GEOID', axis=1).head()"
   ]
  },
  {
   "cell_type": "markdown",
   "metadata": {},
   "source": [
    "Most operations produce copies (unless `inplace=True` is specified).  The `df` object still has the GEOID column."
   ]
  },
  {
   "cell_type": "code",
   "execution_count": 113,
   "metadata": {},
   "outputs": [
    {
     "data": {
      "text/plain": [
       "True"
      ]
     },
     "execution_count": 113,
     "metadata": {},
     "output_type": "execute_result"
    }
   ],
   "source": [
    "'GEOID' in df.columns"
   ]
  },
  {
   "cell_type": "markdown",
   "metadata": {},
   "source": [
    "## Filtering data\n"
   ]
  },
  {
   "cell_type": "markdown",
   "metadata": {},
   "source": [
    "Now the `df[...]` notation is very flexible:\n",
    "  - It accepts column names (strings and lists of strings);\n",
    "  - It accepts column numbers (so long as there is no ambiguity with column names);\n",
    "  - It accepts _binary data series!_\n",
    "  \n",
    "This means that you can write\n",
    "\n",
    "```python\n",
    "df[ (df['column_name2']==MD) & ( (df['column_name1']==5) | (df['column_name1']==6) ) ]\n",
    "```\n",
    "\n",
    "for what you would write in SQL as\n",
    "\n",
    "```sql\n",
    "SELECT * FROM df WHERE\n",
    "column_name2='MD\" AND (column_name1=5 OR column_name1=6)\n",
    "```\n",
    "            \n",
    "Boolean operators on a data frame return a data series of Booleans."
   ]
  },
  {
   "cell_type": "code",
   "execution_count": 114,
   "metadata": {},
   "outputs": [
    {
     "data": {
      "text/plain": [
       "0    False\n",
       "1    False\n",
       "2    False\n",
       "3     True\n",
       "4    False\n",
       "Name: State_Code, dtype: bool"
      ]
     },
     "execution_count": 114,
     "metadata": {},
     "output_type": "execute_result"
    }
   ],
   "source": [
    "(df['State_Code'] == 39).head()"
   ]
  },
  {
   "cell_type": "code",
   "execution_count": 115,
   "metadata": {},
   "outputs": [
    {
     "data": {
      "text/plain": [
       "0    False\n",
       "1    False\n",
       "2    False\n",
       "3    False\n",
       "4    False\n",
       "dtype: bool"
      ]
     },
     "execution_count": 115,
     "metadata": {},
     "output_type": "execute_result"
    }
   ],
   "source": [
    "((df['State_Code'] == 39) & (df['Census_Tract_Number'] == 9613)).head()"
   ]
  },
  {
   "cell_type": "code",
   "execution_count": 116,
   "metadata": {},
   "outputs": [
    {
     "data": {
      "text/html": [
       "<div>\n",
       "<style>\n",
       "    .dataframe thead tr:only-child th {\n",
       "        text-align: right;\n",
       "    }\n",
       "\n",
       "    .dataframe thead th {\n",
       "        text-align: left;\n",
       "    }\n",
       "\n",
       "    .dataframe tbody tr th {\n",
       "        vertical-align: top;\n",
       "    }\n",
       "</style>\n",
       "<table border=\"1\" class=\"dataframe\">\n",
       "  <thead>\n",
       "    <tr style=\"text-align: right;\">\n",
       "      <th></th>\n",
       "      <th>State_Code</th>\n",
       "      <th>County_Code</th>\n",
       "      <th>Census_Tract_Number</th>\n",
       "      <th>NUM_ALL</th>\n",
       "      <th>NUM_FHA</th>\n",
       "      <th>PCT_NUM_FHA</th>\n",
       "      <th>AMT_ALL</th>\n",
       "      <th>AMT_FHA</th>\n",
       "      <th>PCT_AMT_FHA</th>\n",
       "      <th>GEOID</th>\n",
       "    </tr>\n",
       "  </thead>\n",
       "  <tbody>\n",
       "    <tr>\n",
       "      <th>51958</th>\n",
       "      <td>39.0</td>\n",
       "      <td>143.0</td>\n",
       "      <td>9613.0</td>\n",
       "      <td>21</td>\n",
       "      <td>2</td>\n",
       "      <td>9.52381</td>\n",
       "      <td>2110</td>\n",
       "      <td>262</td>\n",
       "      <td>12.41710</td>\n",
       "      <td>3.914396e+10</td>\n",
       "    </tr>\n",
       "    <tr>\n",
       "      <th>57340</th>\n",
       "      <td>39.0</td>\n",
       "      <td>31.0</td>\n",
       "      <td>9613.0</td>\n",
       "      <td>21</td>\n",
       "      <td>2</td>\n",
       "      <td>9.52381</td>\n",
       "      <td>2533</td>\n",
       "      <td>203</td>\n",
       "      <td>8.01421</td>\n",
       "      <td>3.903196e+10</td>\n",
       "    </tr>\n",
       "  </tbody>\n",
       "</table>\n",
       "</div>"
      ],
      "text/plain": [
       "       State_Code  County_Code  Census_Tract_Number  NUM_ALL  NUM_FHA  \\\n",
       "51958        39.0        143.0               9613.0       21        2   \n",
       "57340        39.0         31.0               9613.0       21        2   \n",
       "\n",
       "       PCT_NUM_FHA  AMT_ALL  AMT_FHA  PCT_AMT_FHA         GEOID  \n",
       "51958      9.52381     2110      262     12.41710  3.914396e+10  \n",
       "57340      9.52381     2533      203      8.01421  3.903196e+10  "
      ]
     },
     "execution_count": 116,
     "metadata": {},
     "output_type": "execute_result"
    }
   ],
   "source": [
    "df[(df['State_Code'] == 39) & (df['Census_Tract_Number'] == 9613)]"
   ]
  },
  {
   "cell_type": "markdown",
   "metadata": {},
   "source": [
    "**Note:** selecting rows by binary data series only if they share the same data index!\n",
    "\n",
    "There is also a `query` method that is very similar to a SQL statement's where clause. This approach gets the same result and is easier to read."
   ]
  },
  {
   "cell_type": "code",
   "execution_count": 117,
   "metadata": {},
   "outputs": [
    {
     "data": {
      "text/html": [
       "<div>\n",
       "<style>\n",
       "    .dataframe thead tr:only-child th {\n",
       "        text-align: right;\n",
       "    }\n",
       "\n",
       "    .dataframe thead th {\n",
       "        text-align: left;\n",
       "    }\n",
       "\n",
       "    .dataframe tbody tr th {\n",
       "        vertical-align: top;\n",
       "    }\n",
       "</style>\n",
       "<table border=\"1\" class=\"dataframe\">\n",
       "  <thead>\n",
       "    <tr style=\"text-align: right;\">\n",
       "      <th></th>\n",
       "      <th>State_Code</th>\n",
       "      <th>County_Code</th>\n",
       "      <th>Census_Tract_Number</th>\n",
       "      <th>NUM_ALL</th>\n",
       "      <th>NUM_FHA</th>\n",
       "      <th>PCT_NUM_FHA</th>\n",
       "      <th>AMT_ALL</th>\n",
       "      <th>AMT_FHA</th>\n",
       "      <th>PCT_AMT_FHA</th>\n",
       "      <th>GEOID</th>\n",
       "    </tr>\n",
       "  </thead>\n",
       "  <tbody>\n",
       "    <tr>\n",
       "      <th>51958</th>\n",
       "      <td>39.0</td>\n",
       "      <td>143.0</td>\n",
       "      <td>9613.0</td>\n",
       "      <td>21</td>\n",
       "      <td>2</td>\n",
       "      <td>9.52381</td>\n",
       "      <td>2110</td>\n",
       "      <td>262</td>\n",
       "      <td>12.41710</td>\n",
       "      <td>3.914396e+10</td>\n",
       "    </tr>\n",
       "    <tr>\n",
       "      <th>57340</th>\n",
       "      <td>39.0</td>\n",
       "      <td>31.0</td>\n",
       "      <td>9613.0</td>\n",
       "      <td>21</td>\n",
       "      <td>2</td>\n",
       "      <td>9.52381</td>\n",
       "      <td>2533</td>\n",
       "      <td>203</td>\n",
       "      <td>8.01421</td>\n",
       "      <td>3.903196e+10</td>\n",
       "    </tr>\n",
       "  </tbody>\n",
       "</table>\n",
       "</div>"
      ],
      "text/plain": [
       "       State_Code  County_Code  Census_Tract_Number  NUM_ALL  NUM_FHA  \\\n",
       "51958        39.0        143.0               9613.0       21        2   \n",
       "57340        39.0         31.0               9613.0       21        2   \n",
       "\n",
       "       PCT_NUM_FHA  AMT_ALL  AMT_FHA  PCT_AMT_FHA         GEOID  \n",
       "51958      9.52381     2110      262     12.41710  3.914396e+10  \n",
       "57340      9.52381     2533      203      8.01421  3.903196e+10  "
      ]
     },
     "execution_count": 117,
     "metadata": {},
     "output_type": "execute_result"
    }
   ],
   "source": [
    "df.query('State_Code == 39 and Census_Tract_Number == 9613')"
   ]
  },
  {
   "cell_type": "markdown",
   "metadata": {},
   "source": [
    "## Joining data\n"
   ]
  },
  {
   "cell_type": "markdown",
   "metadata": {},
   "source": [
    "The analogue of a\n",
    "\n",
    "```sql             \n",
    "SELECT * \n",
    "FROM df1\n",
    "INNER JOIN df2 \n",
    "ON df1.field_name=df2.field_name;\n",
    "```\n",
    "\n",
    "is\n",
    "\n",
    "```python\n",
    "df_joined = df1.merge(df2, on='field_name')\n",
    "```\n",
    "\n",
    "You can also do left / right / outer joins, mix-and-match column names, etc.  For that consult the Pandas documentation. (The example below will do a left join.)\n",
    "\n",
    "Of course, just looking at the distribution of insurance by census tract isn't interesting unless we know more about the census tract.  We'll load some data.  Notice this time, it's a TSV with headers given in the first row."
   ]
  },
  {
   "cell_type": "code",
   "execution_count": 118,
   "metadata": {},
   "outputs": [
    {
     "name": "stdout",
     "output_type": "stream",
     "text": [
      "USPS\tGEOID\tALAND\tAWATER\tALAND_SQMI\tAWATER_SQMI\tINTPTLAT\tINTPTLONG                                                                                                                             \r",
      "\r\n",
      "AL\t01001020100\t9809939\t36312\t       3.788\t       0.014\t 32.4817943\t -86.4902488                                                                                                                         \r",
      "\r\n",
      "AL\t01001020200\t3340498\t5846\t       1.290\t       0.002\t 32.4757580\t -86.4724678                                                                                                                          \r",
      "\r\n",
      "AL\t01001020300\t5349274\t9054\t       2.065\t       0.003\t 32.4740243\t -86.4597033                                                                                                                          \r",
      "\r\n",
      "AL\t01001020400\t6382705\t16244\t       2.464\t       0.006\t 32.4710304\t -86.4448353                                                                                                                         \r",
      "\r\n",
      "AL\t01001020500\t11397734\t48412\t       4.401\t       0.019\t 32.4589157\t -86.4218165                                                                                                                        \r",
      "\r\n",
      "AL\t01001020600\t8020363\t60048\t       3.097\t       0.023\t 32.4473674\t -86.4768327                                                                                                                         \r",
      "\r\n",
      "AL\t01001020700\t22414817\t775005\t       8.654\t       0.299\t 32.4303487\t -86.4369714                                                                                                                       \r",
      "\r\n",
      "AL\t01001020801\t124278423\t8117643\t      47.984\t       3.134\t 32.4180838\t -86.5271370                                                                                                                     \r",
      "\r\n",
      "AL\t01001020802\t190810946\t678013\t      73.673\t       0.262\t 32.5466429\t -86.5312317                                                                                                                      \r",
      "\r\n"
     ]
    }
   ],
   "source": [
    "!head small_data/2013_Gaz_tracts_national.tsv"
   ]
  },
  {
   "cell_type": "code",
   "execution_count": 119,
   "metadata": {},
   "outputs": [
    {
     "data": {
      "text/html": [
       "<div>\n",
       "<style>\n",
       "    .dataframe thead tr:only-child th {\n",
       "        text-align: right;\n",
       "    }\n",
       "\n",
       "    .dataframe thead th {\n",
       "        text-align: left;\n",
       "    }\n",
       "\n",
       "    .dataframe tbody tr th {\n",
       "        vertical-align: top;\n",
       "    }\n",
       "</style>\n",
       "<table border=\"1\" class=\"dataframe\">\n",
       "  <thead>\n",
       "    <tr style=\"text-align: right;\">\n",
       "      <th></th>\n",
       "      <th>USPS</th>\n",
       "      <th>GEOID</th>\n",
       "      <th>ALAND</th>\n",
       "      <th>AWATER</th>\n",
       "      <th>ALAND_SQMI</th>\n",
       "      <th>AWATER_SQMI</th>\n",
       "      <th>INTPTLAT</th>\n",
       "      <th>INTPTLONG</th>\n",
       "    </tr>\n",
       "  </thead>\n",
       "  <tbody>\n",
       "    <tr>\n",
       "      <th>0</th>\n",
       "      <td>AL</td>\n",
       "      <td>1001020100</td>\n",
       "      <td>9809939</td>\n",
       "      <td>36312</td>\n",
       "      <td>3.788</td>\n",
       "      <td>0.014</td>\n",
       "      <td>32.481794</td>\n",
       "      <td>-86.490249</td>\n",
       "    </tr>\n",
       "    <tr>\n",
       "      <th>1</th>\n",
       "      <td>AL</td>\n",
       "      <td>1001020200</td>\n",
       "      <td>3340498</td>\n",
       "      <td>5846</td>\n",
       "      <td>1.290</td>\n",
       "      <td>0.002</td>\n",
       "      <td>32.475758</td>\n",
       "      <td>-86.472468</td>\n",
       "    </tr>\n",
       "    <tr>\n",
       "      <th>2</th>\n",
       "      <td>AL</td>\n",
       "      <td>1001020300</td>\n",
       "      <td>5349274</td>\n",
       "      <td>9054</td>\n",
       "      <td>2.065</td>\n",
       "      <td>0.003</td>\n",
       "      <td>32.474024</td>\n",
       "      <td>-86.459703</td>\n",
       "    </tr>\n",
       "    <tr>\n",
       "      <th>3</th>\n",
       "      <td>AL</td>\n",
       "      <td>1001020400</td>\n",
       "      <td>6382705</td>\n",
       "      <td>16244</td>\n",
       "      <td>2.464</td>\n",
       "      <td>0.006</td>\n",
       "      <td>32.471030</td>\n",
       "      <td>-86.444835</td>\n",
       "    </tr>\n",
       "    <tr>\n",
       "      <th>4</th>\n",
       "      <td>AL</td>\n",
       "      <td>1001020500</td>\n",
       "      <td>11397734</td>\n",
       "      <td>48412</td>\n",
       "      <td>4.401</td>\n",
       "      <td>0.019</td>\n",
       "      <td>32.458916</td>\n",
       "      <td>-86.421817</td>\n",
       "    </tr>\n",
       "  </tbody>\n",
       "</table>\n",
       "</div>"
      ],
      "text/plain": [
       "  USPS       GEOID     ALAND  AWATER  ALAND_SQMI  AWATER_SQMI   INTPTLAT  \\\n",
       "0   AL  1001020100   9809939   36312       3.788        0.014  32.481794   \n",
       "1   AL  1001020200   3340498    5846       1.290        0.002  32.475758   \n",
       "2   AL  1001020300   5349274    9054       2.065        0.003  32.474024   \n",
       "3   AL  1001020400   6382705   16244       2.464        0.006  32.471030   \n",
       "4   AL  1001020500  11397734   48412       4.401        0.019  32.458916   \n",
       "\n",
       "   INTPTLONG                                                                                                                               \n",
       "0                                         -86.490249                                                                                       \n",
       "1                                         -86.472468                                                                                       \n",
       "2                                         -86.459703                                                                                       \n",
       "3                                         -86.444835                                                                                       \n",
       "4                                         -86.421817                                                                                       "
      ]
     },
     "execution_count": 119,
     "metadata": {},
     "output_type": "execute_result"
    }
   ],
   "source": [
    "# The first row is the column names, so we don't have to specify those\n",
    "df_geo = pd.read_csv('small_data/2013_Gaz_tracts_national.tsv', sep='\\t')\n",
    "df_geo.head()"
   ]
  },
  {
   "cell_type": "code",
   "execution_count": 145,
   "metadata": {},
   "outputs": [
    {
     "ename": "SyntaxError",
     "evalue": "invalid syntax (<ipython-input-145-bee987f21129>, line 1)",
     "output_type": "error",
     "traceback": [
      "\u001b[0;36m  File \u001b[0;32m\"<ipython-input-145-bee987f21129>\"\u001b[0;36m, line \u001b[0;32m1\u001b[0m\n\u001b[0;31m    df.merge()?\u001b[0m\n\u001b[0m              ^\u001b[0m\n\u001b[0;31mSyntaxError\u001b[0m\u001b[0;31m:\u001b[0m invalid syntax\n"
     ]
    }
   ],
   "source": []
  },
  {
   "cell_type": "code",
   "execution_count": 120,
   "metadata": {},
   "outputs": [
    {
     "data": {
      "text/html": [
       "<div>\n",
       "<style>\n",
       "    .dataframe thead tr:only-child th {\n",
       "        text-align: right;\n",
       "    }\n",
       "\n",
       "    .dataframe thead th {\n",
       "        text-align: left;\n",
       "    }\n",
       "\n",
       "    .dataframe tbody tr th {\n",
       "        vertical-align: top;\n",
       "    }\n",
       "</style>\n",
       "<table border=\"1\" class=\"dataframe\">\n",
       "  <thead>\n",
       "    <tr style=\"text-align: right;\">\n",
       "      <th></th>\n",
       "      <th>State_Code</th>\n",
       "      <th>County_Code</th>\n",
       "      <th>Census_Tract_Number</th>\n",
       "      <th>NUM_ALL</th>\n",
       "      <th>NUM_FHA</th>\n",
       "      <th>PCT_NUM_FHA</th>\n",
       "      <th>AMT_ALL</th>\n",
       "      <th>AMT_FHA</th>\n",
       "      <th>PCT_AMT_FHA</th>\n",
       "      <th>GEOID</th>\n",
       "      <th>USPS</th>\n",
       "      <th>ALAND</th>\n",
       "      <th>AWATER</th>\n",
       "      <th>ALAND_SQMI</th>\n",
       "      <th>AWATER_SQMI</th>\n",
       "      <th>INTPTLAT</th>\n",
       "      <th>INTPTLONG</th>\n",
       "    </tr>\n",
       "  </thead>\n",
       "  <tbody>\n",
       "    <tr>\n",
       "      <th>0</th>\n",
       "      <td>8.0</td>\n",
       "      <td>75.0</td>\n",
       "      <td>NaN</td>\n",
       "      <td>1</td>\n",
       "      <td>1</td>\n",
       "      <td>100.0</td>\n",
       "      <td>258</td>\n",
       "      <td>258</td>\n",
       "      <td>100.0</td>\n",
       "      <td>NaN</td>\n",
       "      <td>NaN</td>\n",
       "      <td>NaN</td>\n",
       "      <td>NaN</td>\n",
       "      <td>NaN</td>\n",
       "      <td>NaN</td>\n",
       "      <td>NaN</td>\n",
       "      <td>NaN</td>\n",
       "    </tr>\n",
       "    <tr>\n",
       "      <th>1</th>\n",
       "      <td>28.0</td>\n",
       "      <td>49.0</td>\n",
       "      <td>103.01</td>\n",
       "      <td>1</td>\n",
       "      <td>1</td>\n",
       "      <td>100.0</td>\n",
       "      <td>71</td>\n",
       "      <td>71</td>\n",
       "      <td>100.0</td>\n",
       "      <td>2.8049e+10</td>\n",
       "      <td>MS</td>\n",
       "      <td>8162270.0</td>\n",
       "      <td>22648.0</td>\n",
       "      <td>3.151</td>\n",
       "      <td>0.009</td>\n",
       "      <td>32.365904</td>\n",
       "      <td>-90.262379</td>\n",
       "    </tr>\n",
       "    <tr>\n",
       "      <th>2</th>\n",
       "      <td>40.0</td>\n",
       "      <td>3.0</td>\n",
       "      <td>NaN</td>\n",
       "      <td>1</td>\n",
       "      <td>1</td>\n",
       "      <td>100.0</td>\n",
       "      <td>215</td>\n",
       "      <td>215</td>\n",
       "      <td>100.0</td>\n",
       "      <td>NaN</td>\n",
       "      <td>NaN</td>\n",
       "      <td>NaN</td>\n",
       "      <td>NaN</td>\n",
       "      <td>NaN</td>\n",
       "      <td>NaN</td>\n",
       "      <td>NaN</td>\n",
       "      <td>NaN</td>\n",
       "    </tr>\n",
       "    <tr>\n",
       "      <th>3</th>\n",
       "      <td>39.0</td>\n",
       "      <td>113.0</td>\n",
       "      <td>603.00</td>\n",
       "      <td>3</td>\n",
       "      <td>3</td>\n",
       "      <td>100.0</td>\n",
       "      <td>206</td>\n",
       "      <td>206</td>\n",
       "      <td>100.0</td>\n",
       "      <td>3.91131e+10</td>\n",
       "      <td>OH</td>\n",
       "      <td>5382347.0</td>\n",
       "      <td>0.0</td>\n",
       "      <td>2.078</td>\n",
       "      <td>0.000</td>\n",
       "      <td>39.729932</td>\n",
       "      <td>-84.268323</td>\n",
       "    </tr>\n",
       "    <tr>\n",
       "      <th>4</th>\n",
       "      <td>12.0</td>\n",
       "      <td>105.0</td>\n",
       "      <td>124.04</td>\n",
       "      <td>2</td>\n",
       "      <td>2</td>\n",
       "      <td>100.0</td>\n",
       "      <td>303</td>\n",
       "      <td>303</td>\n",
       "      <td>100.0</td>\n",
       "      <td>1.2105e+10</td>\n",
       "      <td>FL</td>\n",
       "      <td>105120002.0</td>\n",
       "      <td>1800522.0</td>\n",
       "      <td>40.587</td>\n",
       "      <td>0.695</td>\n",
       "      <td>28.224489</td>\n",
       "      <td>-81.739745</td>\n",
       "    </tr>\n",
       "  </tbody>\n",
       "</table>\n",
       "</div>"
      ],
      "text/plain": [
       "   State_Code  County_Code  Census_Tract_Number  NUM_ALL  NUM_FHA  \\\n",
       "0         8.0         75.0                  NaN        1        1   \n",
       "1        28.0         49.0               103.01        1        1   \n",
       "2        40.0          3.0                  NaN        1        1   \n",
       "3        39.0        113.0               603.00        3        3   \n",
       "4        12.0        105.0               124.04        2        2   \n",
       "\n",
       "   PCT_NUM_FHA  AMT_ALL  AMT_FHA  PCT_AMT_FHA        GEOID USPS        ALAND  \\\n",
       "0        100.0      258      258        100.0          NaN  NaN          NaN   \n",
       "1        100.0       71       71        100.0   2.8049e+10   MS    8162270.0   \n",
       "2        100.0      215      215        100.0          NaN  NaN          NaN   \n",
       "3        100.0      206      206        100.0  3.91131e+10   OH    5382347.0   \n",
       "4        100.0      303      303        100.0   1.2105e+10   FL  105120002.0   \n",
       "\n",
       "      AWATER  ALAND_SQMI  AWATER_SQMI   INTPTLAT  \\\n",
       "0        NaN         NaN          NaN        NaN   \n",
       "1    22648.0       3.151        0.009  32.365904   \n",
       "2        NaN         NaN          NaN        NaN   \n",
       "3        0.0       2.078        0.000  39.729932   \n",
       "4  1800522.0      40.587        0.695  28.224489   \n",
       "\n",
       "   INTPTLONG                                                                                                                               \n",
       "0                                                NaN                                                                                       \n",
       "1                                         -90.262379                                                                                       \n",
       "2                                                NaN                                                                                       \n",
       "3                                         -84.268323                                                                                       \n",
       "4                                         -81.739745                                                                                       "
      ]
     },
     "execution_count": 120,
     "metadata": {},
     "output_type": "execute_result"
    }
   ],
   "source": [
    "df_joined = df.merge(df_geo, on='GEOID', how='left')\n",
    "df_joined.head()"
   ]
  },
  {
   "cell_type": "markdown",
   "metadata": {},
   "source": [
    "## Sorting by indices and columns\n"
   ]
  },
  {
   "cell_type": "markdown",
   "metadata": {},
   "source": [
    "We can sort by the row (or column) index."
   ]
  },
  {
   "cell_type": "code",
   "execution_count": 121,
   "metadata": {},
   "outputs": [
    {
     "data": {
      "text/html": [
       "<div>\n",
       "<style>\n",
       "    .dataframe thead tr:only-child th {\n",
       "        text-align: right;\n",
       "    }\n",
       "\n",
       "    .dataframe thead th {\n",
       "        text-align: left;\n",
       "    }\n",
       "\n",
       "    .dataframe tbody tr th {\n",
       "        vertical-align: top;\n",
       "    }\n",
       "</style>\n",
       "<table border=\"1\" class=\"dataframe\">\n",
       "  <thead>\n",
       "    <tr style=\"text-align: right;\">\n",
       "      <th></th>\n",
       "      <th>State_Code</th>\n",
       "      <th>County_Code</th>\n",
       "      <th>Census_Tract_Number</th>\n",
       "      <th>NUM_ALL</th>\n",
       "      <th>NUM_FHA</th>\n",
       "      <th>PCT_NUM_FHA</th>\n",
       "      <th>AMT_ALL</th>\n",
       "      <th>AMT_FHA</th>\n",
       "      <th>PCT_AMT_FHA</th>\n",
       "      <th>GEOID</th>\n",
       "      <th>ALAND</th>\n",
       "      <th>AWATER</th>\n",
       "      <th>ALAND_SQMI</th>\n",
       "      <th>AWATER_SQMI</th>\n",
       "      <th>INTPTLAT</th>\n",
       "      <th>INTPTLONG</th>\n",
       "    </tr>\n",
       "    <tr>\n",
       "      <th>USPS</th>\n",
       "      <th></th>\n",
       "      <th></th>\n",
       "      <th></th>\n",
       "      <th></th>\n",
       "      <th></th>\n",
       "      <th></th>\n",
       "      <th></th>\n",
       "      <th></th>\n",
       "      <th></th>\n",
       "      <th></th>\n",
       "      <th></th>\n",
       "      <th></th>\n",
       "      <th></th>\n",
       "      <th></th>\n",
       "      <th></th>\n",
       "      <th></th>\n",
       "    </tr>\n",
       "  </thead>\n",
       "  <tbody>\n",
       "    <tr>\n",
       "      <th>WY</th>\n",
       "      <td>56.0</td>\n",
       "      <td>29.0</td>\n",
       "      <td>9655.0</td>\n",
       "      <td>42</td>\n",
       "      <td>5</td>\n",
       "      <td>11.90480</td>\n",
       "      <td>7062</td>\n",
       "      <td>702</td>\n",
       "      <td>9.94053</td>\n",
       "      <td>5.603e+10</td>\n",
       "      <td>1.411144e+07</td>\n",
       "      <td>892358.0</td>\n",
       "      <td>5.448</td>\n",
       "      <td>0.345</td>\n",
       "      <td>44.521214</td>\n",
       "      <td>-109.089935</td>\n",
       "    </tr>\n",
       "    <tr>\n",
       "      <th>WY</th>\n",
       "      <td>56.0</td>\n",
       "      <td>1.0</td>\n",
       "      <td>9634.0</td>\n",
       "      <td>28</td>\n",
       "      <td>2</td>\n",
       "      <td>7.14286</td>\n",
       "      <td>4182</td>\n",
       "      <td>320</td>\n",
       "      <td>7.65184</td>\n",
       "      <td>5.6002e+10</td>\n",
       "      <td>1.327847e+06</td>\n",
       "      <td>0.0</td>\n",
       "      <td>0.513</td>\n",
       "      <td>0.000</td>\n",
       "      <td>41.313653</td>\n",
       "      <td>-105.588401</td>\n",
       "    </tr>\n",
       "    <tr>\n",
       "      <th>WY</th>\n",
       "      <td>56.0</td>\n",
       "      <td>39.0</td>\n",
       "      <td>9676.0</td>\n",
       "      <td>49</td>\n",
       "      <td>2</td>\n",
       "      <td>4.08163</td>\n",
       "      <td>41552</td>\n",
       "      <td>997</td>\n",
       "      <td>2.39940</td>\n",
       "      <td>5.604e+10</td>\n",
       "      <td>9.990324e+09</td>\n",
       "      <td>566842730.0</td>\n",
       "      <td>3857.286</td>\n",
       "      <td>218.859</td>\n",
       "      <td>44.048656</td>\n",
       "      <td>-110.585825</td>\n",
       "    </tr>\n",
       "    <tr>\n",
       "      <th>WY</th>\n",
       "      <td>56.0</td>\n",
       "      <td>37.0</td>\n",
       "      <td>9711.0</td>\n",
       "      <td>35</td>\n",
       "      <td>7</td>\n",
       "      <td>20.00000</td>\n",
       "      <td>5783</td>\n",
       "      <td>1091</td>\n",
       "      <td>18.86560</td>\n",
       "      <td>5.6038e+10</td>\n",
       "      <td>1.198313e+07</td>\n",
       "      <td>0.0</td>\n",
       "      <td>4.627</td>\n",
       "      <td>0.000</td>\n",
       "      <td>41.562531</td>\n",
       "      <td>-109.192861</td>\n",
       "    </tr>\n",
       "    <tr>\n",
       "      <th>WY</th>\n",
       "      <td>56.0</td>\n",
       "      <td>41.0</td>\n",
       "      <td>9754.0</td>\n",
       "      <td>39</td>\n",
       "      <td>8</td>\n",
       "      <td>20.51280</td>\n",
       "      <td>6013</td>\n",
       "      <td>1183</td>\n",
       "      <td>19.67400</td>\n",
       "      <td>5.6042e+10</td>\n",
       "      <td>1.321857e+08</td>\n",
       "      <td>8538723.0</td>\n",
       "      <td>51.037</td>\n",
       "      <td>3.297</td>\n",
       "      <td>41.353297</td>\n",
       "      <td>-111.007560</td>\n",
       "    </tr>\n",
       "  </tbody>\n",
       "</table>\n",
       "</div>"
      ],
      "text/plain": [
       "      State_Code  County_Code  Census_Tract_Number  NUM_ALL  NUM_FHA  \\\n",
       "USPS                                                                   \n",
       "WY          56.0         29.0               9655.0       42        5   \n",
       "WY          56.0          1.0               9634.0       28        2   \n",
       "WY          56.0         39.0               9676.0       49        2   \n",
       "WY          56.0         37.0               9711.0       35        7   \n",
       "WY          56.0         41.0               9754.0       39        8   \n",
       "\n",
       "      PCT_NUM_FHA  AMT_ALL  AMT_FHA  PCT_AMT_FHA       GEOID         ALAND  \\\n",
       "USPS                                                                         \n",
       "WY       11.90480     7062      702      9.94053   5.603e+10  1.411144e+07   \n",
       "WY        7.14286     4182      320      7.65184  5.6002e+10  1.327847e+06   \n",
       "WY        4.08163    41552      997      2.39940   5.604e+10  9.990324e+09   \n",
       "WY       20.00000     5783     1091     18.86560  5.6038e+10  1.198313e+07   \n",
       "WY       20.51280     6013     1183     19.67400  5.6042e+10  1.321857e+08   \n",
       "\n",
       "           AWATER  ALAND_SQMI  AWATER_SQMI   INTPTLAT  \\\n",
       "USPS                                                    \n",
       "WY       892358.0       5.448        0.345  44.521214   \n",
       "WY            0.0       0.513        0.000  41.313653   \n",
       "WY    566842730.0    3857.286      218.859  44.048656   \n",
       "WY            0.0       4.627        0.000  41.562531   \n",
       "WY      8538723.0      51.037        3.297  41.353297   \n",
       "\n",
       "      INTPTLONG                                                                                                                               \n",
       "USPS                                                                                                                                          \n",
       "WY                                          -109.089935                                                                                       \n",
       "WY                                          -105.588401                                                                                       \n",
       "WY                                          -110.585825                                                                                       \n",
       "WY                                          -109.192861                                                                                       \n",
       "WY                                          -111.007560                                                                                       "
      ]
     },
     "execution_count": 121,
     "metadata": {},
     "output_type": "execute_result"
    }
   ],
   "source": [
    "df_joined.set_index('USPS').sort_index(ascending=False).head()"
   ]
  },
  {
   "cell_type": "markdown",
   "metadata": {},
   "source": [
    "We can also sort by the value in a column:"
   ]
  },
  {
   "cell_type": "code",
   "execution_count": 122,
   "metadata": {},
   "outputs": [
    {
     "data": {
      "text/html": [
       "<div>\n",
       "<style>\n",
       "    .dataframe thead tr:only-child th {\n",
       "        text-align: right;\n",
       "    }\n",
       "\n",
       "    .dataframe thead th {\n",
       "        text-align: left;\n",
       "    }\n",
       "\n",
       "    .dataframe tbody tr th {\n",
       "        vertical-align: top;\n",
       "    }\n",
       "</style>\n",
       "<table border=\"1\" class=\"dataframe\">\n",
       "  <thead>\n",
       "    <tr style=\"text-align: right;\">\n",
       "      <th></th>\n",
       "      <th>State_Code</th>\n",
       "      <th>County_Code</th>\n",
       "      <th>Census_Tract_Number</th>\n",
       "      <th>NUM_ALL</th>\n",
       "      <th>NUM_FHA</th>\n",
       "      <th>PCT_NUM_FHA</th>\n",
       "      <th>AMT_ALL</th>\n",
       "      <th>AMT_FHA</th>\n",
       "      <th>PCT_AMT_FHA</th>\n",
       "      <th>GEOID</th>\n",
       "      <th>USPS</th>\n",
       "      <th>ALAND</th>\n",
       "      <th>AWATER</th>\n",
       "      <th>ALAND_SQMI</th>\n",
       "      <th>AWATER_SQMI</th>\n",
       "      <th>INTPTLAT</th>\n",
       "      <th>INTPTLONG</th>\n",
       "    </tr>\n",
       "  </thead>\n",
       "  <tbody>\n",
       "    <tr>\n",
       "      <th>72034</th>\n",
       "      <td>6.0</td>\n",
       "      <td>37.0</td>\n",
       "      <td>2739.02</td>\n",
       "      <td>43</td>\n",
       "      <td>0</td>\n",
       "      <td>0.0</td>\n",
       "      <td>41953</td>\n",
       "      <td>0</td>\n",
       "      <td>0.0</td>\n",
       "      <td>6.03727e+09</td>\n",
       "      <td>CA</td>\n",
       "      <td>902170.0</td>\n",
       "      <td>285874.0</td>\n",
       "      <td>0.348</td>\n",
       "      <td>0.110</td>\n",
       "      <td>33.983199</td>\n",
       "      <td>-118.466114</td>\n",
       "    </tr>\n",
       "    <tr>\n",
       "      <th>67153</th>\n",
       "      <td>6.0</td>\n",
       "      <td>95.0</td>\n",
       "      <td>2516.00</td>\n",
       "      <td>9</td>\n",
       "      <td>0</td>\n",
       "      <td>0.0</td>\n",
       "      <td>985</td>\n",
       "      <td>0</td>\n",
       "      <td>0.0</td>\n",
       "      <td>6.09525e+09</td>\n",
       "      <td>CA</td>\n",
       "      <td>861182.0</td>\n",
       "      <td>212332.0</td>\n",
       "      <td>0.333</td>\n",
       "      <td>0.082</td>\n",
       "      <td>38.108389</td>\n",
       "      <td>-122.262299</td>\n",
       "    </tr>\n",
       "    <tr>\n",
       "      <th>67154</th>\n",
       "      <td>51.0</td>\n",
       "      <td>77.0</td>\n",
       "      <td>602.01</td>\n",
       "      <td>11</td>\n",
       "      <td>0</td>\n",
       "      <td>0.0</td>\n",
       "      <td>1956</td>\n",
       "      <td>0</td>\n",
       "      <td>0.0</td>\n",
       "      <td>5.10771e+10</td>\n",
       "      <td>VA</td>\n",
       "      <td>195770944.0</td>\n",
       "      <td>2946567.0</td>\n",
       "      <td>75.588</td>\n",
       "      <td>1.138</td>\n",
       "      <td>36.661583</td>\n",
       "      <td>-81.103939</td>\n",
       "    </tr>\n",
       "    <tr>\n",
       "      <th>67155</th>\n",
       "      <td>39.0</td>\n",
       "      <td>35.0</td>\n",
       "      <td>1166.00</td>\n",
       "      <td>1</td>\n",
       "      <td>0</td>\n",
       "      <td>0.0</td>\n",
       "      <td>57</td>\n",
       "      <td>0</td>\n",
       "      <td>0.0</td>\n",
       "      <td>3.90351e+10</td>\n",
       "      <td>OH</td>\n",
       "      <td>878404.0</td>\n",
       "      <td>0.0</td>\n",
       "      <td>0.339</td>\n",
       "      <td>0.000</td>\n",
       "      <td>41.535167</td>\n",
       "      <td>-81.603144</td>\n",
       "    </tr>\n",
       "    <tr>\n",
       "      <th>67156</th>\n",
       "      <td>12.0</td>\n",
       "      <td>86.0</td>\n",
       "      <td>42.06</td>\n",
       "      <td>43</td>\n",
       "      <td>0</td>\n",
       "      <td>0.0</td>\n",
       "      <td>25559</td>\n",
       "      <td>0</td>\n",
       "      <td>0.0</td>\n",
       "      <td>1.2086e+10</td>\n",
       "      <td>FL</td>\n",
       "      <td>863259.0</td>\n",
       "      <td>281534.0</td>\n",
       "      <td>0.333</td>\n",
       "      <td>0.109</td>\n",
       "      <td>25.795657</td>\n",
       "      <td>-80.127134</td>\n",
       "    </tr>\n",
       "  </tbody>\n",
       "</table>\n",
       "</div>"
      ],
      "text/plain": [
       "       State_Code  County_Code  Census_Tract_Number  NUM_ALL  NUM_FHA  \\\n",
       "72034         6.0         37.0              2739.02       43        0   \n",
       "67153         6.0         95.0              2516.00        9        0   \n",
       "67154        51.0         77.0               602.01       11        0   \n",
       "67155        39.0         35.0              1166.00        1        0   \n",
       "67156        12.0         86.0                42.06       43        0   \n",
       "\n",
       "       PCT_NUM_FHA  AMT_ALL  AMT_FHA  PCT_AMT_FHA        GEOID USPS  \\\n",
       "72034          0.0    41953        0          0.0  6.03727e+09   CA   \n",
       "67153          0.0      985        0          0.0  6.09525e+09   CA   \n",
       "67154          0.0     1956        0          0.0  5.10771e+10   VA   \n",
       "67155          0.0       57        0          0.0  3.90351e+10   OH   \n",
       "67156          0.0    25559        0          0.0   1.2086e+10   FL   \n",
       "\n",
       "             ALAND     AWATER  ALAND_SQMI  AWATER_SQMI   INTPTLAT  \\\n",
       "72034     902170.0   285874.0       0.348        0.110  33.983199   \n",
       "67153     861182.0   212332.0       0.333        0.082  38.108389   \n",
       "67154  195770944.0  2946567.0      75.588        1.138  36.661583   \n",
       "67155     878404.0        0.0       0.339        0.000  41.535167   \n",
       "67156     863259.0   281534.0       0.333        0.109  25.795657   \n",
       "\n",
       "       INTPTLONG                                                                                                                               \n",
       "72034                                        -118.466114                                                                                       \n",
       "67153                                        -122.262299                                                                                       \n",
       "67154                                         -81.103939                                                                                       \n",
       "67155                                         -81.603144                                                                                       \n",
       "67156                                         -80.127134                                                                                       "
      ]
     },
     "execution_count": 122,
     "metadata": {},
     "output_type": "execute_result"
    }
   ],
   "source": [
    "df_joined.sort_values('AMT_FHA').head()"
   ]
  },
  {
   "cell_type": "markdown",
   "metadata": {},
   "source": [
    "## Data transformations and function application\n"
   ]
  },
  {
   "cell_type": "markdown",
   "metadata": {},
   "source": [
    "For element-wise function application, the most straightforward thing to do is to apply NumPy functions to these objects:"
   ]
  },
  {
   "cell_type": "code",
   "execution_count": 123,
   "metadata": {},
   "outputs": [
    {
     "data": {
      "text/html": [
       "<div>\n",
       "<style>\n",
       "    .dataframe thead tr:only-child th {\n",
       "        text-align: right;\n",
       "    }\n",
       "\n",
       "    .dataframe thead th {\n",
       "        text-align: left;\n",
       "    }\n",
       "\n",
       "    .dataframe tbody tr th {\n",
       "        vertical-align: top;\n",
       "    }\n",
       "</style>\n",
       "<table border=\"1\" class=\"dataframe\">\n",
       "  <thead>\n",
       "    <tr style=\"text-align: right;\">\n",
       "      <th></th>\n",
       "      <th>A</th>\n",
       "      <th>B</th>\n",
       "      <th>C</th>\n",
       "      <th>D</th>\n",
       "      <th>E</th>\n",
       "      <th>F</th>\n",
       "    </tr>\n",
       "  </thead>\n",
       "  <tbody>\n",
       "    <tr>\n",
       "      <th>a</th>\n",
       "      <td>0.000000</td>\n",
       "      <td>0.841471</td>\n",
       "      <td>0.909297</td>\n",
       "      <td>0.141120</td>\n",
       "      <td>-0.756802</td>\n",
       "      <td>-0.958924</td>\n",
       "    </tr>\n",
       "    <tr>\n",
       "      <th>b</th>\n",
       "      <td>-0.279415</td>\n",
       "      <td>0.656987</td>\n",
       "      <td>0.989358</td>\n",
       "      <td>0.412118</td>\n",
       "      <td>-0.544021</td>\n",
       "      <td>-0.999990</td>\n",
       "    </tr>\n",
       "    <tr>\n",
       "      <th>c</th>\n",
       "      <td>-0.536573</td>\n",
       "      <td>0.420167</td>\n",
       "      <td>0.990607</td>\n",
       "      <td>0.650288</td>\n",
       "      <td>-0.287903</td>\n",
       "      <td>-0.961397</td>\n",
       "    </tr>\n",
       "    <tr>\n",
       "      <th>d</th>\n",
       "      <td>-0.750987</td>\n",
       "      <td>0.149877</td>\n",
       "      <td>0.912945</td>\n",
       "      <td>0.836656</td>\n",
       "      <td>-0.008851</td>\n",
       "      <td>-0.846220</td>\n",
       "    </tr>\n",
       "  </tbody>\n",
       "</table>\n",
       "</div>"
      ],
      "text/plain": [
       "          A         B         C         D         E         F\n",
       "a  0.000000  0.841471  0.909297  0.141120 -0.756802 -0.958924\n",
       "b -0.279415  0.656987  0.989358  0.412118 -0.544021 -0.999990\n",
       "c -0.536573  0.420167  0.990607  0.650288 -0.287903 -0.961397\n",
       "d -0.750987  0.149877  0.912945  0.836656 -0.008851 -0.846220"
      ]
     },
     "execution_count": 123,
     "metadata": {},
     "output_type": "execute_result"
    }
   ],
   "source": [
    "df1 = pd.DataFrame(np.arange(24).reshape(4,6), index=list('abcd'), columns=list('ABCDEF'))\n",
    "np.sin(df1)"
   ]
  },
  {
   "cell_type": "markdown",
   "metadata": {},
   "source": [
    "This relies on NumPy functions automatically broadcasting themselves to work element-wise.  To apply a pure-python function to each element, use the `.applymap()` method."
   ]
  },
  {
   "cell_type": "code",
   "execution_count": 124,
   "metadata": {},
   "outputs": [
    {
     "data": {
      "text/html": [
       "<div>\n",
       "<style>\n",
       "    .dataframe thead tr:only-child th {\n",
       "        text-align: right;\n",
       "    }\n",
       "\n",
       "    .dataframe thead th {\n",
       "        text-align: left;\n",
       "    }\n",
       "\n",
       "    .dataframe tbody tr th {\n",
       "        vertical-align: top;\n",
       "    }\n",
       "</style>\n",
       "<table border=\"1\" class=\"dataframe\">\n",
       "  <thead>\n",
       "    <tr style=\"text-align: right;\">\n",
       "      <th></th>\n",
       "      <th>A</th>\n",
       "      <th>B</th>\n",
       "      <th>C</th>\n",
       "      <th>D</th>\n",
       "      <th>E</th>\n",
       "      <th>F</th>\n",
       "    </tr>\n",
       "  </thead>\n",
       "  <tbody>\n",
       "    <tr>\n",
       "      <th>a</th>\n",
       "      <td>0.00</td>\n",
       "      <td>1.00</td>\n",
       "      <td>2.00</td>\n",
       "      <td>3.00</td>\n",
       "      <td>4.00</td>\n",
       "      <td>5.00</td>\n",
       "    </tr>\n",
       "    <tr>\n",
       "      <th>b</th>\n",
       "      <td>6.00</td>\n",
       "      <td>7.00</td>\n",
       "      <td>8.00</td>\n",
       "      <td>9.00</td>\n",
       "      <td>10.00</td>\n",
       "      <td>11.00</td>\n",
       "    </tr>\n",
       "    <tr>\n",
       "      <th>c</th>\n",
       "      <td>12.00</td>\n",
       "      <td>13.00</td>\n",
       "      <td>14.00</td>\n",
       "      <td>15.00</td>\n",
       "      <td>16.00</td>\n",
       "      <td>17.00</td>\n",
       "    </tr>\n",
       "    <tr>\n",
       "      <th>d</th>\n",
       "      <td>18.00</td>\n",
       "      <td>19.00</td>\n",
       "      <td>20.00</td>\n",
       "      <td>21.00</td>\n",
       "      <td>22.00</td>\n",
       "      <td>23.00</td>\n",
       "    </tr>\n",
       "  </tbody>\n",
       "</table>\n",
       "</div>"
      ],
      "text/plain": [
       "       A      B      C      D      E      F\n",
       "a   0.00   1.00   2.00   3.00   4.00   5.00\n",
       "b   6.00   7.00   8.00   9.00  10.00  11.00\n",
       "c  12.00  13.00  14.00  15.00  16.00  17.00\n",
       "d  18.00  19.00  20.00  21.00  22.00  23.00"
      ]
     },
     "execution_count": 124,
     "metadata": {},
     "output_type": "execute_result"
    }
   ],
   "source": [
    "df1.applymap(lambda x: \"%.2f\" % x)"
   ]
  },
  {
   "cell_type": "markdown",
   "metadata": {},
   "source": [
    "However, sometimes you want to compute things column-wise or row-wise.  In this case, you will need to use the `apply` method.  For example, the following takes the range of each column."
   ]
  },
  {
   "cell_type": "code",
   "execution_count": 125,
   "metadata": {},
   "outputs": [
    {
     "data": {
      "text/plain": [
       "A    18\n",
       "B    18\n",
       "C    18\n",
       "D    18\n",
       "E    18\n",
       "F    18\n",
       "dtype: int64"
      ]
     },
     "execution_count": 125,
     "metadata": {},
     "output_type": "execute_result"
    }
   ],
   "source": [
    "df1.apply(lambda x: x.max() - x.min())"
   ]
  },
  {
   "cell_type": "markdown",
   "metadata": {},
   "source": [
    "And this takes the range of reach row."
   ]
  },
  {
   "cell_type": "code",
   "execution_count": 126,
   "metadata": {},
   "outputs": [
    {
     "data": {
      "text/plain": [
       "a    5\n",
       "b    5\n",
       "c    5\n",
       "d    5\n",
       "dtype: int64"
      ]
     },
     "execution_count": 126,
     "metadata": {},
     "output_type": "execute_result"
    }
   ],
   "source": [
    "df1.apply(lambda x: x.max() - x.min(), axis=1)"
   ]
  },
  {
   "cell_type": "markdown",
   "metadata": {},
   "source": [
    "As we saw previously in the computation of the GEOID column for the FHA data, we'll often compute new columns from other columns in the DataFrame. The `apply` method lets us use custom Python functions to compute new fields."
   ]
  },
  {
   "cell_type": "code",
   "execution_count": 127,
   "metadata": {},
   "outputs": [],
   "source": [
    "df1['logA'] = df1['A'].apply(np.log1p)"
   ]
  },
  {
   "cell_type": "markdown",
   "metadata": {},
   "source": [
    "## String operations and transformations\n"
   ]
  },
  {
   "cell_type": "markdown",
   "metadata": {},
   "source": [
    "Pandas Series have many methods dedicated to processing strings. These can be useful for transforming text data, as well as filtering a data frame based on text content. These methods are [thoroughly documented with examples](https://pandas.pydata.org/pandas-docs/stable/text.html), but we'll demonstrate a few use cases."
   ]
  },
  {
   "cell_type": "code",
   "execution_count": 148,
   "metadata": {},
   "outputs": [
    {
     "data": {
      "text/html": [
       "<div>\n",
       "<style>\n",
       "    .dataframe thead tr:only-child th {\n",
       "        text-align: right;\n",
       "    }\n",
       "\n",
       "    .dataframe thead th {\n",
       "        text-align: left;\n",
       "    }\n",
       "\n",
       "    .dataframe tbody tr th {\n",
       "        vertical-align: top;\n",
       "    }\n",
       "</style>\n",
       "<table border=\"1\" class=\"dataframe\">\n",
       "  <thead>\n",
       "    <tr style=\"text-align: right;\">\n",
       "      <th></th>\n",
       "      <th>USPS</th>\n",
       "      <th>GEOID</th>\n",
       "    </tr>\n",
       "  </thead>\n",
       "  <tbody>\n",
       "    <tr>\n",
       "      <th>26961</th>\n",
       "      <td>KS</td>\n",
       "      <td>20173006300</td>\n",
       "    </tr>\n",
       "    <tr>\n",
       "      <th>28179</th>\n",
       "      <td>KY</td>\n",
       "      <td>21199930800</td>\n",
       "    </tr>\n",
       "    <tr>\n",
       "      <th>27455</th>\n",
       "      <td>KY</td>\n",
       "      <td>21067000500</td>\n",
       "    </tr>\n",
       "    <tr>\n",
       "      <th>27605</th>\n",
       "      <td>KY</td>\n",
       "      <td>21093000400</td>\n",
       "    </tr>\n",
       "    <tr>\n",
       "      <th>27042</th>\n",
       "      <td>KS</td>\n",
       "      <td>20175966000</td>\n",
       "    </tr>\n",
       "  </tbody>\n",
       "</table>\n",
       "</div>"
      ],
      "text/plain": [
       "      USPS        GEOID\n",
       "26961   KS  20173006300\n",
       "28179   KY  21199930800\n",
       "27455   KY  21067000500\n",
       "27605   KY  21093000400\n",
       "27042   KS  20175966000"
      ]
     },
     "execution_count": 148,
     "metadata": {},
     "output_type": "execute_result"
    }
   ],
   "source": [
    "df_geo[df_geo['USPS'].str.contains('^K')][['USPS', 'GEOID']].sample(5) #sample function returns randoms rows"
   ]
  },
  {
   "cell_type": "code",
   "execution_count": 129,
   "metadata": {},
   "outputs": [
    {
     "data": {
      "text/plain": [
       "array(['al', 'ak', 'az', 'ar', 'ca', 'co', 'ct', 'de', 'dc', 'fl', 'ga',\n",
       "       'hi', 'id', 'il', 'in', 'ia', 'ks', 'ky', 'la', 'me', 'md', 'ma',\n",
       "       'mi', 'mn', 'ms', 'mo', 'mt', 'ne', 'nv', 'nh', 'nj', 'nm', 'ny',\n",
       "       'nc', 'nd', 'oh', 'ok', 'or', 'pa', 'ri', 'sc', 'sd', 'tn', 'tx',\n",
       "       'ut', 'vt', 'va', 'wa', 'wv', 'wi', 'wy', 'pr'], dtype=object)"
      ]
     },
     "execution_count": 129,
     "metadata": {},
     "output_type": "execute_result"
    }
   ],
   "source": [
    "df_geo['USPS'].str.lower().unique()"
   ]
  },
  {
   "cell_type": "code",
   "execution_count": 130,
   "metadata": {},
   "outputs": [
    {
     "data": {
      "text/plain": [
       "0    ZL\n",
       "1    ZL\n",
       "2    ZL\n",
       "3    ZL\n",
       "4    ZL\n",
       "Name: USPS, dtype: object"
      ]
     },
     "execution_count": 130,
     "metadata": {},
     "output_type": "execute_result"
    }
   ],
   "source": [
    "df_geo['USPS'].str.replace('^A', 'Z').head()"
   ]
  },
  {
   "cell_type": "markdown",
   "metadata": {},
   "source": [
    "## Pandas HTML data import example\n"
   ]
  },
  {
   "cell_type": "markdown",
   "metadata": {},
   "source": [
    "Pandas takes a \"batteries included\" approach and throws in a whole lot of convenience functions.  For instance it has import functions for a variety of formats.  One of the pleasant surprises is a command `read_html` that's meant to automate the process of extracting tabular data from HTML.  In particular, it works pretty well with tables on Wikipedia.  \n",
    "\n",
    "Let's do an example: We'll try to extract the list of the world's tallest structures from\n",
    "http://en.wikipedia.org/wiki/List_of_tallest_buildings_and_structures_in_the_world."
   ]
  },
  {
   "cell_type": "code",
   "execution_count": 131,
   "metadata": {},
   "outputs": [
    {
     "data": {
      "text/html": [
       "<div>\n",
       "<style>\n",
       "    .dataframe thead tr:only-child th {\n",
       "        text-align: right;\n",
       "    }\n",
       "\n",
       "    .dataframe thead th {\n",
       "        text-align: left;\n",
       "    }\n",
       "\n",
       "    .dataframe tbody tr th {\n",
       "        vertical-align: top;\n",
       "    }\n",
       "</style>\n",
       "<table border=\"1\" class=\"dataframe\">\n",
       "  <thead>\n",
       "    <tr style=\"text-align: right;\">\n",
       "      <th></th>\n",
       "      <th>Category</th>\n",
       "      <th>Structure</th>\n",
       "      <th>Country</th>\n",
       "      <th>City</th>\n",
       "      <th>Height (metres)</th>\n",
       "      <th>Height (feet)</th>\n",
       "      <th>Year built</th>\n",
       "      <th>Coordinates</th>\n",
       "      <th>Clean_Coordinates</th>\n",
       "      <th>Latitude</th>\n",
       "      <th>Longitude</th>\n",
       "    </tr>\n",
       "  </thead>\n",
       "  <tbody>\n",
       "    <tr>\n",
       "      <th>0</th>\n",
       "      <td>Mixed use</td>\n",
       "      <td>Burj Khalifa</td>\n",
       "      <td>United Arab Emirates</td>\n",
       "      <td>Dubai</td>\n",
       "      <td>828.1</td>\n",
       "      <td>2717.0</td>\n",
       "      <td>2010</td>\n",
       "      <td>25°11′50.0″N 55°16′26.6″E﻿ / ﻿25.197222°N 55.2...</td>\n",
       "      <td>(25.197222, 55.274056)</td>\n",
       "      <td>25.197222</td>\n",
       "      <td>55.274056</td>\n",
       "    </tr>\n",
       "    <tr>\n",
       "      <th>1</th>\n",
       "      <td>Self-supporting tower</td>\n",
       "      <td>Tokyo Skytree</td>\n",
       "      <td>Japan</td>\n",
       "      <td>Tokyo</td>\n",
       "      <td>634</td>\n",
       "      <td>2080.0</td>\n",
       "      <td>2011</td>\n",
       "      <td>35°42′36.5″N 139°48′39″E﻿ / ﻿35.710139°N 139.8...</td>\n",
       "      <td>(35.710139, 139.81083)</td>\n",
       "      <td>35.710139</td>\n",
       "      <td>139.81083</td>\n",
       "    </tr>\n",
       "    <tr>\n",
       "      <th>2</th>\n",
       "      <td>Guyed steel lattice mast</td>\n",
       "      <td>KVLY-TV mast</td>\n",
       "      <td>United States</td>\n",
       "      <td>Blanchard, North Dakota</td>\n",
       "      <td>628.8</td>\n",
       "      <td>2063.0</td>\n",
       "      <td>1963</td>\n",
       "      <td>47°20′32″N 97°17′25″W﻿ / ﻿47.34222°N 97.29028°...</td>\n",
       "      <td>(47.34222, 97.29028)</td>\n",
       "      <td>47.34222</td>\n",
       "      <td>97.29028</td>\n",
       "    </tr>\n",
       "    <tr>\n",
       "      <th>3</th>\n",
       "      <td>Clock building</td>\n",
       "      <td>Abraj Al Bait Towers</td>\n",
       "      <td>Saudi Arabia</td>\n",
       "      <td>Mecca</td>\n",
       "      <td>601</td>\n",
       "      <td>1972.0</td>\n",
       "      <td>2011</td>\n",
       "      <td>21°25′08″N 39°49′35″E﻿ / ﻿21.41889°N 39.82639°...</td>\n",
       "      <td>(21.41889, 39.82639)</td>\n",
       "      <td>21.41889</td>\n",
       "      <td>39.82639</td>\n",
       "    </tr>\n",
       "    <tr>\n",
       "      <th>4</th>\n",
       "      <td>Office</td>\n",
       "      <td>One World Trade Center</td>\n",
       "      <td>United States</td>\n",
       "      <td>New York, NY</td>\n",
       "      <td>541</td>\n",
       "      <td>1776.0</td>\n",
       "      <td>2013</td>\n",
       "      <td>40°42′46.8″N 74°0′48.6″W﻿ / ﻿40.713000°N 74.01...</td>\n",
       "      <td>(40.713000, 74.013500)</td>\n",
       "      <td>40.713000</td>\n",
       "      <td>74.013500</td>\n",
       "    </tr>\n",
       "  </tbody>\n",
       "</table>\n",
       "</div>"
      ],
      "text/plain": [
       "                   Category               Structure               Country  \\\n",
       "0                 Mixed use            Burj Khalifa  United Arab Emirates   \n",
       "1     Self-supporting tower           Tokyo Skytree                 Japan   \n",
       "2  Guyed steel lattice mast            KVLY-TV mast         United States   \n",
       "3            Clock building    Abraj Al Bait Towers          Saudi Arabia   \n",
       "4                    Office  One World Trade Center         United States   \n",
       "\n",
       "                      City Height (metres)  Height (feet) Year built  \\\n",
       "0                    Dubai           828.1         2717.0       2010   \n",
       "1                    Tokyo             634         2080.0       2011   \n",
       "2  Blanchard, North Dakota           628.8         2063.0       1963   \n",
       "3                    Mecca             601         1972.0       2011   \n",
       "4             New York, NY             541         1776.0       2013   \n",
       "\n",
       "                                         Coordinates       Clean_Coordinates  \\\n",
       "0  25°11′50.0″N 55°16′26.6″E﻿ / ﻿25.197222°N 55.2...  (25.197222, 55.274056)   \n",
       "1  35°42′36.5″N 139°48′39″E﻿ / ﻿35.710139°N 139.8...  (35.710139, 139.81083)   \n",
       "2  47°20′32″N 97°17′25″W﻿ / ﻿47.34222°N 97.29028°...    (47.34222, 97.29028)   \n",
       "3  21°25′08″N 39°49′35″E﻿ / ﻿21.41889°N 39.82639°...    (21.41889, 39.82639)   \n",
       "4  40°42′46.8″N 74°0′48.6″W﻿ / ﻿40.713000°N 74.01...  (40.713000, 74.013500)   \n",
       "\n",
       "    Latitude  Longitude  \n",
       "0  25.197222  55.274056  \n",
       "1  35.710139  139.81083  \n",
       "2   47.34222   97.29028  \n",
       "3   21.41889   39.82639  \n",
       "4  40.713000  74.013500  "
      ]
     },
     "execution_count": 131,
     "metadata": {},
     "output_type": "execute_result"
    }
   ],
   "source": [
    "# Fix version ID so that results are stable\n",
    "url = \"https://en.wikipedia.org/w/index.php?title=List_of_tallest_buildings_and_structures&oldid=783685865\"\n",
    "\n",
    "dfs = pd.read_html(url, header=0, parse_dates=False)\n",
    "\n",
    "# There are several tables on the page.  By inspection we can figure out which one we want\n",
    "tallest = dfs[3]\n",
    "\n",
    "# The coordinates column needs to be fixed up.  This is a bit of string parsing:\n",
    "def clean_lat_long(s):\n",
    "    try:\n",
    "        parts = s.split(\"/\")\n",
    "    except AttributeError:\n",
    "        return (None, None)\n",
    "    if len(parts) < 3:\n",
    "        return (None, None)\n",
    "    m = re.search(r\"(\\d+[.]\\d+);[^\\d]*(\\d+[.]\\d+)[^\\d]\", parts[2])\n",
    "    if not m:\n",
    "        return (None, None)\n",
    "    return (m.group(1), m.group(2))\n",
    "\n",
    "tallest['Clean_Coordinates'] = tallest['Coordinates'].apply(clean_lat_long)\n",
    "tallest['Latitude'] = tallest['Clean_Coordinates'].apply(lambda x:x[0])\n",
    "tallest['Longitude'] = tallest['Clean_Coordinates'].apply(lambda x:x[1])\n",
    "\n",
    "# Et voila\n",
    "tallest.head()"
   ]
  },
  {
   "cell_type": "markdown",
   "metadata": {},
   "source": [
    "**Exercise**\n",
    "\n",
    "1. Parse the table rankings of [UK universities available on Wikipedia](https://en.wikipedia.org/wiki/Rankings_of_universities_in_the_United_Kingdom)"
   ]
  },
  {
   "cell_type": "markdown",
   "metadata": {},
   "source": [
    "## Pandas Timestamps\n"
   ]
  },
  {
   "cell_type": "markdown",
   "metadata": {},
   "source": [
    "Pandas comes with excellent tools for managing temporal data. Central to this is the Timestamp class, which can infer timestamps from many sensible inputs:"
   ]
  },
  {
   "cell_type": "code",
   "execution_count": 132,
   "metadata": {},
   "outputs": [
    {
     "name": "stdout",
     "output_type": "stream",
     "text": [
      "2016-07-04 00:00:00\n",
      "2016-07-04 00:00:00\n",
      "2016-07-04 00:00:00\n",
      "2016-07-04 17:00:00\n",
      "2016-07-04 17:20:13.123456\n",
      "2016-07-04 17:00:00\n"
     ]
    }
   ],
   "source": [
    "print pd.Timestamp('July 4, 2016')\n",
    "print pd.Timestamp('Monday, July 4, 2016')\n",
    "print pd.Timestamp('Tuesday, July 4th, 2016')  # notice it ignored 'Tuesday'\n",
    "print pd.Timestamp('Monday, July 4th, 2016 05:00 PM')\n",
    "\n",
    "print pd.Timestamp('07/04/2016T17:20:13.123456')\n",
    "print pd.Timestamp(1467651600000000000)  # number of ns since the epoch, 1/1/1970"
   ]
  },
  {
   "cell_type": "markdown",
   "metadata": {},
   "source": [
    "It can manage timestamps with timezones:"
   ]
  },
  {
   "cell_type": "code",
   "execution_count": 133,
   "metadata": {},
   "outputs": [],
   "source": [
    "july4 = pd.Timestamp('Monday, July 4th, 2016 05:00 PM').tz_localize('US/Eastern')\n",
    "labor_day = pd.Timestamp('9/5/2016 12:00', tz='US/Eastern')\n",
    "thanksgiving = pd.Timestamp('11/24/2016 16:00')  # no timezone"
   ]
  },
  {
   "cell_type": "markdown",
   "metadata": {},
   "source": [
    "Pandas can do calculations on Timestamps if they are both localized to the same timezone or neither has a timezone."
   ]
  },
  {
   "cell_type": "code",
   "execution_count": 134,
   "metadata": {},
   "outputs": [
    {
     "name": "stdout",
     "output_type": "stream",
     "text": [
      "62 days 19:00:00\n"
     ]
    }
   ],
   "source": [
    "print labor_day - july4\n",
    "# print thanksgiving - july4  # generates an error"
   ]
  },
  {
   "cell_type": "markdown",
   "metadata": {},
   "source": [
    "The time series offsets are useful for calculating dates relative to another date. Observe it skips over weekend days but is oblivious to holidays. Pandas does support [Custom Calendars](http://pandas.pydata.org/pandas-docs/stable/timeseries.html#holidays-holiday-calendars) if you need them."
   ]
  },
  {
   "cell_type": "code",
   "execution_count": 135,
   "metadata": {},
   "outputs": [
    {
     "name": "stdout",
     "output_type": "stream",
     "text": [
      "2016-07-09 17:00:00-04:00\n",
      "2016-07-11 17:00:00-04:00\n",
      "2016-07-01 17:00:00-04:00\n",
      "2016-07-29 17:00:00-04:00\n"
     ]
    }
   ],
   "source": [
    "from pandas.tseries.offsets import BDay, Day, BMonthEnd\n",
    "\n",
    "print july4 + Day(5)  # 5 calendar days later, a Saturday.\n",
    "print july4 + BDay(5)  # 5 business days later, or the following Monday.\n",
    "print july4 - BDay(1)  # 1 business day earlier, or the previous Friday.\n",
    "print july4 + BMonthEnd(1)  # last business day of the month."
   ]
  },
  {
   "cell_type": "markdown",
   "metadata": {},
   "source": [
    "Pandas can generate a range of dates. Here, we generate a list of business days in January of 2016:"
   ]
  },
  {
   "cell_type": "code",
   "execution_count": 136,
   "metadata": {},
   "outputs": [
    {
     "data": {
      "text/plain": [
       "DatetimeIndex(['2016-01-01', '2016-01-04', '2016-01-05', '2016-01-06',\n",
       "               '2016-01-07', '2016-01-08', '2016-01-11', '2016-01-12',\n",
       "               '2016-01-13', '2016-01-14', '2016-01-15', '2016-01-18',\n",
       "               '2016-01-19', '2016-01-20', '2016-01-21', '2016-01-22',\n",
       "               '2016-01-25', '2016-01-26', '2016-01-27', '2016-01-28',\n",
       "               '2016-01-29'],\n",
       "              dtype='datetime64[ns]', freq='B')"
      ]
     },
     "execution_count": 136,
     "metadata": {},
     "output_type": "execute_result"
    }
   ],
   "source": [
    "business_days = pd.date_range('1/1/2016', '1/31/2016', freq='B')\n",
    "business_days"
   ]
  },
  {
   "cell_type": "markdown",
   "metadata": {},
   "source": [
    "This can in turn be used in as a DataFrame index:"
   ]
  },
  {
   "cell_type": "code",
   "execution_count": 137,
   "metadata": {},
   "outputs": [],
   "source": [
    "pd.date_range?"
   ]
  },
  {
   "cell_type": "code",
   "execution_count": 138,
   "metadata": {},
   "outputs": [
    {
     "data": {
      "text/html": [
       "<div>\n",
       "<style>\n",
       "    .dataframe thead tr:only-child th {\n",
       "        text-align: right;\n",
       "    }\n",
       "\n",
       "    .dataframe thead th {\n",
       "        text-align: left;\n",
       "    }\n",
       "\n",
       "    .dataframe tbody tr th {\n",
       "        vertical-align: top;\n",
       "    }\n",
       "</style>\n",
       "<table border=\"1\" class=\"dataframe\">\n",
       "  <thead>\n",
       "    <tr style=\"text-align: right;\">\n",
       "      <th></th>\n",
       "      <th>random</th>\n",
       "    </tr>\n",
       "  </thead>\n",
       "  <tbody>\n",
       "    <tr>\n",
       "      <th>2016-01-01</th>\n",
       "      <td>0.777016</td>\n",
       "    </tr>\n",
       "    <tr>\n",
       "      <th>2016-01-04</th>\n",
       "      <td>0.102929</td>\n",
       "    </tr>\n",
       "    <tr>\n",
       "      <th>2016-01-05</th>\n",
       "      <td>0.798730</td>\n",
       "    </tr>\n",
       "    <tr>\n",
       "      <th>2016-01-06</th>\n",
       "      <td>0.752105</td>\n",
       "    </tr>\n",
       "    <tr>\n",
       "      <th>2016-01-07</th>\n",
       "      <td>0.717339</td>\n",
       "    </tr>\n",
       "  </tbody>\n",
       "</table>\n",
       "</div>"
      ],
      "text/plain": [
       "              random\n",
       "2016-01-01  0.777016\n",
       "2016-01-04  0.102929\n",
       "2016-01-05  0.798730\n",
       "2016-01-06  0.752105\n",
       "2016-01-07  0.717339"
      ]
     },
     "execution_count": 138,
     "metadata": {},
     "output_type": "execute_result"
    }
   ],
   "source": [
    "time_df = DataFrame(np.random.rand(len(business_days)),\n",
    "                    index=business_days,\n",
    "                    columns=['random'])\n",
    "time_df.head()"
   ]
  },
  {
   "cell_type": "markdown",
   "metadata": {},
   "source": [
    "The same timezone functions are still available."
   ]
  },
  {
   "cell_type": "code",
   "execution_count": 139,
   "metadata": {},
   "outputs": [
    {
     "data": {
      "text/html": [
       "<div>\n",
       "<style>\n",
       "    .dataframe thead tr:only-child th {\n",
       "        text-align: right;\n",
       "    }\n",
       "\n",
       "    .dataframe thead th {\n",
       "        text-align: left;\n",
       "    }\n",
       "\n",
       "    .dataframe tbody tr th {\n",
       "        vertical-align: top;\n",
       "    }\n",
       "</style>\n",
       "<table border=\"1\" class=\"dataframe\">\n",
       "  <thead>\n",
       "    <tr style=\"text-align: right;\">\n",
       "      <th></th>\n",
       "      <th>random</th>\n",
       "    </tr>\n",
       "  </thead>\n",
       "  <tbody>\n",
       "    <tr>\n",
       "      <th>2015-12-31 16:00:00-08:00</th>\n",
       "      <td>0.777016</td>\n",
       "    </tr>\n",
       "    <tr>\n",
       "      <th>2016-01-03 16:00:00-08:00</th>\n",
       "      <td>0.102929</td>\n",
       "    </tr>\n",
       "    <tr>\n",
       "      <th>2016-01-04 16:00:00-08:00</th>\n",
       "      <td>0.798730</td>\n",
       "    </tr>\n",
       "    <tr>\n",
       "      <th>2016-01-05 16:00:00-08:00</th>\n",
       "      <td>0.752105</td>\n",
       "    </tr>\n",
       "    <tr>\n",
       "      <th>2016-01-06 16:00:00-08:00</th>\n",
       "      <td>0.717339</td>\n",
       "    </tr>\n",
       "  </tbody>\n",
       "</table>\n",
       "</div>"
      ],
      "text/plain": [
       "                             random\n",
       "2015-12-31 16:00:00-08:00  0.777016\n",
       "2016-01-03 16:00:00-08:00  0.102929\n",
       "2016-01-04 16:00:00-08:00  0.798730\n",
       "2016-01-05 16:00:00-08:00  0.752105\n",
       "2016-01-06 16:00:00-08:00  0.717339"
      ]
     },
     "execution_count": 139,
     "metadata": {},
     "output_type": "execute_result"
    }
   ],
   "source": [
    "time_df.tz_localize('UTC').tz_convert('US/Pacific').head()"
   ]
  },
  {
   "cell_type": "markdown",
   "metadata": {},
   "source": [
    "We will see that a time series index can be a powerful tool for [data aggregation](IW_Pandas_Data_Aggregation.ipynb)."
   ]
  },
  {
   "cell_type": "markdown",
   "metadata": {},
   "source": [
    "## DataFrames and Iterators\n"
   ]
  },
  {
   "cell_type": "markdown",
   "metadata": {},
   "source": [
    "A data frame is an iterator that yields the column names:"
   ]
  },
  {
   "cell_type": "code",
   "execution_count": 140,
   "metadata": {},
   "outputs": [
    {
     "data": {
      "text/plain": [
       "['State_Code',\n",
       " 'County_Code',\n",
       " 'Census_Tract_Number',\n",
       " 'NUM_ALL',\n",
       " 'NUM_FHA',\n",
       " 'PCT_NUM_FHA',\n",
       " 'AMT_ALL',\n",
       " 'AMT_FHA',\n",
       " 'PCT_AMT_FHA',\n",
       " 'GEOID']"
      ]
     },
     "execution_count": 140,
     "metadata": {},
     "output_type": "execute_result"
    }
   ],
   "source": [
    "[col for col in df]"
   ]
  },
  {
   "cell_type": "markdown",
   "metadata": {},
   "source": [
    "Often you will need to loop through data in a DataFrame. Rather than use a `for` loop, you can convert a DataFrame into an iterator of your choosing.\n",
    "\n",
    "The `iterrows` method creates an iterator that returns tuples of the index value and its row of data as a Pandas Series."
   ]
  },
  {
   "cell_type": "code",
   "execution_count": 141,
   "metadata": {},
   "outputs": [],
   "source": [
    "year2016 = pd.date_range(start='1/1/2016', end='12/31/2016')\n",
    "\n",
    "daily_data_df = pd.DataFrame(np.random.rand(len(year2016)), index=year2016, columns=['random'])"
   ]
  },
  {
   "cell_type": "code",
   "execution_count": 142,
   "metadata": {},
   "outputs": [
    {
     "data": {
      "text/plain": [
       "(Timestamp('2016-01-01 00:00:00', freq='D'), random    0.713639\n",
       " Name: 2016-01-01 00:00:00, dtype: float64)"
      ]
     },
     "execution_count": 142,
     "metadata": {},
     "output_type": "execute_result"
    }
   ],
   "source": [
    "list(daily_data_df.iterrows())[0]"
   ]
  },
  {
   "cell_type": "markdown",
   "metadata": {},
   "source": [
    "The `iteritems` method is similar except it iterates over columns, not rows."
   ]
  },
  {
   "cell_type": "code",
   "execution_count": 143,
   "metadata": {},
   "outputs": [
    {
     "data": {
      "text/plain": [
       "('random', 2016-01-01    0.713639\n",
       " 2016-01-02    0.173673\n",
       " 2016-01-03    0.896073\n",
       " 2016-01-04    0.345507\n",
       " 2016-01-05    0.019555\n",
       " 2016-01-06    0.306344\n",
       " 2016-01-07    0.355899\n",
       " 2016-01-08    0.518088\n",
       " 2016-01-09    0.535162\n",
       " 2016-01-10    0.206718\n",
       " 2016-01-11    0.043380\n",
       " 2016-01-12    0.959088\n",
       " 2016-01-13    0.887325\n",
       " 2016-01-14    0.917477\n",
       " 2016-01-15    0.766248\n",
       " 2016-01-16    0.503007\n",
       " 2016-01-17    0.579174\n",
       " 2016-01-18    0.856537\n",
       " 2016-01-19    0.129920\n",
       " 2016-01-20    0.557521\n",
       " 2016-01-21    0.839751\n",
       " 2016-01-22    0.983198\n",
       " 2016-01-23    0.247908\n",
       " 2016-01-24    0.564769\n",
       " 2016-01-25    0.215239\n",
       " 2016-01-26    0.243577\n",
       " 2016-01-27    0.593332\n",
       " 2016-01-28    0.499474\n",
       " 2016-01-29    0.472592\n",
       " 2016-01-30    0.930371\n",
       "                 ...   \n",
       " 2016-12-02    0.890961\n",
       " 2016-12-03    0.248532\n",
       " 2016-12-04    0.652425\n",
       " 2016-12-05    0.703108\n",
       " 2016-12-06    0.863308\n",
       " 2016-12-07    0.123178\n",
       " 2016-12-08    0.441710\n",
       " 2016-12-09    0.003414\n",
       " 2016-12-10    0.550291\n",
       " 2016-12-11    0.536062\n",
       " 2016-12-12    0.759324\n",
       " 2016-12-13    0.394035\n",
       " 2016-12-14    0.375252\n",
       " 2016-12-15    0.516993\n",
       " 2016-12-16    0.816658\n",
       " 2016-12-17    0.298676\n",
       " 2016-12-18    0.876747\n",
       " 2016-12-19    0.122861\n",
       " 2016-12-20    0.914316\n",
       " 2016-12-21    0.702242\n",
       " 2016-12-22    0.368768\n",
       " 2016-12-23    0.170802\n",
       " 2016-12-24    0.200161\n",
       " 2016-12-25    0.870853\n",
       " 2016-12-26    0.278559\n",
       " 2016-12-27    0.295440\n",
       " 2016-12-28    0.215890\n",
       " 2016-12-29    0.684697\n",
       " 2016-12-30    0.247844\n",
       " 2016-12-31    0.235823\n",
       " Freq: D, Name: random, Length: 366, dtype: float64)"
      ]
     },
     "execution_count": 143,
     "metadata": {},
     "output_type": "execute_result"
    }
   ],
   "source": [
    "list(daily_data_df.iteritems())[0]"
   ]
  },
  {
   "cell_type": "markdown",
   "metadata": {},
   "source": [
    "Finally, `itertuples`. This method returns each row as a tuple. Including the index value in that tuple is optional."
   ]
  },
  {
   "cell_type": "code",
   "execution_count": 144,
   "metadata": {},
   "outputs": [
    {
     "data": {
      "text/plain": [
       "(Timestamp('2016-01-01 00:00:00', freq='D'), 0.7136390414043855)"
      ]
     },
     "execution_count": 144,
     "metadata": {},
     "output_type": "execute_result"
    }
   ],
   "source": [
    "list(daily_data_df.itertuples(index=True, name=None))[0]"
   ]
  },
  {
   "cell_type": "code",
   "execution_count": null,
   "metadata": {},
   "outputs": [],
   "source": []
  },
  {
   "cell_type": "markdown",
   "metadata": {},
   "source": [
    "### Exercises\n"
   ]
  },
  {
   "cell_type": "markdown",
   "metadata": {},
   "source": [
    "1. Find a CSV file somewhere on the Internet that contains data that interests you. Open the file with the Pandas `read_csv` function and plot the data.\n",
    "1. Create a Pandas Timestamp for the day you were born and for today's date. How many days old are you? Seconds? Milliseconds?"
   ]
  },
  {
   "cell_type": "markdown",
   "metadata": {},
   "source": [
    "### Exit Tickets\n"
   ]
  },
  {
   "cell_type": "markdown",
   "metadata": {},
   "source": [
    "1. What is a Pandas DataFrame?\n",
    "1. What is a DataFrame index? How does it differ from a regular DataFrame column?\n"
   ]
  },
  {
   "cell_type": "markdown",
   "metadata": {},
   "source": [
    "*Copyright &copy; 2015 The Data Incubator.  All rights reserved.*"
   ]
  }
 ],
 "metadata": {
  "kernelspec": {
   "display_name": "Python 2",
   "language": "python",
   "name": "python2"
  },
  "language_info": {
   "codemirror_mode": {
    "name": "ipython",
    "version": 2
   },
   "file_extension": ".py",
   "mimetype": "text/x-python",
   "name": "python",
   "nbconvert_exporter": "python",
   "pygments_lexer": "ipython2",
   "version": "2.7.15"
  },
  "nbclean": true
 },
 "nbformat": 4,
 "nbformat_minor": 1
}
